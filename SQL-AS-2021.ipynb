{
    "metadata": {
        "kernelspec": {
            "name": "SQL",
            "display_name": "SQL",
            "language": "sql"
        },
        "language_info": {
            "name": "sql",
            "version": ""
        },
        "extensions": {
            "azuredatastudio": {
                "version": 1,
                "views": []
            }
        }
    },
    "nbformat_minor": 2,
    "nbformat": 4,
    "cells": [
        {
            "cell_type": "markdown",
            "source": [
                "# SQL Avancé\n",
                "\n",
                "## Révisions\n",
                "\n",
                "\\- Schémas\n",
                "\n",
                "\\- Création de table\n",
                "\n",
                "## Schémas\n",
                "\n",
                "Un schéma permet de grouper des tables de même nature pour gérer les permissions plus efficacement.\n",
                "\n",
                "  \n",
                "\n",
                "Traditionnellement on va avoir deux schémas différents :\n",
                "\n",
                "\\- data --\\> Lecture écriture\n",
                "\n",
                "\\- ref --\\> Lecture seule"
            ],
            "metadata": {
                "azdata_cell_guid": "a8f7a58f-a328-4a3f-9001-4e309f587f1e",
                "extensions": {
                    "azuredatastudio": {
                        "views": []
                    }
                }
            },
            "attachments": {}
        },
        {
            "cell_type": "code",
            "source": [
                "IF (EXISTS (\r\n",
                "        SELECT [name]\r\n",
                "        FROM [master].[sys].[databases]\r\n",
                "        WHERE [name] = 'Forum'))\r\n",
                "            DROP DATABASE [Forum]\r\n",
                "\r\n",
                "CREATE DATABASE [Forum]\r\n",
                "\r\n",
                "GO\r\n",
                "\r\n",
                "USE [Forum]"
            ],
            "metadata": {
                "azdata_cell_guid": "1b5c08b7-0444-4d3c-8109-8d2995272080",
                "extensions": {
                    "azuredatastudio": {
                        "views": []
                    }
                },
                "tags": []
            },
            "outputs": [],
            "execution_count": null
        },
        {
            "cell_type": "code",
            "source": [
                "CREATE SCHEMA [data]\r\n",
                "GO\r\n",
                "CREATE SCHEMA [ref]\r\n",
                "GO"
            ],
            "metadata": {
                "azdata_cell_guid": "8a46b975-6b7b-4680-8a8d-f6f665a82337",
                "extensions": {
                    "azuredatastudio": {
                        "views": []
                    }
                }
            },
            "outputs": [],
            "execution_count": null
        },
        {
            "cell_type": "markdown",
            "source": [
                "# Création de table"
            ],
            "metadata": {
                "azdata_cell_guid": "fafdf76e-500b-49a1-89bc-bc92418a3c37"
            },
            "attachments": {}
        },
        {
            "cell_type": "code",
            "source": [
                "CREATE Table [data].[Utilisateur_UTL] (\r\n",
                "    [Id] BIGINT NOT NULL PRIMARY KEY IDENTITY(1,1)\r\n",
                "\r\n",
                ")"
            ],
            "metadata": {
                "azdata_cell_guid": "17d528b6-2a59-4fac-9d39-dd78123d8ecf"
            },
            "outputs": [],
            "execution_count": null
        }
    ]
}