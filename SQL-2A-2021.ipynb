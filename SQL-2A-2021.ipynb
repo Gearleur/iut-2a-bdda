{
    "metadata": {
        "kernelspec": {
            "name": "SQL",
            "display_name": "SQL",
            "language": "sql"
        },
        "language_info": {
            "name": "sql",
            "version": ""
        },
        "extensions": {
            "azuredatastudio": {
                "version": 1,
                "views": []
            }
        }
    },
    "nbformat_minor": 2,
    "nbformat": 4,
    "cells": [
        {
            "cell_type": "markdown",
            "source": [
                "# SQL Avancé\n",
                "\n",
                "Nous utiliserons le dialecte Transact-SQL (T-SQL) : [https://docs.microsoft.com/fr-fr/sql/t-sql/language-reference?view=sql-server-ver15](https://docs.microsoft.com/fr-fr/sql/t-sql/language-reference?view=sql-server-ver15)  \n",
                "\n",
                "## Révisions\n",
                "\n",
                "\\- Schémas\n",
                "\n",
                "\\- Création de table\n",
                "\n",
                "> \\- Clé primaire\n",
                "> \n",
                "> \\- Clé étrangère\n",
                "> \n",
                "> \\- Unicité\n",
                "\n",
                "## Création de base"
            ],
            "metadata": {
                "azdata_cell_guid": "0ce0c1dd-bf55-4673-baa7-2f6e67ee2bcc"
            },
            "attachments": {}
        },
        {
            "cell_type": "code",
            "source": [
                "-- On supprime et on re-créé tout\r\n",
                "IF (EXISTS (SELECT [name] FROM [master].[sys].[databases] WHERE [name] = 'Kiosque'))\r\n",
                "    DROP DATABASE [Kiosque]\r\n",
                "\r\n",
                "CREATE DATABASE [Kiosque]\r\n",
                "\r\n",
                "GO\r\n",
                "\r\n",
                "USE [Kiosque]"
            ],
            "metadata": {
                "azdata_cell_guid": "b74a05c1-0513-44c0-aaf1-19643b44eca9",
                "tags": []
            },
            "outputs": [],
            "execution_count": null
        },
        {
            "cell_type": "markdown",
            "source": [
                "## Schémas\n",
                "\n",
                "\\- ref\n",
                "\n",
                "\\- data\n",
                "\n",
                "Un schéma -\\> regroupement d'éléments SQL (Tables, Vuews, ..) pour faciliter la gestion de permissions"
            ],
            "metadata": {
                "azdata_cell_guid": "ec88302c-da39-4127-ab1a-6120981c3409"
            },
            "attachments": {}
        },
        {
            "cell_type": "code",
            "source": [
                "CREATE SCHEMA [data]\r\n",
                "\r\n",
                "GO\r\n",
                "\r\n",
                "CREATE SCHEMA [ref]\r\n",
                "\r\n",
                "GO"
            ],
            "metadata": {
                "azdata_cell_guid": "7088c958-79d5-4028-9c4a-3ec18996b7fe"
            },
            "outputs": [],
            "execution_count": null
        },
        {
            "cell_type": "markdown",
            "source": [
                "## Création de Tables"
            ],
            "metadata": {
                "azdata_cell_guid": "dcb9bf15-669d-43d8-8249-196190f8d327"
            },
            "attachments": {}
        },
        {
            "cell_type": "code",
            "source": [
                "CREATE TABLE [data].[Utilisateur_UTL] (\r\n",
                "    [Id] UNIQUEIDENTIFIER NOT NULL PRIMARY KEY DEFAULT NEWID(),\r\n",
                "    [Login] NVARCHAR(50) NOT NULL UNIQUE,\r\n",
                "    [Email] NVARCHAR(255) NOT NULL UNIQUE,\r\n",
                "    [Actif] BIT NOT NULL DEFAULT 0\r\n",
                ")"
            ],
            "metadata": {
                "azdata_cell_guid": "2b9213e5-d63a-46d5-bb07-8af1040cd76b",
                "tags": []
            },
            "outputs": [],
            "execution_count": null
        },
        {
            "cell_type": "code",
            "source": [
                "CREATE TABLE [ref].[Role_ROL] (\r\n",
                "    [Id] TINYINT NOT NULL PRIMARY KEY IDENTITY(1, 1),\r\n",
                "    [Key] CHAR(10) NOT NULL,\r\n",
                "    [Description] NVARCHAR(100) NOT NULL\r\n",
                ")"
            ],
            "metadata": {
                "azdata_cell_guid": "da453846-7d6c-4779-a5e9-6ae7ca44af6c",
                "tags": []
            },
            "outputs": [],
            "execution_count": null
        },
        {
            "cell_type": "code",
            "source": [
                "CREATE TABLE [data].[RoleUtilisateur_RUL] (\r\n",
                "    [ROL_Id] TINYINT NOT NULL,\r\n",
                "    [UTL_Id] UNIQUEIDENTIFIER NOT NULL,\r\n",
                "    CONSTRAINT [pk_rol_utl] PRIMARY KEY ([ROL_Id], [UTL_Id]),\r\n",
                "    CONSTRAINT [fk_RUL_ROL] FOREIGN KEY ([ROL_Id]) REFERENCES [ref].[Role_ROL]([Id]),\r\n",
                "    CONSTRAINT [fk_RUL_UTL] FOREIGN KEY ([UTL_Id]) REFERENCES [data].[Utilisateur_UTL]([Id])\r\n",
                ")"
            ],
            "metadata": {
                "azdata_cell_guid": "356a36e2-f046-4755-85a3-0f3d3886a83f"
            },
            "outputs": [],
            "execution_count": null
        },
        {
            "cell_type": "markdown",
            "source": [
                "## Modification de tables"
            ],
            "metadata": {
                "azdata_cell_guid": "36bfeca5-a63a-4205-b215-f4ce56b0d9f4"
            },
            "attachments": {}
        },
        {
            "cell_type": "code",
            "source": [
                "ALTER TABLE [data].[Utilisateur_UTL]\r\n",
                "    ADD [MotDePasse] NVARCHAR(512) NULL"
            ],
            "metadata": {
                "azdata_cell_guid": "d8d48510-7b4e-4c76-80a8-a60c7096e86d"
            },
            "outputs": [],
            "execution_count": null
        },
        {
            "cell_type": "code",
            "source": [
                "CREATE TABLE [ref].[Permission_PER] (\r\n",
                "    [Id] INT IDENTITY(1,1) NOT NULL,\r\n",
                "    [Nom] NVARCHAR(25) NOT NULL,\r\n",
                "    [Description] NVARCHAR(256) NULL\r\n",
                ")"
            ],
            "metadata": {
                "azdata_cell_guid": "1c60c619-8dd7-494b-9c27-312b876ea290"
            },
            "outputs": [],
            "execution_count": null
        },
        {
            "cell_type": "code",
            "source": [
                "ALTER TABLE [ref].[Permission_PER]\r\n",
                "    ADD CONSTRAINT [PK_PER] PRIMARY KEY ([Id])"
            ],
            "metadata": {
                "azdata_cell_guid": "bdd12eed-7827-4e2a-b51b-bc1c2a13f5c7"
            },
            "outputs": [],
            "execution_count": null
        },
        {
            "cell_type": "markdown",
            "source": [
                "## Opréations CRUD\n",
                "\n",
                "Create, Read, Update, Delete\n",
                "\n",
                "  \n",
                "\n",
                "Create -\\>  INSERT\n",
                "\n",
                "Read -\\> SELECT\n",
                "\n",
                "Update -\\> UPDATE\n",
                "\n",
                "Delete -\\> DELETE"
            ],
            "metadata": {
                "azdata_cell_guid": "9a0b6ef5-a36e-4a87-9997-632acbeecb55"
            },
            "attachments": {}
        },
        {
            "cell_type": "code",
            "source": [
                "INSERT INTO [ref].[Role_ROL] ([Key], [Description])\r\n",
                "VALUES\r\n",
                "    ('admin', N'Administrateur'),\r\n",
                "    ('guest', N'Visiteur'),\r\n",
                "    ('market', N'Marketing')"
            ],
            "metadata": {
                "azdata_cell_guid": "aa7a4fa7-82b0-494f-9774-bac22c7cfc4d"
            },
            "outputs": [],
            "execution_count": null
        },
        {
            "cell_type": "code",
            "source": [
                "INSERT INTO [ref].[Role_ROL] ([Key], [Description])\r\n",
                "VALUES\r\n",
                "    ('guest', N'Autre visiteur')"
            ],
            "metadata": {
                "azdata_cell_guid": "dab5ddbe-3a2d-498f-a794-4753e4ba2804"
            },
            "outputs": [],
            "execution_count": null
        },
        {
            "cell_type": "code",
            "source": [
                "SELECT [Id], [Key], [Description] FROM [ref].[Role_ROL]"
            ],
            "metadata": {
                "azdata_cell_guid": "3681f150-0639-4d8c-b8cb-decbe0c08ccd"
            },
            "outputs": [],
            "execution_count": null
        },
        {
            "cell_type": "code",
            "source": [
                "DELETE FROM [ref].[Role_ROL]\r\n",
                "WHERE [Id] IN (\r\n",
                "    SELECT [Id]FROM [ref].[Role_ROL]\r\n",
                "    WHERE [Description] = N'Autre visiteur'\r\n",
                ")\r\n",
                "\r\n",
                "SELECT [Id], [Key], [Description] FROM [ref].[Role_ROL]"
            ],
            "metadata": {
                "azdata_cell_guid": "319db380-b018-4386-acf6-358717f8c878"
            },
            "outputs": [],
            "execution_count": null
        },
        {
            "cell_type": "code",
            "source": [
                "ALTER TABLE [ref].[Role_ROL]\r\n",
                "    ADD [ROL_Key] AS LOWER([Key]),\r\n",
                "    CONSTRAINT [uq_key] UNIQUE([ROL_Key])"
            ],
            "metadata": {
                "azdata_cell_guid": "b6c39034-7324-4370-9e98-b753e6d0caef"
            },
            "outputs": [],
            "execution_count": null
        },
        {
            "cell_type": "code",
            "source": [
                "--INSERT INTO [ref].[Role_ROL] ([Key], [Description])\r\n",
                "--VALUES\r\n",
                "--    ('guest', N'Autre visiteur')"
            ],
            "metadata": {
                "azdata_cell_guid": "8952edff-bbf5-46a9-9ebc-1446154dfab4"
            },
            "outputs": [],
            "execution_count": null
        },
        {
            "cell_type": "code",
            "source": [
                "UPDATE [ref].[Role_ROL]\r\n",
                "SET [Description] = CONCAT(N'Utilisateur ', LOWER([Description]))\r\n",
                "\r\n",
                "SELECT [Id], [Key], [Description] FROM [ref].[Role_ROL]"
            ],
            "metadata": {
                "azdata_cell_guid": "a6a256d2-5d8e-4d2a-a5aa-e795758dc995"
            },
            "outputs": [],
            "execution_count": null
        },
        {
            "cell_type": "code",
            "source": [
                "INSERT INTO [data].[Utilisateur_UTL] ([Login], [Email], [Actif])\r\n",
                "VALUES\r\n",
                "    (N'alice', N'alice@u-picardie.fr', 1),\r\n",
                "    (N'bob', N'bob@u-picardie.fr', 1),\r\n",
                "    (N'carl', N'carl@u-picardie.fr', 0)\r\n",
                "\r\n",
                "GO\r\n",
                "\r\n",
                "DECLARE @UtlId UNIQUEIDENTIFIER\r\n",
                "DECLARE @RolId TINYINT\r\n",
                "\r\n",
                "SELECT TOP 1 @UtlId = [Id]\r\n",
                "FROM [data].[Utilisateur_UTL] (NOLOCK)\r\n",
                "WHERE [Login] = 'alice'\r\n",
                "\r\n",
                "SELECT TOP 1 @RolId = [Id]\r\n",
                "FROM [ref].[Role_ROL] (NOLOCK)\r\n",
                "WHERE [ROL_Key] = 'admin'\r\n",
                "\r\n",
                "INSERT INTO [data].[RoleUtilisateur_RUL]([UTL_Id], [ROL_Id])\r\n",
                "SELECT @UtlId AS [UTL_Id], @RolId AS [ROL_Id]\r\n",
                ""
            ],
            "metadata": {
                "azdata_cell_guid": "6991da69-b7d2-43b6-8c2f-65cbb3f45cef"
            },
            "outputs": [],
            "execution_count": null
        },
        {
            "cell_type": "markdown",
            "source": [
                "Pour la prochaine séance :\n",
                "\n",
                "\\- Ajouter le rôle Marketing à Alice\n",
                "\n",
                "\\- Ajouter le rôle Marketing à Bob\n",
                "\n",
                "\\- Ajouter le rôle Guest à Carl"
            ],
            "metadata": {
                "azdata_cell_guid": "9d632b7e-7b4a-427c-9b0d-ea45192b6568"
            },
            "attachments": {}
        },
        {
            "cell_type": "code",
            "source": [
                "\r\n",
                "DECLARE @AliceId UNIQUEIDENTIFIER\r\n",
                "DECLARE @BobId UNIQUEIDENTIFIER\r\n",
                "DECLARE @CarlId UNIQUEIDENTIFIER\r\n",
                "DECLARE @MarketId TINYINT\r\n",
                "DECLARE @GuestId TINYINT\r\n",
                "\r\n",
                "SELECT TOP 1 @AliceId = [Id]\r\n",
                "FROM [data].[Utilisateur_UTL] (NOLOCK)\r\n",
                "WHERE [Login] = 'alice'\r\n",
                "\r\n",
                "SELECT TOP 1 @BobId = [Id]\r\n",
                "FROM [data].[Utilisateur_UTL] (NOLOCK)\r\n",
                "WHERE [Login] = 'bob'\r\n",
                "\r\n",
                "SELECT TOP 1 @CarlId = [Id]\r\n",
                "FROM [data].[Utilisateur_UTL] (NOLOCK)\r\n",
                "WHERE [Login] = 'carl'\r\n",
                "\r\n",
                "SELECT TOP 1 @MarketId = [Id]\r\n",
                "FROM [ref].[Role_ROL] (NOLOCK)\r\n",
                "WHERE [ROL_Key] = 'market'\r\n",
                "\r\n",
                "SELECT TOP 1 @GuestId = [Id]\r\n",
                "FROM [ref].[Role_ROL] (NOLOCK)\r\n",
                "WHERE [ROL_Key] = 'guest'\r\n",
                "\r\n",
                "INSERT INTO [data].[RoleUtilisateur_RUL]([UTL_Id], [ROL_Id])\r\n",
                "SELECT @AliceId AS [UTL_Id], @MarketId AS [ROL_Id]\r\n",
                "\r\n",
                "INSERT INTO [data].[RoleUtilisateur_RUL]([UTL_Id], [ROL_Id])\r\n",
                "SELECT @BobId AS [UTL_Id], @MarketId AS [ROL_Id]\r\n",
                "\r\n",
                "INSERT INTO [data].[RoleUtilisateur_RUL]([UTL_Id], [ROL_Id])\r\n",
                "SELECT @CarlId AS [UTL_Id], @GuestId AS [ROL_Id]\r\n",
                ""
            ],
            "metadata": {
                "azdata_cell_guid": "06c350db-0dc1-4894-8f42-d055df46f320"
            },
            "outputs": [],
            "execution_count": null
        },
        {
            "cell_type": "markdown",
            "source": [
                "Créer une table de liaison PermissionRole\\_PRO entre Role et permission (schéma ref)\n",
                "\n",
                "Ajouter trois permissions : \n",
                "\n",
                "\\- CREATE\\_CONTENT\n",
                "\n",
                "\\- READ\\_CONTENT\n",
                "\n",
                "\\- EDIT\\_CONTENT\n",
                "\n",
                "Les liées au rôle admin\n",
                "\n",
                "Lier uniquement READ\\_CONTENT et EDIT\\_CONTENT au rôle marketing\n",
                "\n",
                "Lier READ\\_CONTENT au rôle guest"
            ],
            "metadata": {
                "azdata_cell_guid": "66ae93a4-bac2-4fae-88ef-9911a847cb79"
            },
            "attachments": {}
        },
        {
            "cell_type": "code",
            "source": [
                "CREATE TABLE [ref].[PermissionRole_PRO] (\r\n",
                "    [ROL_Id] TINYINT NOT NULL,\r\n",
                "    [PER_Id] INT NOT NULL,\r\n",
                "    CONSTRAINT [pk_rol_per] PRIMARY KEY ([ROL_Id], [PER_Id]),\r\n",
                "    CONSTRAINT [fk_PRO_ROL] FOREIGN KEY ([ROL_Id]) REFERENCES [ref].[Role_ROL]([Id]),\r\n",
                "    CONSTRAINT [fk_PRO_PER] FOREIGN KEY ([PER_Id]) REFERENCES [ref].[Permission_PER]([Id])\r\n",
                ")"
            ],
            "metadata": {
                "azdata_cell_guid": "ea84fa95-2249-449f-85c8-fad8d8916d06"
            },
            "outputs": [],
            "execution_count": null
        },
        {
            "cell_type": "code",
            "source": [
                "INSERT INTO [ref].[Permission_PER] ([Nom], [Description])\r\n",
                "VALUES\r\n",
                "    (N'CREATE_CONTENT', N'Permission de créer du contenu'),\r\n",
                "    (N'READ_CONTENT', N'Permission de consulter le contenu'),\r\n",
                "    (N'EDIT_CONTENT', N'Permission d''éditer du contenu')"
            ],
            "metadata": {
                "azdata_cell_guid": "5e35287d-3a57-429f-8c34-2680585f3602"
            },
            "outputs": [],
            "execution_count": null
        },
        {
            "cell_type": "code",
            "source": [
                "DECLARE @AdminId TINYINT\r\n",
                "DECLARE @MarketId TINYINT\r\n",
                "DECLARE @GuestId TINYINT\r\n",
                "\r\n",
                "SELECT TOP 1 @AdminId = [Id] FROM [ref].[Role_ROL] (NOLOCK) WHERE [ROL_Key] = 'admin'\r\n",
                "SELECT TOP 1 @MarketId = [Id] FROM [ref].[Role_ROL] (NOLOCK) WHERE [ROL_Key] = 'market'\r\n",
                "SELECT TOP 1 @GuestId = [Id] FROM [ref].[Role_ROL] (NOLOCK) WHERE [ROL_Key] = 'guest'\r\n",
                "\r\n",
                "INSERT INTO [ref].[PermissionRole_PRO] ([ROL_Id], [PER_Id])\r\n",
                "SELECT @AdminId, [Id] FROM [ref].[Permission_PER] (NOLOCK)\r\n",
                "WHERE [Nom] IN (N'CREATE_CONTENT', N'READ_CONTENT', N'EDIT_CONTENT')\r\n",
                "\r\n",
                "INSERT INTO [ref].[PermissionRole_PRO] ([ROL_Id], [PER_Id])\r\n",
                "SELECT @MarketId, [Id] FROM [ref].[Permission_PER] (NOLOCK)\r\n",
                "WHERE [Nom] IN (N'READ_CONTENT', N'EDIT_CONTENT')\r\n",
                "\r\n",
                "INSERT INTO [ref].[PermissionRole_PRO] ([ROL_Id], [PER_Id])\r\n",
                "SELECT @GuestId, [Id] FROM [ref].[Permission_PER] (NOLOCK)\r\n",
                "WHERE [Nom] IN (N'READ_CONTENT')"
            ],
            "metadata": {
                "azdata_cell_guid": "c87c0fef-0683-4b5f-9314-4a0ae7335971",
                "tags": []
            },
            "outputs": [],
            "execution_count": null
        },
        {
            "cell_type": "markdown",
            "source": [
                "![Jointures SQL](https://i.pinimg.com/originals/78/06/27/78062746cee62bdc112aad0582ae49c4.jpg)"
            ],
            "metadata": {
                "azdata_cell_guid": "88146cd7-560c-439a-8725-7d4ffdf80fba"
            }
        },
        {
            "cell_type": "markdown",
            "source": [
                "Récupérer les utilsateurs avec la permission READ\\_CONTENT\n",
                "\n",
                "Puis Récupérer les utlisateurs avec la permission EDIT\\_CONTENT"
            ],
            "metadata": {
                "azdata_cell_guid": "31b97be9-cc3e-461f-8785-beff9b9c08e9"
            },
            "attachments": {}
        },
        {
            "cell_type": "code",
            "source": [
                "SELECT DISTINCT [UTL].[Login]\r\n",
                "    FROM [data].[Utilisateur_UTL] AS [UTL] (NOLOCK)\r\n",
                "\r\n",
                "INNER JOIN [data].[RoleUtilisateur_RUL] AS [RUL] (NOLOCK)\r\n",
                "    ON [RUL].[UTL_Id] = [UTL].[Id]\r\n",
                "\r\n",
                "INNER JOIN [ref].[Role_ROL] AS [ROL] (NOLOCK)\r\n",
                "    ON [ROL].[Id] = [RUL].[ROL_Id]\r\n",
                "\r\n",
                "INNER JOIN [ref].[PermissionRole_PRO] AS [PRO] (NOLOCK)\r\n",
                "    ON [PRO].[ROL_Id] = [ROL].[Id]\r\n",
                "\r\n",
                "INNER JOIN [ref].[Permission_PER] AS [PER] (NOLOCK)\r\n",
                "    ON [PER].[Id] = [PRO].[PER_Id]\r\n",
                "\r\n",
                "WHERE [PER].[Nom] = N'READ_CONTENT'"
            ],
            "metadata": {
                "azdata_cell_guid": "b4e6c6ef-603d-4ba1-ac12-bd2553620d4b",
                "tags": []
            },
            "outputs": [],
            "execution_count": null
        },
        {
            "cell_type": "code",
            "source": [
                "SELECT DISTINCT [UTL].[Login]\r\n",
                "    FROM [data].[Utilisateur_UTL] AS [UTL] (NOLOCK)\r\n",
                "INNER JOIN [data].[RoleUtilisateur_RUL] AS [RUL] (NOLOCK)\r\n",
                "    ON [RUL].[UTL_Id] = [UTL].[Id]\r\n",
                "INNER JOIN [ref].[Role_ROL] AS [ROL] (NOLOCK)\r\n",
                "    ON [ROL].[Id] = [RUL].[ROL_Id]\r\n",
                "INNER JOIN [ref].[PermissionRole_PRO] AS [PRO] (NOLOCK)\r\n",
                "    ON [PRO].[ROL_Id] = [ROL].[Id]\r\n",
                "INNER JOIN [ref].[Permission_PER] AS [PER] (NOLOCK)\r\n",
                "    ON [PER].[Id] = [PRO].[PER_Id]\r\n",
                "WHERE [PER].[Nom] = N'EDIT_CONTENT'"
            ],
            "metadata": {
                "azdata_cell_guid": "7c3ab221-9479-420b-8b6a-d10124f8a9c6"
            },
            "outputs": [],
            "execution_count": null
        },
        {
            "cell_type": "markdown",
            "source": [
                "## Vues et Index"
            ],
            "metadata": {
                "azdata_cell_guid": "cadce3c5-a01d-4220-a4e5-d3c4120799c7"
            },
            "attachments": {}
        },
        {
            "cell_type": "code",
            "source": [
                "CREATE OR ALTER VIEW [data].[view_PermissionUtilisateur]\r\n",
                "AS\r\n",
                "SELECT DISTINCT [UTL].[Id] AS [UTL_Id], [UTL].[Login]\r\n",
                "              , [PER].[Id] AS [PER_Id], [PER].[Nom] AS [Permission]\r\n",
                "    FROM [data].[Utilisateur_UTL] AS [UTL] (NOLOCK)\r\n",
                "\r\n",
                "INNER JOIN [data].[RoleUtilisateur_RUL] AS [RUL] (NOLOCK)\r\n",
                "    ON [RUL].[UTL_Id] = [UTL].[Id]\r\n",
                "\r\n",
                "INNER JOIN [ref].[Role_ROL] AS [ROL] (NOLOCK)\r\n",
                "    ON [ROL].[Id] = [RUL].[ROL_Id]\r\n",
                "\r\n",
                "INNER JOIN [ref].[PermissionRole_PRO] AS [PRO] (NOLOCK)\r\n",
                "    ON [PRO].[ROL_Id] = [ROL].[Id]\r\n",
                "\r\n",
                "INNER JOIN [ref].[Permission_PER] AS [PER] (NOLOCK)\r\n",
                "    ON [PER].[Id] = [PRO].[PER_Id]\r\n",
                "\r\n",
                "WHERE [UTL].[Actif] = 1"
            ],
            "metadata": {
                "azdata_cell_guid": "1204e02c-6a58-459e-a85d-61ceef658744"
            },
            "outputs": [],
            "execution_count": null
        },
        {
            "cell_type": "code",
            "source": [
                "SELECT [UTL_Id], [Login], [PER_Id], [Permission] FROM [data].[view_PermissionUtilisateur]"
            ],
            "metadata": {
                "azdata_cell_guid": "c0da1b2c-fb3b-4eaa-a049-444cf4c49650"
            },
            "outputs": [],
            "execution_count": null
        },
        {
            "cell_type": "code",
            "source": [
                "CREATE INDEX [IDX_UtlId_By_Login]\r\n",
                "ON [data].[Utilisateur_UTL] ([Login], [Id])"
            ],
            "metadata": {
                "azdata_cell_guid": "18437ca7-1a95-4481-b076-76f0201d08c3"
            },
            "outputs": [],
            "execution_count": null
        },
        {
            "cell_type": "code",
            "source": [
                "CREATE OR ALTER VIEW [data].[view_RoleUtilisateur]\r\n",
                "WITH SCHEMABINDING\r\n",
                "AS\r\n",
                "SELECT [UTL].[Id] AS [UTL_Id], [UTL].[Login]\r\n",
                "              , [ROL].[Id] AS [ROL_Id], [ROL].[Key] AS [Role]\r\n",
                "    FROM [data].[Utilisateur_UTL] AS [UTL]\r\n",
                "\r\n",
                "INNER JOIN [data].[RoleUtilisateur_RUL] AS [RUL]\r\n",
                "    ON [RUL].[UTL_Id] = [UTL].[Id]\r\n",
                "\r\n",
                "INNER JOIN [ref].[Role_ROL] AS [ROL]\r\n",
                "    ON [ROL].[Id] = [RUL].[ROL_Id]\r\n",
                "\r\n",
                "WHERE [UTL].[Actif] = 1"
            ],
            "metadata": {
                "azdata_cell_guid": "f1ba5af9-23ba-451f-8514-f2ab0e341cb6"
            },
            "outputs": [],
            "execution_count": null
        },
        {
            "cell_type": "code",
            "source": [
                "CREATE UNIQUE CLUSTERED INDEX [IDX_RoleUtilisateur_By_UtlId]\r\n",
                "ON [data].[view_RoleUtilisateur] ([UTL_Id], [Role])"
            ],
            "metadata": {
                "azdata_cell_guid": "86d52d46-8251-4650-a72f-ec75e728e543"
            },
            "outputs": [],
            "execution_count": null
        },
        {
            "cell_type": "code",
            "source": [
                "CREATE UNIQUE INDEX [IDX_RoleUtilisateur_By_UtlLogin]\r\n",
                "ON [data].[view_RoleUtilisateur] ([Login], [Role])"
            ],
            "metadata": {
                "azdata_cell_guid": "b768305b-dba7-469d-876a-8465e9f38cb8"
            },
            "outputs": [],
            "execution_count": null
        },
        {
            "cell_type": "markdown",
            "source": [
                "# Fonctions\n",
                "\n",
                "2 types :\n",
                "\n",
                "\\- Natives\n",
                "\n",
                "\\- UDF (User Defined Functions)"
            ],
            "metadata": {
                "azdata_cell_guid": "0df612a6-6567-4554-a7a4-de7fbe48a0c9"
            },
            "attachments": {}
        },
        {
            "cell_type": "code",
            "source": [
                "SELECT TOP 1\r\n",
                "    GETDATE() AS [Date],\r\n",
                "    DATEADD(DAY, 2, GETDATE()) AS [Après demain],\r\n",
                "    DATEDIFF(DAY, DATEADD(MONTH, 2, GETDATE()), GETDATE()) AS [Diff deux mois],\r\n",
                "    CONCAT([Login], '@', 'u-picardie.fr') AS [Email],\r\n",
                "    COALESCE(null, 'Test') AS [Coalesce]\r\n",
                "FROM [data].[Utilisateur_UTL]"
            ],
            "metadata": {
                "azdata_cell_guid": "aead9ee2-c0a5-4aad-99df-6c9ea74207f1"
            },
            "outputs": [],
            "execution_count": null
        },
        {
            "cell_type": "code",
            "source": [
                "CREATE FUNCTION [data].[fun_CountRolesForLogin](@Login NVARCHAR(50))\r\n",
                "RETURNS INT\r\n",
                "AS\r\n",
                "BEGIN\r\n",
                "    DECLARE @Retour INT\r\n",
                "\r\n",
                "    SELECT @Retour = COUNT(*)\r\n",
                "    FROM [data].[view_RoleUtilisateur]\r\n",
                "    WHERE [Login] = @Login\r\n",
                "\r\n",
                "    RETURN @Retour\r\n",
                "END"
            ],
            "metadata": {
                "azdata_cell_guid": "3fde4d5a-8893-4a1f-bbdc-00bfa4739fea"
            },
            "outputs": [],
            "execution_count": null
        },
        {
            "cell_type": "code",
            "source": [
                "SELECT [data].[fun_CountRolesForLogin](N'alice')"
            ],
            "metadata": {
                "azdata_cell_guid": "778ba620-d2ce-4f59-b446-df730708c26b"
            },
            "outputs": [],
            "execution_count": null
        },
        {
            "cell_type": "code",
            "source": [
                "CREATE FUNCTION [data].[fun_GetRolesForLogin](@Login NVARCHAR(50))\r\n",
                "RETURNS TABLE\r\n",
                "AS\r\n",
                "    RETURN SELECT [ROL_Id] AS [Id], [Role]\r\n",
                "    FROM [data].[view_RoleUtilisateur]\r\n",
                "    WHERE [Login]= @Login"
            ],
            "metadata": {
                "azdata_cell_guid": "1b7ebfe7-b50c-450c-8031-c36dec12bc22"
            },
            "outputs": [],
            "execution_count": null
        },
        {
            "cell_type": "code",
            "source": [
                "SELECT [Id], [Role] FROM [data].[fun_GetRolesForLogin](N'alice')"
            ],
            "metadata": {
                "azdata_cell_guid": "37c2b1c2-4ed8-47c5-835a-ea112afc77c3"
            },
            "outputs": [],
            "execution_count": null
        },
        {
            "cell_type": "markdown",
            "source": [
                "## Triggers et Curseurs\n",
                "\n",
                "Un trigger (déclencheur) =\\> un code éxécuté à un événement donné sur une table donnée\n",
                "\n",
                "  \n",
                "\n",
                "Curseur =\\> Un espace mémoire qui va comporter un résultat de requête et nous permettre de le manipuler enregistrement par enregistrement"
            ],
            "metadata": {
                "azdata_cell_guid": "f0fce0da-a7ad-4ed5-a837-9a698a1bd985"
            },
            "attachments": {}
        },
        {
            "cell_type": "code",
            "source": [
                "ALTER TABLE [data].[Utilisateur_UTL]\r\n",
                "    ADD [Edit] DATETIME NOT NULL DEFAULT GETDATE()"
            ],
            "metadata": {
                "azdata_cell_guid": "1c420e31-184e-4f1a-965a-abeab1ff3e74"
            },
            "outputs": [],
            "execution_count": null
        },
        {
            "cell_type": "code",
            "source": [
                "CREATE OR ALTER TRIGGER [data].[trig_UTL_Edit]\r\n",
                "    ON [data].[Utilisateur_UTL]\r\n",
                "    AFTER UPDATE\r\n",
                "AS\r\n",
                "BEGIN\r\n",
                "    SET NOCOUNT ON;\r\n",
                "\r\n",
                "    DECLARE @UtlId UNIQUEIDENTIFIER\r\n",
                "    DECLARE @NbItems INT\r\n",
                "\r\n",
                "    SELECT @NbItems = COUNT(*) FROM INSERTED\r\n",
                "\r\n",
                "    IF @NbItems > 1\r\n",
                "    BEGIN\r\n",
                "        DECLARE curs CURSOR FOR SELECT [Id] FROM INSERTED\r\n",
                "\r\n",
                "        OPEN curs\r\n",
                "\r\n",
                "        FETCH NEXT FROM curs INTO @UtlId\r\n",
                "        WHILE (@@FETCH_STATUS = 0)\r\n",
                "        BEGIN\r\n",
                "            UPDATE [data].[Utilisateur_UTL]\r\n",
                "            SET [Edit] = GETDATE()\r\n",
                "            WHERE [Id] = @UtlId\r\n",
                "\r\n",
                "            FETCH NEXT FROM curs INTO @UtlId\r\n",
                "        END\r\n",
                "\r\n",
                "        CLOSE curs\r\n",
                "        DEALLOCATE curs\r\n",
                "    END\r\n",
                "    ELSE\r\n",
                "    BEGIN\r\n",
                "        SELECT TOP 1 @UtlId = [Id] FROM INSERTED\r\n",
                "\r\n",
                "        UPDATE [data].[Utilisateur_UTL]\r\n",
                "        SET [Edit] = GETDATE()\r\n",
                "        WHERE [Id] = @UtlId\r\n",
                "    END\r\n",
                "END"
            ],
            "metadata": {
                "azdata_cell_guid": "1b617c7e-e3c9-4931-8db4-f9063521bcfe"
            },
            "outputs": [],
            "execution_count": null
        },
        {
            "cell_type": "markdown",
            "source": [
                "Apparté : Itérateur\n",
                "\n",
                "  \n",
                "\n",
                "Itérateur : Structure qui va nous permettre de faire des boucles \"à la main\"\n",
                "\n",
                "  \n",
                "\n",
                "1. Déclarer/Récupérer l'itérateur\n",
                "2. Demander le next/Demander si le next existe\n",
                "3. Si next est définit, on le récupère\n",
                "4. On fait notre traitement sur next\n",
                "5. Retourner à l'étape 2, sinon quitter"
            ],
            "metadata": {
                "azdata_cell_guid": "2af5d08d-bf71-4158-94d9-355a00a1ca5a"
            },
            "attachments": {}
        },
        {
            "cell_type": "markdown",
            "source": [
                "## Transactions et procédures"
            ],
            "metadata": {
                "azdata_cell_guid": "6e1c140d-794d-4809-929f-dc29b6e08313"
            },
            "attachments": {}
        },
        {
            "cell_type": "code",
            "source": [
                "BEGIN TRANSACTION MA_TRANSACTION\r\n",
                "BEGIN TRY\r\n",
                "    INSERT INTO [ref].[Role_ROL] ([Key], [Description])\r\n",
                "    VALUES (N'seo', N'Référencement')\r\n",
                "\r\n",
                "    INSERT INTO [ref].[Role_ROL] ([Key], [Description])\r\n",
                "    VALUES (N'admin', N'Administrateur')\r\n",
                "\r\n",
                "    COMMIT TRANSACTION MA_TRANSACTION\r\n",
                "END TRY\r\n",
                "BEGIN CATCH\r\n",
                "    ROLLBACK TRANSACTION MA_TRANSACTION\r\n",
                "\r\n",
                "    SELECT ERROR_NUMBER(), ERROR_MESSAGE()\r\n",
                "END CATCH\r\n",
                "\r\n",
                "SELECT [Key], [Description]\r\n",
                "FROM [ref].[Role_ROL]"
            ],
            "metadata": {
                "azdata_cell_guid": "62c4b6cc-80ab-4c1c-b95c-76449162f273"
            },
            "outputs": [],
            "execution_count": null
        },
        {
            "cell_type": "code",
            "source": [
                "CREATE OR ALTER PROCEDURE [data].[prc_InsertUTL]\r\n",
                "    @Login NVARCHAR(50),\r\n",
                "    @IsActive BIT\r\n",
                "AS\r\n",
                "BEGIN\r\n",
                "    SET NOCOUNT ON;\r\n",
                "\r\n",
                "    BEGIN TRANSACTION INS_UTL\r\n",
                "    BEGIN TRY\r\n",
                "        DECLARE @Table TABLE (\r\n",
                "            Id UNIQUEIDENTIFIER\r\n",
                "        )\r\n",
                "        DECLARE @RoleId TINYINT\r\n",
                "\r\n",
                "        SELECT TOP 1 @RoleId = [Id]\r\n",
                "        FROM [ref].[Role_ROL]\r\n",
                "        WHERE [Key] = 'guest'\r\n",
                "\r\n",
                "        INSERT INTO [data].[Utilisateur_UTL] ([Login], [Email], [Actif])\r\n",
                "        OUTPUT INSERTED.Id\r\n",
                "        INTO @Table\r\n",
                "        VALUES (@Login, CONCAT(@Login, N'@u-picardie.fr'), @IsActive)\r\n",
                "\r\n",
                "        INSERT INTO [data].[RoleUtilisateur_RUL]([ROL_Id], [UTL_Id])\r\n",
                "        SELECT @RoleId, Id\r\n",
                "        FROM @Table\r\n",
                "\r\n",
                "        COMMIT TRANSACTION INS_UTL\r\n",
                "\r\n",
                "        SELECT 0 AS [Number], N'' AS [Message]\r\n",
                "    END TRY\r\n",
                "    BEGIN CATCH\r\n",
                "        ROLLBACK TRANSACTION INS_UTL\r\n",
                "\r\n",
                "        SELECT ERROR_NUMBER() AS [Number], ERROR_MESSAGE() AS [Message]\r\n",
                "    END CATCH\r\n",
                "END"
            ],
            "metadata": {
                "azdata_cell_guid": "311d4f97-ec64-4edf-ba28-309425eef923"
            },
            "outputs": [],
            "execution_count": null
        },
        {
            "cell_type": "code",
            "source": [
                "EXEC [data].[prc_InsertUTL] @Login = N'didier', @IsActive = 1"
            ],
            "metadata": {
                "azdata_cell_guid": "03418e07-add9-4e7e-88c3-b69d5f195a86"
            },
            "outputs": [],
            "execution_count": null
        },
        {
            "cell_type": "markdown",
            "source": [
                "## Usages avancées de T-SQL\n",
                "\n",
                "Manipulation de XML"
            ],
            "metadata": {
                "azdata_cell_guid": "6451281a-7f75-4bcf-95f0-f929108e4cc8"
            },
            "attachments": {}
        },
        {
            "cell_type": "code",
            "source": [
                "DECLARE @XmlInfos AS XML = '<root>\r\n",
                "    <editeur>\r\n",
                "        <nom>Larousse</nom>\r\n",
                "        <description>Editeur spécialisé en dictionnaires</description>\r\n",
                "    </editeur>\r\n",
                "    <editeur>\r\n",
                "        <nom>Dupuis</nom>\r\n",
                "        <description>Editeur de manuels scolaires</description>\r\n",
                "    </editeur>\r\n",
                "</root>'\r\n",
                "\r\n",
                "DECLARE @Table TABLE (\r\n",
                "    [Nom] NVARCHAR(MAX),\r\n",
                "    [Description] NVARCHAR(MAX)\r\n",
                ")\r\n",
                "\r\n",
                "INSERT INTO @Table\r\n",
                "SELECT 'Nom' = x.r.value('nom[1]', 'nvarchar(max)'),\r\n",
                "       'Description' = x.r.value('description[1]', 'nvarchar(max)')\r\n",
                "FROM @XmlInfos.nodes('/root/editeur') x(r)\r\n",
                "\r\n",
                "SELECT * FROM @Table"
            ],
            "metadata": {
                "azdata_cell_guid": "1ee83592-76ff-4836-b654-b6c5e2dc65a6"
            },
            "outputs": [],
            "execution_count": null
        },
        {
            "cell_type": "markdown",
            "source": [
                "Récupérer le dernier ID inséré"
            ],
            "metadata": {
                "azdata_cell_guid": "0eed4798-4e64-4790-9208-72ae9a2eb745"
            },
            "attachments": {}
        },
        {
            "cell_type": "code",
            "source": [
                "CREATE TABLE [data].[Temp_TMP] (\r\n",
                "    [Id] BIGINT IDENTITY(1,1) NOT NULL PRIMARY KEY,\r\n",
                "    [Nom] NVARCHAR(50) NOT NULL\r\n",
                ")\r\n",
                "\r\n",
                "GO\r\n",
                "\r\n",
                "INSERT INTO [data].[Temp_TMP]([Nom])\r\n",
                "VALUES (N'Alice'), (N'Bob'), (N'Carl')\r\n",
                "\r\n",
                "SELECT SCOPE_IDENTITY()"
            ],
            "metadata": {
                "azdata_cell_guid": "3871efd5-119e-423f-a73b-5e7b1ab1699c"
            },
            "outputs": [],
            "execution_count": null
        },
        {
            "cell_type": "markdown",
            "source": [
                "Conversion de données"
            ],
            "metadata": {
                "azdata_cell_guid": "cdeb007d-cea1-4bf5-b439-23fd2fe27a78"
            },
            "attachments": {}
        },
        {
            "cell_type": "code",
            "source": [
                "SELECT CAST(N'12' AS INT)"
            ],
            "metadata": {
                "azdata_cell_guid": "5279fa2b-128d-4a9f-891e-991cfe2f4436"
            },
            "outputs": [],
            "execution_count": null
        },
        {
            "cell_type": "markdown",
            "source": [
                "## CTE - Common Table Expression"
            ],
            "metadata": {
                "azdata_cell_guid": "c3fe1f19-495f-436c-a298-a571abfeb85a"
            },
            "attachments": {}
        },
        {
            "cell_type": "code",
            "source": [
                "-- Id Magazine|Quantité;Id Magazine|Quantité.....\r\n",
                "DECLARE @InfosNumeros NVARCHAR(MAX) = N'1;5|2;3|3;9'\r\n",
                "\r\n",
                ";WITH CTEInfosMag AS (\r\n",
                "    SELECT CAST(PARSENAME(REPLACE([value], ';', '.'), 2) AS BIGINT) AS [Id],\r\n",
                "           CAST(PARSENAME(REPLACE([value], ';', '.'), 1) AS SMALLINT) AS [Quantite]\r\n",
                "    FROM STRING_SPLIT(@InfosNumeros, '|')\r\n",
                ")\r\n",
                "\r\n",
                "SELECT * FROM CTEInfosMag\r\n",
                "\r\n",
                "GO\r\n",
                "\r\n",
                "-- Erreur, changement de portée, ne peut plus être consommée\r\n",
                "SELECT * FROM CTEInfosMag\r\n",
                ""
            ],
            "metadata": {
                "azdata_cell_guid": "6da5ced1-770a-4ea3-b268-54bf880b239c"
            },
            "outputs": [],
            "execution_count": null
        },
        {
            "cell_type": "markdown",
            "source": [
                "# Projet\n",
                "\n",
                "- Groupes de 1 à 5\n",
                "- Rendu\n",
                "    - Dictionnaire de données (justifier vos architecturaux)\n",
                "    - 1 fichier de création de la BDD (SQL ou Notebook)\n",
                "    - 1 fichier de remplissage de votre BDD (SQL ou Notebook)\n",
                "    - 1 schéma graphique de votre BDD\n",
                "- Logiciel de gestion de magazines :\n",
                "    - Permissions utilisateurs\n",
                "    - Magazines (1 éditeur, N distributeurs)\n",
                "    - Editeurs (N magazines)\n",
                "    - Distributeurs (N magazines)\n",
                "    - Formats (papier A4, Papier autre, numérique) -\\> 1 par magazine\n",
                "- Ne pas en faire plus que demandé\n",
                "\n",
                "## Contraintes\n",
                "\n",
                "- 1 vue doit sortir les noms de magazines par éditeurs\n",
                "- Les différentes tables doivent avoir des index pertinents (ex: Deux magazines ne peuvent pas avoir le même nom car ce sont des marques déposées)\n",
                "- Une fonction doit retourner l'ensemble des distributeurs et éditeur d'un magazine\n",
                "- On veut que chaque table métier comporte une date de création et une date de modification de la donnée qui soient maintenus à jour.\n",
                "- Lors de la création d'un utilisateur, lui assigner systématiquement la ou les permissions les plus basses\n",
                "- Créer une procédure permettant d'insérer un magazine (nouveau ou existant) auprès d'un éditeur (si il n'en a pas déjà un) et d'un distributeur (sans doublons). En cas d'erreur, on revient à l'état initial."
            ],
            "metadata": {
                "azdata_cell_guid": "89f4a540-5bb6-4f70-8415-d7ab809ee2ff"
            },
            "attachments": {}
        }
    ]
}