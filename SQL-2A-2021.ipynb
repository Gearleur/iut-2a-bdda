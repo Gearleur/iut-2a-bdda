{
    "metadata": {
        "kernelspec": {
            "name": "SQL",
            "display_name": "SQL",
            "language": "sql"
        },
        "language_info": {
            "name": "sql",
            "version": ""
        },
        "extensions": {
            "azuredatastudio": {
                "version": 1,
                "views": []
            }
        }
    },
    "nbformat_minor": 2,
    "nbformat": 4,
    "cells": [
        {
            "cell_type": "markdown",
            "source": [
                "# SQL Avancé\n",
                "\n",
                "Nous utiliserons le dialecte Transact-SQL (T-SQL) : [https://docs.microsoft.com/fr-fr/sql/t-sql/language-reference?view=sql-server-ver15](https://docs.microsoft.com/fr-fr/sql/t-sql/language-reference?view=sql-server-ver15)  \n",
                "\n",
                "## Révisions\n",
                "\n",
                "\\- Schémas\n",
                "\n",
                "\\- Création de table\n",
                "\n",
                "> \\- Clé primaire\n",
                "> \n",
                "> \\- Clé étrangère\n",
                "> \n",
                "> \\- Unicité\n",
                "\n",
                "## Création de base"
            ],
            "metadata": {
                "azdata_cell_guid": "0ce0c1dd-bf55-4673-baa7-2f6e67ee2bcc"
            },
            "attachments": {}
        },
        {
            "cell_type": "code",
            "source": [
                "-- On supprime et on re-créé tout\r\n",
                "IF (EXISTS (SELECT [name] FROM [master].[sys].[databases] WHERE [name] = 'Kiosque'))\r\n",
                "    DROP DATABASE [Kiosque]\r\n",
                "\r\n",
                "CREATE DATABASE [Kiosque]\r\n",
                "\r\n",
                "GO\r\n",
                "\r\n",
                "USE [Kiosque]"
            ],
            "metadata": {
                "azdata_cell_guid": "b74a05c1-0513-44c0-aaf1-19643b44eca9",
                "tags": []
            },
            "outputs": [],
            "execution_count": null
        },
        {
            "cell_type": "markdown",
            "source": [
                "## Schémas\n",
                "\n",
                "\\- ref\n",
                "\n",
                "\\- data\n",
                "\n",
                "Un schéma -\\> regroupement d'éléments SQL (Tables, Vuews, ..) pour faciliter la gestion de permissions"
            ],
            "metadata": {
                "azdata_cell_guid": "ec88302c-da39-4127-ab1a-6120981c3409"
            },
            "attachments": {}
        },
        {
            "cell_type": "code",
            "source": [
                "CREATE SCHEMA [data]\r\n",
                "\r\n",
                "GO\r\n",
                "\r\n",
                "CREATE SCHEMA [ref]\r\n",
                "\r\n",
                "GO"
            ],
            "metadata": {
                "azdata_cell_guid": "7088c958-79d5-4028-9c4a-3ec18996b7fe"
            },
            "outputs": [],
            "execution_count": null
        },
        {
            "cell_type": "markdown",
            "source": [
                "## Création de Tables"
            ],
            "metadata": {
                "azdata_cell_guid": "dcb9bf15-669d-43d8-8249-196190f8d327"
            },
            "attachments": {}
        },
        {
            "cell_type": "code",
            "source": [
                "CREATE TABLE [data].[Utilisateur_UTL] (\r\n",
                "    [Id] UNIQUEIDENTIFIER NOT NULL PRIMARY KEY DEFAULT NEWID(),\r\n",
                "    [Login] NVARCHAR(50) NOT NULL UNIQUE,\r\n",
                "    [Email] NVARCHAR(255) NOT NULL UNIQUE,\r\n",
                "    [Actif] BIT NOT NULL DEFAULT 0\r\n",
                ")"
            ],
            "metadata": {
                "azdata_cell_guid": "2b9213e5-d63a-46d5-bb07-8af1040cd76b",
                "tags": []
            },
            "outputs": [],
            "execution_count": null
        },
        {
            "cell_type": "code",
            "source": [
                "CREATE TABLE [ref].[Role_ROL] (\r\n",
                "    [Id] TINYINT NOT NULL PRIMARY KEY IDENTITY(1, 1),\r\n",
                "    [Key] CHAR(10) NOT NULL,\r\n",
                "    [Description] NVARCHAR(100) NOT NULL\r\n",
                ")"
            ],
            "metadata": {
                "azdata_cell_guid": "da453846-7d6c-4779-a5e9-6ae7ca44af6c",
                "tags": []
            },
            "outputs": [],
            "execution_count": null
        },
        {
            "cell_type": "code",
            "source": [
                "CREATE TABLE [data].[RoleUtilisateur_RUL] (\r\n",
                "    [ROL_Id] TINYINT NOT NULL,\r\n",
                "    [UTL_Id] UNIQUEIDENTIFIER NOT NULL,\r\n",
                "    CONSTRAINT [pk_rol_utl] PRIMARY KEY ([ROL_Id], [UTL_Id]),\r\n",
                "    CONSTRAINT [fk_RUL_ROL] FOREIGN KEY ([ROL_Id]) REFERENCES [ref].[Role_ROL]([Id]),\r\n",
                "    CONSTRAINT [fk_RUL_UTL] FOREIGN KEY ([UTL_Id]) REFERENCES [data].[Utilisateur_UTL]([Id])\r\n",
                ")"
            ],
            "metadata": {
                "azdata_cell_guid": "356a36e2-f046-4755-85a3-0f3d3886a83f"
            },
            "outputs": [],
            "execution_count": null
        },
        {
            "cell_type": "markdown",
            "source": [
                "## Modification de tables"
            ],
            "metadata": {
                "azdata_cell_guid": "36bfeca5-a63a-4205-b215-f4ce56b0d9f4"
            },
            "attachments": {}
        },
        {
            "cell_type": "code",
            "source": [
                "ALTER TABLE [data].[Utilisateur_UTL]\r\n",
                "    ADD [MotDePasse] NVARCHAR(512) NULL"
            ],
            "metadata": {
                "azdata_cell_guid": "d8d48510-7b4e-4c76-80a8-a60c7096e86d"
            },
            "outputs": [],
            "execution_count": null
        },
        {
            "cell_type": "code",
            "source": [
                "CREATE TABLE [ref].[Permission_PER] (\r\n",
                "    [Id] INT IDENTITY(1,1) NOT NULL,\r\n",
                "    [Nom] NVARCHAR(25) NOT NULL,\r\n",
                "    [Description] NVARCHAR(256) NULL\r\n",
                ")"
            ],
            "metadata": {
                "azdata_cell_guid": "1c60c619-8dd7-494b-9c27-312b876ea290"
            },
            "outputs": [],
            "execution_count": null
        },
        {
            "cell_type": "code",
            "source": [
                "ALTER TABLE [ref].[Permission_PER]\r\n",
                "    ADD CONSTRAINT [PK_PER] PRIMARY KEY ([Id])"
            ],
            "metadata": {
                "azdata_cell_guid": "bdd12eed-7827-4e2a-b51b-bc1c2a13f5c7"
            },
            "outputs": [],
            "execution_count": null
        },
        {
            "cell_type": "markdown",
            "source": [
                "## Opréations CRUD\n",
                "\n",
                "Create, Read, Update, Delete\n",
                "\n",
                "  \n",
                "\n",
                "Create -\\>  INSERT\n",
                "\n",
                "Read -\\> SELECT\n",
                "\n",
                "Update -\\> UPDATE\n",
                "\n",
                "Delete -\\> DELETE"
            ],
            "metadata": {
                "azdata_cell_guid": "9a0b6ef5-a36e-4a87-9997-632acbeecb55"
            },
            "attachments": {}
        },
        {
            "cell_type": "code",
            "source": [
                "INSERT INTO [ref].[Role_ROL] ([Key], [Description])\r\n",
                "VALUES\r\n",
                "    ('admin', N'Administrateur'),\r\n",
                "    ('guest', N'Visiteur'),\r\n",
                "    ('market', N'Marketing')"
            ],
            "metadata": {
                "azdata_cell_guid": "aa7a4fa7-82b0-494f-9774-bac22c7cfc4d"
            },
            "outputs": [],
            "execution_count": null
        },
        {
            "cell_type": "code",
            "source": [
                "INSERT INTO [ref].[Role_ROL] ([Key], [Description])\r\n",
                "VALUES\r\n",
                "    ('guest', N'Autre visiteur')"
            ],
            "metadata": {
                "azdata_cell_guid": "dab5ddbe-3a2d-498f-a794-4753e4ba2804"
            },
            "outputs": [],
            "execution_count": null
        },
        {
            "cell_type": "code",
            "source": [
                "SELECT [Id], [Key], [Description] FROM [ref].[Role_ROL]"
            ],
            "metadata": {
                "azdata_cell_guid": "3681f150-0639-4d8c-b8cb-decbe0c08ccd"
            },
            "outputs": [],
            "execution_count": null
        },
        {
            "cell_type": "code",
            "source": [
                "DELETE FROM [ref].[Role_ROL]\r\n",
                "WHERE [Id] IN (\r\n",
                "    SELECT [Id]FROM [ref].[Role_ROL]\r\n",
                "    WHERE [Description] = N'Autre visiteur'\r\n",
                ")\r\n",
                "\r\n",
                "SELECT [Id], [Key], [Description] FROM [ref].[Role_ROL]"
            ],
            "metadata": {
                "azdata_cell_guid": "319db380-b018-4386-acf6-358717f8c878"
            },
            "outputs": [],
            "execution_count": null
        },
        {
            "cell_type": "code",
            "source": [
                "ALTER TABLE [ref].[Role_ROL]\r\n",
                "    ADD [ROL_Key] AS LOWER([Key]),\r\n",
                "    CONSTRAINT [uq_key] UNIQUE([ROL_Key])"
            ],
            "metadata": {
                "azdata_cell_guid": "b6c39034-7324-4370-9e98-b753e6d0caef"
            },
            "outputs": [],
            "execution_count": null
        },
        {
            "cell_type": "code",
            "source": [
                "INSERT INTO [ref].[Role_ROL] ([Key], [Description])\r\n",
                "VALUES\r\n",
                "    ('guest', N'Autre visiteur')"
            ],
            "metadata": {
                "azdata_cell_guid": "8952edff-bbf5-46a9-9ebc-1446154dfab4"
            },
            "outputs": [],
            "execution_count": null
        },
        {
            "cell_type": "code",
            "source": [
                "UPDATE [ref].[Role_ROL]\r\n",
                "SET [Description] = CONCAT(N'Utilisateur ', LOWER([Description]))\r\n",
                "\r\n",
                "SELECT [Id], [Key], [Description] FROM [ref].[Role_ROL]"
            ],
            "metadata": {
                "azdata_cell_guid": "a6a256d2-5d8e-4d2a-a5aa-e795758dc995"
            },
            "outputs": [],
            "execution_count": null
        },
        {
            "cell_type": "code",
            "source": [
                "INSERT INTO [data].[Utilisateur_UTL] ([Login], [Email], [Actif])\r\n",
                "VALUES\r\n",
                "    (N'alice', N'alice@u-picardie.fr', 1),\r\n",
                "    (N'bob', N'bob@u-picardie.fr', 1),\r\n",
                "    (N'carl', N'carl@u-picardie.fr', 0)\r\n",
                "\r\n",
                "GO\r\n",
                "\r\n",
                "DECLARE @UtlId UNIQUEIDENTIFIER\r\n",
                "DECLARE @RolId TINYINT\r\n",
                "\r\n",
                "SELECT TOP 1 @UtlId = [Id]\r\n",
                "FROM [data].[Utilisateur_UTL] (NOLOCK)\r\n",
                "WHERE [Login] = 'alice'\r\n",
                "\r\n",
                "SELECT TOP 1 @RolId = [Id]\r\n",
                "FROM [ref].[Role_ROL] (NOLOCK)\r\n",
                "WHERE [ROL_Key] = 'admin'\r\n",
                "\r\n",
                "INSERT INTO [data].[RoleUtilisateur_RUL]([UTL_Id], [ROL_Id])\r\n",
                "SELECT @UtlId AS [UTL_Id], @RolId AS [ROL_Id]\r\n",
                ""
            ],
            "metadata": {
                "azdata_cell_guid": "6991da69-b7d2-43b6-8c2f-65cbb3f45cef"
            },
            "outputs": [],
            "execution_count": null
        },
        {
            "cell_type": "markdown",
            "source": [
                "Pour la prochaine séance :\n",
                "\n",
                "\\- Ajouter le rôle Marketing à Alice\n",
                "\n",
                "\\- Ajouter le rôle Marketing à Bob\n",
                "\n",
                "\\- Ajouter le rôle Guest à Carl"
            ],
            "metadata": {
                "azdata_cell_guid": "9d632b7e-7b4a-427c-9b0d-ea45192b6568"
            },
            "attachments": {}
        }
    ]
}