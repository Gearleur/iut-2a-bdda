{
    "metadata": {
        "kernelspec": {
            "name": "SQL",
            "display_name": "SQL",
            "language": "sql"
        },
        "language_info": {
            "name": "sql",
            "version": ""
        }
    },
    "nbformat_minor": 2,
    "nbformat": 4,
    "cells": [
        {
            "cell_type": "markdown",
            "source": [
                "# SQL\n",
                "\n",
                "Nous utiliserons le dialecte Transact-SQL (T-SQL) : [https://docs.microsoft.com/fr-fr/sql/t-sql/language-reference?view=sql-server-ver15](https://docs.microsoft.com/fr-fr/sql/t-sql/language-reference?view=sql-server-ver15)  \n",
                "\n",
                "## Création BDD"
            ],
            "metadata": {
                "azdata_cell_guid": "39eb2948-7fb4-4509-a114-d754440c44e7"
            }
        },
        {
            "cell_type": "code",
            "source": [
                "IF (EXISTS (SELECT [name] FROM [master].[sys].[databases] WHERE [name] = 'ImdbLike'))\r\n",
                "    DROP DATABASE [ImdbLike]\r\n",
                "\r\n",
                "CREATE DATABASE [ImdbLike]\r\n",
                "\r\n",
                "GO\r\n",
                "\r\n",
                "USE [ImdbLike]"
            ],
            "metadata": {
                "azdata_cell_guid": "4eb14bb4-7c6c-46ef-94fa-572e2f681b5c"
            },
            "outputs": [
{
    "output_type": "display_data",
    "data": {
        "text/html": "Commands completed successfully."
    },
    "metadata": {}
}, {
    "output_type": "display_data",
    "data": {
        "text/html": "Commands completed successfully."
    },
    "metadata": {}
}, {
    "output_type": "display_data",
    "data": {
        "text/html": "Total execution time: 00:00:01.089"
    },
    "metadata": {}
}
],
            "execution_count": null
        },
        {
            "cell_type": "markdown",
            "source": [
                "## Schéma\n",
                "\n",
                "Un SGBD =\\> plusieurs BDD\n",
                "\n",
                "Une BDD =\\> Plusieurs schémas\n",
                "\n",
                "```\n",
                "SELECT [...] FROM [data].[Table]\n",
                "```\n",
                "\n",
                "Ici, `[data]` est le schéma de `[Table]`\n",
                "\n",
                "Les schémas servent à regrouper des tables de même nature =\\> on peut y affecter des droits (ex: `[ref]` (tables de référence) en RW pour l'admin mais lecture seule pour app, `[data]` (tables de données) en RW pour admin et app mais lecture seule pour le service compta)"
            ],
            "metadata": {
                "azdata_cell_guid": "4bfc1eef-4625-42a8-bc21-bcda88b54601"
            }
        },
        {
            "cell_type": "code",
            "source": [
                "CREATE SCHEMA [ref]\r\n",
                "\r\n",
                "GO\r\n",
                "\r\n",
                "CREATE SCHEMA [data]\r\n",
                "\r\n",
                "GO"
            ],
            "metadata": {
                "azdata_cell_guid": "35384325-b906-4a43-88ac-fde6b8b87e72"
            },
            "outputs": [
{
    "output_type": "display_data",
    "data": {
        "text/html": "Commands completed successfully."
    },
    "metadata": {}
}, {
    "output_type": "display_data",
    "data": {
        "text/html": "Commands completed successfully."
    },
    "metadata": {}
}, {
    "output_type": "display_data",
    "data": {
        "text/html": "Total execution time: 00:00:00.013"
    },
    "metadata": {}
}
],
            "execution_count": null
        },
        {
            "cell_type": "markdown",
            "source": [
                "## Création de table"
            ],
            "metadata": {
                "azdata_cell_guid": "d5a2fdbf-8de8-4ded-8403-f676702f4144"
            }
        },
        {
            "cell_type": "code",
            "source": [
                "CREATE TABLE [ref].[Genre_GRE] -- [ref] car lecture-seule pour app\r\n",
                "(\r\n",
                "    [Id] INT IDENTITY(1, 1) PRIMARY KEY,\r\n",
                "    [Nom] VARCHAR(25) NOT NULL\r\n",
                ")\r\n",
                "\r\n",
                "CREATE TABLE [data].[Film_FLM] -- [data] car lecture-écriture pour app\r\n",
                "(\r\n",
                "    [Id] BIGINT IDENTITY(1, 1),-- PRIMARY KEY, -- [Id] entier 64bits auto-incrément à partir de 1 par pas de 1, clé primaire\r\n",
                "    [Nom] NVARCHAR(80) NOT NULL, -- NVARCHAR gère l'encode, VARCHAR non -> prend 2x plus de place\r\n",
                "    [Descriptif] NVARCHAR(MAX) NOT NULL, -- Equivalent à TEXT -> remplacer TEXT par NVARCHAR\r\n",
                "    -- [Genre] VARCHAR(20) NOT NULL -> Non, on normalise\r\n",
                "    [GRE_Id] INT NOT NULL-- FOREIGN KEY REFERENCES [ref].[Genre_GRE]([Id])\r\n",
                "    CONSTRAINT PK_FLM PRIMARY KEY ([Id]) -- On privilégie cette syntaxe -> Contrainte nommée + clé composite\r\n",
                "    CONSTRAINT FK_FLM_GRE FOREIGN KEY ([GRE_Id]) REFERENCES [ref].[Genre_GRE]([Id])\r\n",
                ")\r\n",
                "\r\n",
                "CREATE TABLE [data].[Acteur_ACT] (\r\n",
                "    [Id] UNIQUEIDENTIFIER NOT NULL DEFAULT NEWID() PRIMARY KEY, -- Id 128bits sous forme de chaîne\r\n",
                "    [Nom] NVARCHAR(80) NOT NULL,\r\n",
                "    [Prenom] NVARCHAR(80) NOT NULL\r\n",
                ")\r\n",
                "\r\n",
                "CREATE TABLE [data].[FilmActeur_FAC] (\r\n",
                "    [FLM_Id] BIGINT NOT NULL,\r\n",
                "    [ACT_Id] UNIQUEIDENTIFIER NOT NULL\r\n",
                "    CONSTRAINT PK_FilmActeur PRIMARY KEY ([FLM_Id], [ACT_Id]),\r\n",
                "    CONSTRAINT FK_FilmActeur_Acteur FOREIGN KEY ([ACT_Id]) REFERENCES [data].[Acteur_ACT]([Id]),\r\n",
                "    CONSTRAINT FK_FilmActeur_Film FOREIGN KEY ([FLM_Id]) REFERENCES [data].[Film_FLM]([Id])\r\n",
                ")\r\n",
                ""
            ],
            "metadata": {
                "azdata_cell_guid": "a2b9eb5e-5b2a-4319-acc0-a661d45aa6c5"
            },
            "outputs": [
{
    "output_type": "display_data",
    "data": {
        "text/html": "Commands completed successfully."
    },
    "metadata": {}
}, {
    "output_type": "display_data",
    "data": {
        "text/html": "Total execution time: 00:00:00.026"
    },
    "metadata": {}
}
],
            "execution_count": null
        },
        {
            "cell_type": "code",
            "source": [
                "SELECT NEWID()"
            ],
            "metadata": {
                "azdata_cell_guid": "609dcf3f-cc6a-472f-8338-c7aed4553115"
            },
            "outputs": [
{
    "output_type": "display_data",
    "data": {
        "text/html": "(1 row affected)"
    },
    "metadata": {}
}, {
    "output_type": "display_data",
    "data": {
        "text/html": "Total execution time: 00:00:00.009"
    },
    "metadata": {}
}, {
    "output_type": "execute_result",
    "metadata": {},
    "execution_count": 4,
    "data": {
        "application/vnd.dataresource+json": {
            "schema": {
                "fields": [
                    {
                        "name": "(No column name)"
                    }
                ]
            },
            "data": [
                {
                    "0": "3b400e68-34e5-4ecd-9548-932460c07c93"
                }
            ]
        },
        "text/html": [
            "<table>",
            "<tr><th>(No column name)</th></tr>",
            "<tr><td>3b400e68-34e5-4ecd-9548-932460c07c93</td></tr>",
            "</table>"
        ]
    }
}
],
            "execution_count": null
        },
        {
            "cell_type": "markdown",
            "source": [
                "## Modification de table\n",
                "\n",
                "### Exercice\n",
                "\n",
                "Modéliser des sociétés de production (ex: Lucas Film), les associées aux films (vous aurez besoin de l'instruction [`ALTER TABLE`](https://docs.microsoft.com/fr-fr/sql/t-sql/statements/alter-table-transact-sql?view=sql-server-ver15)). On partira du principe que un film possède une seule société de prod."
            ],
            "metadata": {
                "azdata_cell_guid": "34db6c0a-d744-4daa-8054-0306586567d5"
            }
        },
        {
            "cell_type": "code",
            "source": [
                "CREATE TABLE [data].[SocieteProd_SPR] (\r\n",
                "    [Id] BIGINT IDENTITY(1, 1) PRIMARY KEY,\r\n",
                "    [Nom] NVARCHAR(100) NOT NULL\r\n",
                ")\r\n",
                "\r\n",
                "GO\r\n",
                "\r\n",
                "ALTER TABLE [data].[Film_FLM]\r\n",
                "    ADD [SPR_Id] BIGINT NOT NULL\r\n",
                "    CONSTRAINT FK_FML_SPR FOREIGN KEY ([SPR_Id]) REFERENCES [data].[SocieteProd_SPR]([Id])\r\n",
                "\r\n",
                "GO\r\n",
                ""
            ],
            "metadata": {
                "azdata_cell_guid": "b1001b16-ac23-457e-b5d2-cc481683512f"
            },
            "outputs": [
{
    "output_type": "display_data",
    "data": {
        "text/html": "Commands completed successfully."
    },
    "metadata": {}
}, {
    "output_type": "display_data",
    "data": {
        "text/html": "Commands completed successfully."
    },
    "metadata": {}
}, {
    "output_type": "display_data",
    "data": {
        "text/html": "Total execution time: 00:00:00.015"
    },
    "metadata": {}
}
],
            "execution_count": null
        },
        {
            "cell_type": "markdown",
            "source": [
                "## Opérations CRUD\n",
                "\n",
                "Create, Read, Update, Delete\n",
                "\n",
                "  \n",
                "\n",
                "Create -\\> INSERT\n",
                "\n",
                "Read -\\> SELECT\n",
                "\n",
                "Update -\\> UPDATE\n",
                "\n",
                "Delete -\\> DELETE"
            ],
            "metadata": {
                "azdata_cell_guid": "9ccdbff5-e224-47ed-8e9c-4c246659699f"
            }
        },
        {
            "cell_type": "code",
            "source": [
                "INSERT INTO [ref].[Genre_GRE] ([Nom])\r\n",
                "VALUES ('Science Fiction'), ('Action'), ('Aventure')\r\n",
                "\r\n",
                "INSERT INTO [data].[SocieteProd_SPR] ([Nom])\r\n",
                "VALUES (N'Lucas Film'), (N'Gaumont')\r\n",
                "\r\n",
                "INSERT INTO [data].[Acteur_ACT] ([Nom], [Prenom])\r\n",
                "VALUES (N'Ford', N'Harrisson'), (N'Depp', N'Johny')"
            ],
            "metadata": {
                "azdata_cell_guid": "bc20f11d-c3d0-410d-9e8e-6fc026b3b4a1",
                "tags": []
            },
            "outputs": [
{
    "output_type": "display_data",
    "data": {
        "text/html": "(3 rows affected)"
    },
    "metadata": {}
}, {
    "output_type": "display_data",
    "data": {
        "text/html": "(2 rows affected)"
    },
    "metadata": {}
}, {
    "output_type": "display_data",
    "data": {
        "text/html": "(2 rows affected)"
    },
    "metadata": {}
}, {
    "output_type": "display_data",
    "data": {
        "text/html": "Total execution time: 00:00:00.018"
    },
    "metadata": {}
}
],
            "execution_count": null
        },
        {
            "cell_type": "code",
            "source": [
                "INSERT INTO [data].[Film_FLM] ([Nom], [Descriptif], [GRE_Id], [SPR_Id])\r\n",
                "VALUES\r\n",
                "    (N'Indiana Jones', N'Descriptif du film', 3, 1),\r\n",
                "    (N'Pirates de Caraïbes', N'Descriptif de l''autre film', 2, 2)"
            ],
            "metadata": {
                "azdata_cell_guid": "64e4a61d-4429-43c7-91a8-3903085e1cd5"
            },
            "outputs": [
{
    "output_type": "display_data",
    "data": {
        "text/html": "(2 rows affected)"
    },
    "metadata": {}
}, {
    "output_type": "display_data",
    "data": {
        "text/html": "Total execution time: 00:00:00.020"
    },
    "metadata": {}
}
],
            "execution_count": null
        },
        {
            "cell_type": "code",
            "source": [
                "INSERT INTO [data].[FilmActeur_FAC] ([ACT_Id], [FLM_Id])\r\n",
                "SELECT TOP 1 [Id], 1\r\n",
                "FROM [data].[Acteur_ACT]\r\n",
                "WHERE [Nom] = 'Ford'\r\n",
                "\r\n",
                "INSERT INTO [data].[FilmActeur_FAC] ([ACT_Id], [FLM_Id])\r\n",
                "SELECT TOP 1 [Id], 2\r\n",
                "FROM [data].[Acteur_ACT]\r\n",
                "WHERE [Nom] = 'Depp'"
            ],
            "metadata": {
                "azdata_cell_guid": "e8b677d1-8106-42d1-b2c1-2b7d3d7cd97b"
            },
            "outputs": [
{
    "output_type": "display_data",
    "data": {
        "text/html": "(1 row affected)"
    },
    "metadata": {}
}, {
    "output_type": "display_data",
    "data": {
        "text/html": "(1 row affected)"
    },
    "metadata": {}
}, {
    "output_type": "display_data",
    "data": {
        "text/html": "Total execution time: 00:00:00.020"
    },
    "metadata": {}
}
],
            "execution_count": null
        },
        {
            "cell_type": "code",
            "source": [
                "UPDATE [data].[Film_FLM]\r\n",
                "SET [Descriptif] = N'Film sur un archéologue'\r\n",
                "WHERE [Id] = 1\r\n",
                "\r\n",
                "UPDATE [data].[Film_FLM]\r\n",
                "SET [Descriptif] = N'Film de pirates'\r\n",
                "WHERE [Id] = 2\r\n",
                ""
            ],
            "metadata": {
                "azdata_cell_guid": "41237d16-1aa9-4221-8fa5-a744c711f047"
            },
            "outputs": [
{
    "output_type": "display_data",
    "data": {
        "text/html": "(1 row affected)"
    },
    "metadata": {}
}, {
    "output_type": "display_data",
    "data": {
        "text/html": "(1 row affected)"
    },
    "metadata": {}
}, {
    "output_type": "display_data",
    "data": {
        "text/html": "Total execution time: 00:00:00.016"
    },
    "metadata": {}
}
],
            "execution_count": null
        },
        {
            "cell_type": "code",
            "source": [
                "DELETE FROM [ref].[Genre_GRE]\r\n",
                "WHERE [Id] = 1"
            ],
            "metadata": {
                "azdata_cell_guid": "c2fce54a-9735-4f01-8174-fe88dd538267"
            },
            "outputs": [
{
    "output_type": "display_data",
    "data": {
        "text/html": "(1 row affected)"
    },
    "metadata": {}
}, {
    "output_type": "display_data",
    "data": {
        "text/html": "Total execution time: 00:00:00.012"
    },
    "metadata": {}
}
],
            "execution_count": null
        },
        {
            "cell_type": "markdown",
            "source": [
                "## Vues\n",
                "\n",
                "Reppel jointures : https://sql.sh/cours/jointures"
            ],
            "metadata": {
                "azdata_cell_guid": "25b41984-c7d0-4064-8fcb-1ceca81efbbb"
            }
        },
        {
            "cell_type": "code",
            "source": [
                "SELECT [FLM].[Id], [FLM].[Nom], [GRE].[Nom] AS [Genre], [SPR].[Nom] AS [Société de prod]\r\n",
                "FROM [data].[Film_FLM] AS [FLM]\r\n",
                "INNER JOIN [ref].[Genre_GRE] AS [GRE] ON [FLM].[GRE_Id] = [GRE].[Id]\r\n",
                "INNER JOIN [data].[SocieteProd_SPR] AS [SPR] ON [FLM].[SPR_Id] = [SPR].[Id]"
            ],
            "metadata": {
                "azdata_cell_guid": "6cde94a2-1e82-48df-929e-755f0dcd576e"
            },
            "outputs": [
{
    "output_type": "display_data",
    "data": {
        "text/html": "(2 rows affected)"
    },
    "metadata": {}
}, {
    "output_type": "display_data",
    "data": {
        "text/html": "Total execution time: 00:00:00.018"
    },
    "metadata": {}
}, {
    "output_type": "execute_result",
    "metadata": {},
    "execution_count": 11,
    "data": {
        "application/vnd.dataresource+json": {
            "schema": {
                "fields": [
                    {
                        "name": "Id"
                    },
                    {
                        "name": "Nom"
                    },
                    {
                        "name": "Genre"
                    },
                    {
                        "name": "Société de prod"
                    }
                ]
            },
            "data": [
                {
                    "0": "1",
                    "1": "Indiana Jones",
                    "2": "Aventure",
                    "3": "Lucas Film"
                },
                {
                    "0": "2",
                    "1": "Pirates de Caraïbes",
                    "2": "Action",
                    "3": "Gaumont"
                }
            ]
        },
        "text/html": [
            "<table>",
            "<tr><th>Id</th><th>Nom</th><th>Genre</th><th>Société de prod</th></tr>",
            "<tr><td>1</td><td>Indiana Jones</td><td>Aventure</td><td>Lucas Film</td></tr>",
            "<tr><td>2</td><td>Pirates de Caraïbes</td><td>Action</td><td>Gaumont</td></tr>",
            "</table>"
        ]
    }
}
],
            "execution_count": null
        },
        {
            "cell_type": "code",
            "source": [
                "CREATE OR ALTER VIEW [data].[FicheFilm]\r\n",
                "AS\r\n",
                "SELECT [FLM].[Id], [FLM].[Nom], [GRE].[Nom] AS [Genre], [SPR].[Nom] AS [Société de prod]\r\n",
                "FROM [data].[Film_FLM] AS [FLM]\r\n",
                "INNER JOIN [ref].[Genre_GRE] AS [GRE] ON [FLM].[GRE_Id] = [GRE].[Id]\r\n",
                "INNER JOIN [data].[SocieteProd_SPR] AS [SPR] ON [FLM].[SPR_Id] = [SPR].[Id]"
            ],
            "metadata": {
                "azdata_cell_guid": "ae76af15-793e-41d0-8971-d14c3d8a98fc"
            },
            "outputs": [
{
    "output_type": "display_data",
    "data": {
        "text/html": "Commands completed successfully."
    },
    "metadata": {}
}, {
    "output_type": "display_data",
    "data": {
        "text/html": "Total execution time: 00:00:00.009"
    },
    "metadata": {}
}
],
            "execution_count": null
        },
        {
            "cell_type": "code",
            "source": [
                "SELECT [Id], [Nom], [Genre], [Société de prod]\r\n",
                "FROM [data].[FicheFilm]"
            ],
            "metadata": {
                "azdata_cell_guid": "d2273d9c-1d5a-405c-a6ad-c76f716ab35f"
            },
            "outputs": [
{
    "output_type": "display_data",
    "data": {
        "text/html": "(2 rows affected)"
    },
    "metadata": {}
}, {
    "output_type": "display_data",
    "data": {
        "text/html": "Total execution time: 00:00:00.008"
    },
    "metadata": {}
}, {
    "output_type": "execute_result",
    "metadata": {},
    "execution_count": 13,
    "data": {
        "application/vnd.dataresource+json": {
            "schema": {
                "fields": [
                    {
                        "name": "Id"
                    },
                    {
                        "name": "Nom"
                    },
                    {
                        "name": "Genre"
                    },
                    {
                        "name": "Société de prod"
                    }
                ]
            },
            "data": [
                {
                    "0": "1",
                    "1": "Indiana Jones",
                    "2": "Aventure",
                    "3": "Lucas Film"
                },
                {
                    "0": "2",
                    "1": "Pirates de Caraïbes",
                    "2": "Action",
                    "3": "Gaumont"
                }
            ]
        },
        "text/html": [
            "<table>",
            "<tr><th>Id</th><th>Nom</th><th>Genre</th><th>Société de prod</th></tr>",
            "<tr><td>1</td><td>Indiana Jones</td><td>Aventure</td><td>Lucas Film</td></tr>",
            "<tr><td>2</td><td>Pirates de Caraïbes</td><td>Action</td><td>Gaumont</td></tr>",
            "</table>"
        ]
    }
}
],
            "execution_count": null
        },
        {
            "cell_type": "markdown",
            "source": [
                "### Exercice\n",
                "\n",
                "1\\. Insérer de nouveaux acteurs (4), genres, sociétés de prod (3) et de nouveaux films (5) dans vos tables (assignez des acteurs aux films).\n",
                "\n",
                "2\\. Créer une vue qui sort les acteurs avec leurs films associés (Nom de l'acteur, nom du film, genre du film, société de prod)"
            ],
            "metadata": {
                "azdata_cell_guid": "b7c58584-a737-46a1-bd07-37c792633335"
            }
        },
        {
            "cell_type": "code",
            "source": [
                "INSERT INTO [ref].[Genre_GRE] ([Nom])\r\n",
                "VALUES ('Horreur'), ('Science Fiction'), ('Comédie')\r\n",
                "\r\n",
                "INSERT INTO [data].[SocieteProd_SPR] ([Nom])\r\n",
                "VALUES (N'Disney'), (N'Netflix'), (N'Pathé')\r\n",
                "\r\n",
                "INSERT INTO [data].[Acteur_ACT] ([Nom], [Prenom])\r\n",
                "VALUES (N'De Niro', N'Robert'), (N'Fois', N'Marina'), (N'Cotillard', N'Marion'), (N'Nanty', N'Isabelle')\r\n",
                "\r\n",
                "INSERT INTO [data].[Film_FLM] ([Nom], [Descriptif], [GRE_Id], [SPR_Id])\r\n",
                "VALUES\r\n",
                "    (N'Les tuches', N'Description tuches', 6, 5),\r\n",
                "    (N'Batman', N'Descriptif Batman', 5, 4),\r\n",
                "    (N'Rrrrr', N'Descriptif Rrrrr', 6, 1),\r\n",
                "    (N'Casino', N'Descriptif Casino', 2, 1),\r\n",
                "    (N'Pirates de Caraïbes 2', N'Descriptif de l''autre film', 2, 3)"
            ],
            "metadata": {
                "azdata_cell_guid": "2e989682-19da-40a4-80ca-2bd40fc4817b",
                "tags": []
            },
            "outputs": [
{
    "output_type": "display_data",
    "data": {
        "text/html": "(3 rows affected)"
    },
    "metadata": {}
}, {
    "output_type": "display_data",
    "data": {
        "text/html": "(3 rows affected)"
    },
    "metadata": {}
}, {
    "output_type": "display_data",
    "data": {
        "text/html": "(4 rows affected)"
    },
    "metadata": {}
}, {
    "output_type": "display_data",
    "data": {
        "text/html": "(5 rows affected)"
    },
    "metadata": {}
}, {
    "output_type": "display_data",
    "data": {
        "text/html": "Total execution time: 00:00:00.031"
    },
    "metadata": {}
}
],
            "execution_count": null
        },
        {
            "cell_type": "code",
            "source": [
                "INSERT INTO [data].[FilmActeur_FAC] ([ACT_Id], [FLM_Id])\r\n",
                "SELECT TOP 1 [Id], 3\r\n",
                "FROM [data].[Acteur_ACT]\r\n",
                "WHERE [Nom] = 'Nanty'\r\n",
                "\r\n",
                "INSERT INTO [data].[FilmActeur_FAC] ([ACT_Id], [FLM_Id])\r\n",
                "SELECT TOP 1 [Id], 4\r\n",
                "FROM [data].[Acteur_ACT]\r\n",
                "WHERE [Nom] = 'Cotillard'\r\n",
                "\r\n",
                "INSERT INTO [data].[FilmActeur_FAC] ([ACT_Id], [FLM_Id])\r\n",
                "SELECT TOP 1 [Id], 5\r\n",
                "FROM [data].[Acteur_ACT]\r\n",
                "WHERE [Nom] = 'Fois'\r\n",
                "\r\n",
                "INSERT INTO [data].[FilmActeur_FAC] ([ACT_Id], [FLM_Id])\r\n",
                "SELECT TOP 1 [Id], 6\r\n",
                "FROM [data].[Acteur_ACT]\r\n",
                "WHERE [Nom] = 'De Niro'\r\n",
                "\r\n",
                "INSERT INTO [data].[FilmActeur_FAC] ([ACT_Id], [FLM_Id])\r\n",
                "SELECT TOP 1 [Id], 7\r\n",
                "FROM [data].[Acteur_ACT]\r\n",
                "WHERE [Nom] = 'Depp'"
            ],
            "metadata": {
                "azdata_cell_guid": "f1ad6713-273d-485e-affb-ed9ec3abb651"
            },
            "outputs": [
{
    "output_type": "display_data",
    "data": {
        "text/html": "(1 row affected)"
    },
    "metadata": {}
}, {
    "output_type": "display_data",
    "data": {
        "text/html": "(1 row affected)"
    },
    "metadata": {}
}, {
    "output_type": "display_data",
    "data": {
        "text/html": "(1 row affected)"
    },
    "metadata": {}
}, {
    "output_type": "display_data",
    "data": {
        "text/html": "(1 row affected)"
    },
    "metadata": {}
}, {
    "output_type": "display_data",
    "data": {
        "text/html": "(1 row affected)"
    },
    "metadata": {}
}, {
    "output_type": "display_data",
    "data": {
        "text/html": "Total execution time: 00:00:00.032"
    },
    "metadata": {}
}
],
            "execution_count": null
        },
        {
            "cell_type": "code",
            "source": [
                "CREATE OR ALTER VIEW [data].[ViewActeursFilms] WITH SCHEMABINDING\r\n",
                "AS\r\n",
                "    SELECT [ACT].[Nom], [FLM].[Nom] AS [Film], [GRE].[Nom] AS [Genre], [SPR].[Nom] AS [Prod]\r\n",
                "    FROM [data].[Acteur_ACT] AS [ACT]\r\n",
                "    INNER JOIN [data].[FilmActeur_FAC] AS [FAC] ON [FAC].[ACT_Id] = [ACT].[Id]\r\n",
                "    INNER JOIN [data].[Film_FLM] AS [FLM] ON [FLM].[Id] = [FAC].[FLM_Id]\r\n",
                "    INNER JOIN [ref].[Genre_GRE] AS [GRE] ON [GRE].[Id] = [FLM].[GRE_Id]\r\n",
                "    INNER JOIN [data].[SocieteProd_SPR] AS [SPR] ON [SPR].[Id] = [FLM].[SPR_Id]"
            ],
            "metadata": {
                "azdata_cell_guid": "d29258aa-5304-494a-ae0d-33cc3fad738c"
            },
            "outputs": [
{
    "output_type": "display_data",
    "data": {
        "text/html": "Commands completed successfully."
    },
    "metadata": {}
}, {
    "output_type": "display_data",
    "data": {
        "text/html": "Total execution time: 00:00:00.053"
    },
    "metadata": {}
}
],
            "execution_count": null
        },
        {
            "cell_type": "code",
            "source": [
                "SELECT [Nom], [Film], [Genre], [Prod] FROM [data].[ViewActeursFilms]\r\n",
                "ORDER BY [Nom]"
            ],
            "metadata": {
                "azdata_cell_guid": "2c987e79-72fb-4156-985a-58c7e2f318a4"
            },
            "outputs": [
{
    "output_type": "display_data",
    "data": {
        "text/html": "(7 rows affected)"
    },
    "metadata": {}
}, {
    "output_type": "display_data",
    "data": {
        "text/html": "Total execution time: 00:00:00.033"
    },
    "metadata": {}
}, {
    "output_type": "execute_result",
    "metadata": {},
    "execution_count": 17,
    "data": {
        "application/vnd.dataresource+json": {
            "schema": {
                "fields": [
                    {
                        "name": "Nom"
                    },
                    {
                        "name": "Film"
                    },
                    {
                        "name": "Genre"
                    },
                    {
                        "name": "Prod"
                    }
                ]
            },
            "data": [
                {
                    "0": "Cotillard",
                    "1": "Batman",
                    "2": "Science Fiction",
                    "3": "Netflix"
                },
                {
                    "0": "De Niro",
                    "1": "Casino",
                    "2": "Action",
                    "3": "Lucas Film"
                },
                {
                    "0": "Depp",
                    "1": "Pirates de Caraïbes 2",
                    "2": "Action",
                    "3": "Disney"
                },
                {
                    "0": "Depp",
                    "1": "Pirates de Caraïbes",
                    "2": "Action",
                    "3": "Gaumont"
                },
                {
                    "0": "Fois",
                    "1": "Rrrrr",
                    "2": "Comédie",
                    "3": "Lucas Film"
                },
                {
                    "0": "Ford",
                    "1": "Indiana Jones",
                    "2": "Aventure",
                    "3": "Lucas Film"
                },
                {
                    "0": "Nanty",
                    "1": "Les tuches",
                    "2": "Comédie",
                    "3": "Pathé"
                }
            ]
        },
        "text/html": [
            "<table>",
            "<tr><th>Nom</th><th>Film</th><th>Genre</th><th>Prod</th></tr>",
            "<tr><td>Cotillard</td><td>Batman</td><td>Science Fiction</td><td>Netflix</td></tr>",
            "<tr><td>De Niro</td><td>Casino</td><td>Action</td><td>Lucas Film</td></tr>",
            "<tr><td>Depp</td><td>Pirates de Caraïbes 2</td><td>Action</td><td>Disney</td></tr>",
            "<tr><td>Depp</td><td>Pirates de Caraïbes</td><td>Action</td><td>Gaumont</td></tr>",
            "<tr><td>Fois</td><td>Rrrrr</td><td>Comédie</td><td>Lucas Film</td></tr>",
            "<tr><td>Ford</td><td>Indiana Jones</td><td>Aventure</td><td>Lucas Film</td></tr>",
            "<tr><td>Nanty</td><td>Les tuches</td><td>Comédie</td><td>Pathé</td></tr>",
            "</table>"
        ]
    }
}
],
            "execution_count": null
        },
        {
            "cell_type": "markdown",
            "source": [
                "## Vues Matérialisées\n",
                "\n",
                "Une vue à un instant T écrite sur disque. =\\> Pas à jour en temps réel.\n",
                "\n",
                "Point fort : Vitesse de lecture instantanée\n",
                "\n",
                "Point faible : Mise à jour manuelle"
            ],
            "metadata": {
                "azdata_cell_guid": "670f4a2e-629a-48d6-aaa5-ca69b6039c90"
            }
        },
        {
            "cell_type": "markdown",
            "source": [
                "## Index\n",
                "\n",
                "Créer sur des tables ou des vues.\n",
                "\n",
                "Différents types d'index :\n",
                "\n",
                "\\- Gestion de contraintes (unicité d'une valeur)\n",
                "\n",
                "\\- Faciliter l'accès aux données\n",
                "\n",
                "\\- ..."
            ],
            "metadata": {
                "azdata_cell_guid": "129f8298-4934-4588-ac27-ed7d785c1051"
            }
        },
        {
            "cell_type": "code",
            "source": [
                "CREATE UNIQUE INDEX [IDX_Unique_GRE] ON [ref].[Genre_GRE]([Nom] DESC)"
            ],
            "metadata": {
                "azdata_cell_guid": "1d99d6cf-4def-458e-8510-57c4bb3ea8dd"
            },
            "outputs": [
{
    "output_type": "display_data",
    "data": {
        "text/html": "Commands completed successfully."
    },
    "metadata": {}
}, {
    "output_type": "display_data",
    "data": {
        "text/html": "Total execution time: 00:00:00.013"
    },
    "metadata": {}
}
],
            "execution_count": null
        },
        {
            "cell_type": "code",
            "source": [
                "--INSERT INTO [ref].[Genre_GRE] ([Nom])\r\n",
                "--VALUES ('Horreur') -- Index unique, on a déjà la valeur -> erreur"
            ],
            "metadata": {
                "azdata_cell_guid": "fc31b7b0-6a85-4632-82f3-1ecb3585dc5f"
            },
            "outputs": [
{
    "output_type": "display_data",
    "data": {
        "text/html": "Commands completed successfully."
    },
    "metadata": {}
}, {
    "output_type": "display_data",
    "data": {
        "text/html": "Total execution time: 00:00:00.002"
    },
    "metadata": {}
}
],
            "execution_count": null
        },
        {
            "cell_type": "code",
            "source": [
                "CREATE INDEX [IDX_Acteur_Id_Par_Nom] ON [data].[Acteur_ACT]([Nom], [Id])\r\n",
                "CREATE UNIQUE CLUSTERED INDEX [IDX_Vue_Acteur_Film] ON [data].[ViewActeursFilms]([Nom], [Film])"
            ],
            "metadata": {
                "azdata_cell_guid": "b83336c7-05e2-43c2-b6ba-c58aa2f16af0"
            },
            "outputs": [
{
    "output_type": "display_data",
    "data": {
        "text/html": "Commands completed successfully."
    },
    "metadata": {}
}, {
    "output_type": "display_data",
    "data": {
        "text/html": "Total execution time: 00:00:00.023"
    },
    "metadata": {}
}
],
            "execution_count": null
        },
        {
            "cell_type": "code",
            "source": [
                "SELECT [Id]\r\n",
                "FROM [data].[Acteur_ACT]\r\n",
                "WHERE [Nom] = 'Depp'"
            ],
            "metadata": {
                "azdata_cell_guid": "aa4d11cc-6e29-46ee-813c-9b3f50d83124"
            },
            "outputs": [
{
    "output_type": "display_data",
    "data": {
        "text/html": "(1 row affected)"
    },
    "metadata": {}
}, {
    "output_type": "display_data",
    "data": {
        "text/html": "Total execution time: 00:00:00.011"
    },
    "metadata": {}
}, {
    "output_type": "execute_result",
    "metadata": {},
    "execution_count": 21,
    "data": {
        "application/vnd.dataresource+json": {
            "schema": {
                "fields": [
                    {
                        "name": "Id"
                    }
                ]
            },
            "data": [
                {
                    "0": "3ab6b5f1-412f-4bb2-888a-4a3d59606e2b"
                }
            ]
        },
        "text/html": [
            "<table>",
            "<tr><th>Id</th></tr>",
            "<tr><td>3ab6b5f1-412f-4bb2-888a-4a3d59606e2b</td></tr>",
            "</table>"
        ]
    }
}
],
            "execution_count": null
        },
        {
            "cell_type": "code",
            "source": [
                "SELECT [Film]\r\n",
                "FROM [data].[ViewActeursFilms]\r\n",
                "WHERE [Nom] = 'Depp'"
            ],
            "metadata": {
                "azdata_cell_guid": "c7140177-234e-4be9-8c74-eb8ac82e3014"
            },
            "outputs": [
{
    "output_type": "display_data",
    "data": {
        "text/html": "(2 rows affected)"
    },
    "metadata": {}
}, {
    "output_type": "display_data",
    "data": {
        "text/html": "Total execution time: 00:00:00.013"
    },
    "metadata": {}
}, {
    "output_type": "execute_result",
    "metadata": {},
    "execution_count": 22,
    "data": {
        "application/vnd.dataresource+json": {
            "schema": {
                "fields": [
                    {
                        "name": "Film"
                    }
                ]
            },
            "data": [
                {
                    "0": "Pirates de Caraïbes"
                },
                {
                    "0": "Pirates de Caraïbes 2"
                }
            ]
        },
        "text/html": [
            "<table>",
            "<tr><th>Film</th></tr>",
            "<tr><td>Pirates de Caraïbes</td></tr>",
            "<tr><td>Pirates de Caraïbes 2</td></tr>",
            "</table>"
        ]
    }
}
],
            "execution_count": null
        },
        {
            "cell_type": "markdown",
            "source": [
                "## Fonctions\n",
                "\n",
                "2 types :\n",
                "\n",
                "\\- Natives\n",
                "\n",
                "\\- UDF (User Defined Functions)"
            ],
            "metadata": {
                "azdata_cell_guid": "3dafb307-7352-47a1-b7db-81cf9ea7789b"
            }
        },
        {
            "cell_type": "code",
            "source": [
                "SELECT TOP 1\r\n",
                "    GETDATE() AS [Date],\r\n",
                "    DATEADD(DAY, 2, GETDATE()) AS [Après demain],\r\n",
                "    DATEDIFF(DAY, DATEADD(MONTH, 2, GETDATE()), GETDATE()) AS [Diff deux mois],\r\n",
                "    CONCAT([Prenom], ' ', [Nom]) AS [Nom complet],\r\n",
                "    COALESCE(null, 'Test') AS [Coalesce]\r\n",
                "FROM [data].[Acteur_ACT]"
            ],
            "metadata": {
                "azdata_cell_guid": "1d13ca5b-5b36-440f-ba11-aa1659165874"
            },
            "outputs": [
{
    "output_type": "display_data",
    "data": {
        "text/html": "(1 row affected)"
    },
    "metadata": {}
}, {
    "output_type": "display_data",
    "data": {
        "text/html": "Total execution time: 00:00:00.010"
    },
    "metadata": {}
}, {
    "output_type": "execute_result",
    "metadata": {},
    "execution_count": 23,
    "data": {
        "application/vnd.dataresource+json": {
            "schema": {
                "fields": [
                    {
                        "name": "Date"
                    },
                    {
                        "name": "Après demain"
                    },
                    {
                        "name": "Diff deux mois"
                    },
                    {
                        "name": "Nom complet"
                    },
                    {
                        "name": "Coalesce"
                    }
                ]
            },
            "data": [
                {
                    "0": "2021-03-11 18:07:52.703",
                    "1": "2021-03-13 18:07:52.703",
                    "2": "-61",
                    "3": "Johny Depp",
                    "4": "Test"
                }
            ]
        },
        "text/html": [
            "<table>",
            "<tr><th>Date</th><th>Après demain</th><th>Diff deux mois</th><th>Nom complet</th><th>Coalesce</th></tr>",
            "<tr><td>2021-03-11 18:07:52.703</td><td>2021-03-13 18:07:52.703</td><td>-61</td><td>Johny Depp</td><td>Test</td></tr>",
            "</table>"
        ]
    }
}
],
            "execution_count": null
        },
        {
            "cell_type": "code",
            "source": [
                "CREATE FUNCTION [data].[fun_GetFilmParNomActeur](@Nom NVARCHAR(80))\r\n",
                "RETURNS NVARCHAR(80)\r\n",
                "AS\r\n",
                "BEGIN\r\n",
                "    DECLARE @Film NVARCHAR(80)\r\n",
                "\r\n",
                "    SELECT TOP 1  @Film = [Film]\r\n",
                "    FROM [data].[ViewActeursFilms]\r\n",
                "    WHERE [Nom] = @Nom\r\n",
                "\r\n",
                "    RETURN @Film\r\n",
                "END"
            ],
            "metadata": {
                "azdata_cell_guid": "dd9b8d9a-176c-496b-97b6-3481eb058e74"
            },
            "outputs": [
{
    "output_type": "display_data",
    "data": {
        "text/html": "Commands completed successfully."
    },
    "metadata": {}
}, {
    "output_type": "display_data",
    "data": {
        "text/html": "Total execution time: 00:00:00.007"
    },
    "metadata": {}
}
],
            "execution_count": null
        },
        {
            "cell_type": "code",
            "source": [
                "SELECT [Nom], [data].[fun_GetFilmParNomActeur]([Nom]) AS [Film]\r\n",
                "FROM [data].[Acteur_ACT]"
            ],
            "metadata": {
                "azdata_cell_guid": "d163783f-45df-4a2f-9283-7a5c73f9967b",
                "tags": [
                    "hide_input"
                ]
            },
            "outputs": [
{
    "output_type": "display_data",
    "data": {
        "text/html": "(6 rows affected)"
    },
    "metadata": {}
}, {
    "output_type": "display_data",
    "data": {
        "text/html": "Total execution time: 00:00:00.022"
    },
    "metadata": {}
}, {
    "output_type": "execute_result",
    "metadata": {},
    "execution_count": 25,
    "data": {
        "application/vnd.dataresource+json": {
            "schema": {
                "fields": [
                    {
                        "name": "Nom"
                    },
                    {
                        "name": "Film"
                    }
                ]
            },
            "data": [
                {
                    "0": "Cotillard",
                    "1": "Batman"
                },
                {
                    "0": "De Niro",
                    "1": "Casino"
                },
                {
                    "0": "Depp",
                    "1": "Pirates de Caraïbes"
                },
                {
                    "0": "Fois",
                    "1": "Rrrrr"
                },
                {
                    "0": "Ford",
                    "1": "Indiana Jones"
                },
                {
                    "0": "Nanty",
                    "1": "Les tuches"
                }
            ]
        },
        "text/html": [
            "<table>",
            "<tr><th>Nom</th><th>Film</th></tr>",
            "<tr><td>Cotillard</td><td>Batman</td></tr>",
            "<tr><td>De Niro</td><td>Casino</td></tr>",
            "<tr><td>Depp</td><td>Pirates de Caraïbes</td></tr>",
            "<tr><td>Fois</td><td>Rrrrr</td></tr>",
            "<tr><td>Ford</td><td>Indiana Jones</td></tr>",
            "<tr><td>Nanty</td><td>Les tuches</td></tr>",
            "</table>"
        ]
    }
}
],
            "execution_count": null
        },
        {
            "cell_type": "markdown",
            "source": [
                "## Exercice\n",
                "\\- Créez une table de référence récompenses avec les valeurs \"Oscar du meilleur acteur\", \"Oscar de la meilleure actrice\", \"Meilleure bande son\"\n",
                "\\- Faire en sorte qu'un film ou un acteur puisse avoir 0 à n récompenses\n",
                "\\- Attribuer des récompenses à deux acteurs et deux films (si possible pas à un acteur du film)\n",
                "\\- Faire une vue qui permet de récupérer les récompenses des acteurs/films\n",
                "| Nom | Récompense |\n",
                "| --- | --- |\n",
                "| Robert De Niro | Oscar du meilleur acteur |\n",
                "| Les Tuches | Meilleure bande son |\n",
                "| Batman | NULL |"
            ],
            "metadata": {
                "azdata_cell_guid": "bdcbb57e-57ed-4760-b05c-85af49e2d431"
            }
        },
        {
            "cell_type": "code",
            "source": [
                "CREATE TABLE [ref].[Recompense_RCP] (\r\n",
                "    [Id] TINYINT PRIMARY KEY IDENTITY(1, 1),\r\n",
                "    [Nom] NVARCHAR(50) NOT NULL UNIQUE\r\n",
                ")\r\n",
                "\r\n",
                "CREATE TABLE [data].[FilmsRecompenses_FRC] (\r\n",
                "    [FLM_Id] BIGINT NOT NULL,\r\n",
                "    [RCP_Id] TINYINT NOT NULL,\r\n",
                "    CONSTRAINT PK_FilmsRecompenses PRIMARY KEY ([FLM_Id], [RCP_Id]),\r\n",
                "    CONSTRAINT FK_FLM_FRC FOREIGN KEY ([FLM_Id]) REFERENCES [data].[Film_FLM]([Id]),\r\n",
                "    CONSTRAINT FK_RCP_FRC FOREIGN KEY ([RCP_Id]) REFERENCES [ref].[Recompense_RCP]([Id])\r\n",
                ")\r\n",
                "\r\n",
                "CREATE TABLE [data].[ActeursRecompenses_ARC] (\r\n",
                "    [ACT_Id] UNIQUEIDENTIFIER NOT NULL,\r\n",
                "    [FLM_Id] BIGINT NOT NULL,\r\n",
                "    [RCP_Id] TINYINT NOT NULL,\r\n",
                "    CONSTRAINT PK_ActeursRecompenses PRIMARY KEY ([ACT_Id], [FLM_Id], [RCP_Id]),\r\n",
                "    CONSTRAINT FK_ACT_ARC FOREIGN KEY ([ACT_Id]) REFERENCES [data].[Acteur_ACT]([Id]),\r\n",
                "    CONSTRAINT FK_FLM_ARC FOREIGN KEY ([FLM_Id]) REFERENCES [data].[Film_FLM]([Id]),\r\n",
                "    CONSTRAINT FK_RCP_ARC FOREIGN KEY ([RCP_Id]) REFERENCES [ref].[Recompense_RCP]([Id])\r\n",
                ")\r\n",
                ""
            ],
            "metadata": {
                "azdata_cell_guid": "b8f90869-bc78-4871-ae63-d4ce5a27cde6",
                "tags": []
            },
            "outputs": [
{
    "output_type": "display_data",
    "data": {
        "text/html": "Commands completed successfully."
    },
    "metadata": {}
}, {
    "output_type": "display_data",
    "data": {
        "text/html": "Total execution time: 00:00:00.023"
    },
    "metadata": {}
}
],
            "execution_count": null
        },
        {
            "cell_type": "code",
            "source": [
                "INSERT INTO [ref].[Recompense_RCP] ([Nom])\r\n",
                "VALUES (N'Oscar du meilleur acteur'), (N'Oscar de la meilleure actrice'), (N'Oscar de la meilleure BO')\r\n",
                "\r\n",
                "INSERT INTO [data].[FilmsRecompenses_FRC] ([FLM_Id], [RCP_Id])\r\n",
                "VALUES (1, 3)\r\n",
                "\r\n",
                "INSERT INTO [data].[ActeursRecompenses_ARC] ([ACT_Id], [FLM_Id], [RCP_Id])\r\n",
                "SELECT TOP 1 [ACT].[Id], [FLM].[Id], 1\r\n",
                "FROM [data].[ViewActeursFilms] AS [VUE]\r\n",
                "INNER JOIN [data].[Acteur_ACT] AS [ACT] ON [ACT].[Nom] = [VUE].[Nom]\r\n",
                "INNER JOIN [data].[Film_FLM] AS [FLM] ON [FLM].[Nom] = [VUE].[Film]\r\n",
                "WHERE [ACT].[NOM] = 'Ford'\r\n",
                "\r\n",
                "INSERT INTO [data].[ActeursRecompenses_ARC] ([ACT_Id], [FLM_Id], [RCP_Id])\r\n",
                "SELECT TOP 1 [ACT].[Id], [FLM].[Id], 2\r\n",
                "FROM [data].[ViewActeursFilms] AS [VUE]\r\n",
                "INNER JOIN [data].[Acteur_ACT] AS [ACT] ON [ACT].[Nom] = [VUE].[Nom]\r\n",
                "INNER JOIN [data].[Film_FLM] AS [FLM] ON [FLM].[Nom] = [VUE].[Film]\r\n",
                "WHERE [ACT].[NOM] = 'Nanty'"
            ],
            "metadata": {
                "azdata_cell_guid": "14b84515-3a86-441a-a7c4-ef5bdd0d7305"
            },
            "outputs": [
{
    "output_type": "display_data",
    "data": {
        "text/html": "(3 rows affected)"
    },
    "metadata": {}
}, {
    "output_type": "display_data",
    "data": {
        "text/html": "(1 row affected)"
    },
    "metadata": {}
}, {
    "output_type": "display_data",
    "data": {
        "text/html": "(1 row affected)"
    },
    "metadata": {}
}, {
    "output_type": "display_data",
    "data": {
        "text/html": "(1 row affected)"
    },
    "metadata": {}
}, {
    "output_type": "display_data",
    "data": {
        "text/html": "Total execution time: 00:00:00.046"
    },
    "metadata": {}
}
],
            "execution_count": null
        },
        {
            "cell_type": "code",
            "source": [
                "CREATE OR ALTER VIEW [data].[VueRecompenses]\r\n",
                "AS\r\n",
                "    SELECT\r\n",
                "        [RCP].[Nom] AS [Récompense], \r\n",
                "        COALESCE([FLM].[Nom], CONCAT([ACT].[Nom], ' pour ', [FLM2].[Nom])) AS [Nom]\r\n",
                "    FROM [ref].[Recompense_RCP] AS [RCP]\r\n",
                "    LEFT JOIN [data].[FilmsRecompenses_FRC] AS [FRC] ON [FRC].[RCP_Id] = [RCP].[Id]\r\n",
                "    LEFT JOIN [data].[Film_FLM] AS [FLM] ON [FLM].[Id] = [FRC].[FLM_Id]\r\n",
                "\r\n",
                "    LEFT JOIN [data].[ActeursRecompenses_ARC] AS [ARC] ON [ARC].[RCP_Id] = [RCP].[Id]\r\n",
                "    LEFT JOIN [data].[Acteur_ACT] AS [ACT] ON [ACT].[Id] = [ARC].[ACT_Id]\r\n",
                "    LEFT JOIN [data].[Film_FLM] AS [FLM2] ON [FLM2].[Id] = [ARC].[FLM_Id]"
            ],
            "metadata": {
                "azdata_cell_guid": "b1574ebe-d239-43f8-973b-5b890367e388"
            },
            "outputs": [
{
    "output_type": "display_data",
    "data": {
        "text/html": "Commands completed successfully."
    },
    "metadata": {}
}, {
    "output_type": "display_data",
    "data": {
        "text/html": "Total execution time: 00:00:00.008"
    },
    "metadata": {}
}
],
            "execution_count": null
        },
        {
            "cell_type": "code",
            "source": [
                "SELECT * FROM [data].[VueRecompenses]"
            ],
            "metadata": {
                "azdata_cell_guid": "166e40bb-d134-45c9-90d3-b357da53cfee"
            },
            "outputs": [
{
    "output_type": "display_data",
    "data": {
        "text/html": "(3 rows affected)"
    },
    "metadata": {}
}, {
    "output_type": "display_data",
    "data": {
        "text/html": "Total execution time: 00:00:00.043"
    },
    "metadata": {}
}, {
    "output_type": "execute_result",
    "metadata": {},
    "execution_count": 29,
    "data": {
        "application/vnd.dataresource+json": {
            "schema": {
                "fields": [
                    {
                        "name": "Récompense"
                    },
                    {
                        "name": "Nom"
                    }
                ]
            },
            "data": [
                {
                    "0": "Oscar de la meilleure actrice",
                    "1": "Nanty pour Les tuches"
                },
                {
                    "0": "Oscar de la meilleure BO",
                    "1": "Indiana Jones"
                },
                {
                    "0": "Oscar du meilleur acteur",
                    "1": "Ford pour Indiana Jones"
                }
            ]
        },
        "text/html": [
            "<table>",
            "<tr><th>Récompense</th><th>Nom</th></tr>",
            "<tr><td>Oscar de la meilleure actrice</td><td>Nanty pour Les tuches</td></tr>",
            "<tr><td>Oscar de la meilleure BO</td><td>Indiana Jones</td></tr>",
            "<tr><td>Oscar du meilleur acteur</td><td>Ford pour Indiana Jones</td></tr>",
            "</table>"
        ]
    }
}
],
            "execution_count": null
        },
        {
            "cell_type": "markdown",
            "source": [
                "## Les triggers\n",
                "\n",
                "Un trigger (déclencheur) =\\> un code éxécuté sur un événement donné\n",
                "\n",
                "Curseur =\\> Une sorte de référence sur un espace mémoire qui comporte un résultat de requête et qui nous permet de le parcourir enregistrement par enregistrement"
            ],
            "metadata": {
                "azdata_cell_guid": "11d1889a-ad59-43a5-a48e-ff0f2781f226"
            }
        },
        {
            "cell_type": "code",
            "source": [
                "ALTER TABLE [data].[Film_FLM]\r\n",
                "    ADD [LastEdit] DATETIME NOT NULL DEFAULT GETDATE()"
            ],
            "metadata": {
                "azdata_cell_guid": "128d54d9-689c-473a-b843-ed77d42e8672"
            },
            "outputs": [
{
    "output_type": "display_data",
    "data": {
        "text/html": "Commands completed successfully."
    },
    "metadata": {}
}, {
    "output_type": "display_data",
    "data": {
        "text/html": "Total execution time: 00:00:00.007"
    },
    "metadata": {}
}
],
            "execution_count": null
        },
        {
            "cell_type": "code",
            "source": [
                "SELECT * FROM [data].[Film_FLM]"
            ],
            "metadata": {
                "azdata_cell_guid": "5ba4e14c-4fa8-46aa-bdc1-c137e76040be"
            },
            "outputs": [
{
    "output_type": "display_data",
    "data": {
        "text/html": "(7 rows affected)"
    },
    "metadata": {}
}, {
    "output_type": "display_data",
    "data": {
        "text/html": "Total execution time: 00:00:00.011"
    },
    "metadata": {}
}, {
    "output_type": "execute_result",
    "metadata": {},
    "execution_count": 31,
    "data": {
        "application/vnd.dataresource+json": {
            "schema": {
                "fields": [
                    {
                        "name": "Id"
                    },
                    {
                        "name": "Nom"
                    },
                    {
                        "name": "Descriptif"
                    },
                    {
                        "name": "GRE_Id"
                    },
                    {
                        "name": "SPR_Id"
                    },
                    {
                        "name": "LastEdit"
                    }
                ]
            },
            "data": [
                {
                    "0": "1",
                    "1": "Indiana Jones",
                    "2": "Film sur un archéologue",
                    "3": "3",
                    "4": "1",
                    "5": "2021-03-11 18:07:56.420"
                },
                {
                    "0": "2",
                    "1": "Pirates de Caraïbes",
                    "2": "Film de pirates",
                    "3": "2",
                    "4": "2",
                    "5": "2021-03-11 18:07:56.420"
                },
                {
                    "0": "3",
                    "1": "Les tuches",
                    "2": "Description tuches",
                    "3": "6",
                    "4": "5",
                    "5": "2021-03-11 18:07:56.420"
                },
                {
                    "0": "4",
                    "1": "Batman",
                    "2": "Descriptif Batman",
                    "3": "5",
                    "4": "4",
                    "5": "2021-03-11 18:07:56.420"
                },
                {
                    "0": "5",
                    "1": "Rrrrr",
                    "2": "Descriptif Rrrrr",
                    "3": "6",
                    "4": "1",
                    "5": "2021-03-11 18:07:56.420"
                },
                {
                    "0": "6",
                    "1": "Casino",
                    "2": "Descriptif Casino",
                    "3": "2",
                    "4": "1",
                    "5": "2021-03-11 18:07:56.420"
                },
                {
                    "0": "7",
                    "1": "Pirates de Caraïbes 2",
                    "2": "Descriptif de l'autre film",
                    "3": "2",
                    "4": "3",
                    "5": "2021-03-11 18:07:56.420"
                }
            ]
        },
        "text/html": [
            "<table>",
            "<tr><th>Id</th><th>Nom</th><th>Descriptif</th><th>GRE_Id</th><th>SPR_Id</th><th>LastEdit</th></tr>",
            "<tr><td>1</td><td>Indiana Jones</td><td>Film sur un archéologue</td><td>3</td><td>1</td><td>2021-03-11 18:07:56.420</td></tr>",
            "<tr><td>2</td><td>Pirates de Caraïbes</td><td>Film de pirates</td><td>2</td><td>2</td><td>2021-03-11 18:07:56.420</td></tr>",
            "<tr><td>3</td><td>Les tuches</td><td>Description tuches</td><td>6</td><td>5</td><td>2021-03-11 18:07:56.420</td></tr>",
            "<tr><td>4</td><td>Batman</td><td>Descriptif Batman</td><td>5</td><td>4</td><td>2021-03-11 18:07:56.420</td></tr>",
            "<tr><td>5</td><td>Rrrrr</td><td>Descriptif Rrrrr</td><td>6</td><td>1</td><td>2021-03-11 18:07:56.420</td></tr>",
            "<tr><td>6</td><td>Casino</td><td>Descriptif Casino</td><td>2</td><td>1</td><td>2021-03-11 18:07:56.420</td></tr>",
            "<tr><td>7</td><td>Pirates de Caraïbes 2</td><td>Descriptif de l'autre film</td><td>2</td><td>3</td><td>2021-03-11 18:07:56.420</td></tr>",
            "</table>"
        ]
    }
}
],
            "execution_count": null
        },
        {
            "cell_type": "code",
            "source": [
                "CREATE OR ALTER TRIGGER [data].[trig_UpdateFLMLastUpdate]\r\n",
                "    ON [data].[Film_FLM]\r\n",
                "    AFTER UPDATE\r\n",
                "AS\r\n",
                "BEGIN\r\n",
                "    SET NOCOUNT ON;\r\n",
                "\r\n",
                "    DECLARE @FlmId BIGINT\r\n",
                "    DECLARE @NbItems INT\r\n",
                "\r\n",
                "    SELECT @NbItems = COUNT(*) FROM INSERTED\r\n",
                "\r\n",
                "    IF @NbItems > 1\r\n",
                "    BEGIN\r\n",
                "        DECLARE curs CURSOR FOR SELECT [Id] FROM INSERTED\r\n",
                "\r\n",
                "        OPEN curs\r\n",
                "\r\n",
                "        FETCH NEXT FROM curs INTO @FlmId\r\n",
                "        WHILE (@@FETCH_STATUS = 0)\r\n",
                "        BEGIN\r\n",
                "            UPDATE [data].[Film_FLM]\r\n",
                "            SET [LastEdit] = GETDATE()\r\n",
                "            WHERE [Id] = @FlmId\r\n",
                "\r\n",
                "            FETCH NEXT FROM curs INTO @FlmId\r\n",
                "        END\r\n",
                "\r\n",
                "        CLOSE curs\r\n",
                "        DEALLOCATE curs\r\n",
                "    END\r\n",
                "    ELSE\r\n",
                "    BEGIN\r\n",
                "        SELECT TOP 1 @FlmId = [Id] FROM INSERTED\r\n",
                "\r\n",
                "        UPDATE [data].[Film_FLM]\r\n",
                "        SET [LastEdit] = GETDATE()\r\n",
                "        WHERE [Id] = @FlmId\r\n",
                "    END\r\n",
                "END"
            ],
            "metadata": {
                "azdata_cell_guid": "bdd2436e-e3f9-468d-9a5b-916b081920fd"
            },
            "outputs": [
{
    "output_type": "display_data",
    "data": {
        "text/html": "Commands completed successfully."
    },
    "metadata": {}
}, {
    "output_type": "display_data",
    "data": {
        "text/html": "Total execution time: 00:00:00.009"
    },
    "metadata": {}
}
],
            "execution_count": null
        },
        {
            "cell_type": "markdown",
            "source": [
                "Apparté : Itérateur\n",
                "\n",
                "  \n",
                "\n",
                "Itérateur =\\> structure qui va vous permettre de faire des boucles \"à la main\"\n",
                "\n",
                "1. Déclarer/Récupérer l'itérateur\n",
                "2. Demander le next / Demander si le next existe\n",
                "3. Si le next est définit, on le récupère\n",
                "4. Faire votre traitement\n",
                "5. Retourner en étape 2\n",
                "\n",
                "  \n",
                "\n",
                "## Les transactions\n",
                "\n",
                "On va créer un contexte de travail pour le SGBD =\\> on écrit pas directement les valeurs sur le disque, on peut calculer des valeurs (Ids, ...), mais tant que la transaction n'est pas validée, rien n'est persisté"
            ],
            "metadata": {
                "azdata_cell_guid": "5b1fbea3-de79-46ba-bab5-9cf10ea05462"
            }
        },
        {
            "cell_type": "code",
            "source": [
                "BEGIN TRANSACTION MA_TRANSACTION\r\n",
                "BEGIN TRY\r\n",
                "    INSERT INTO [data].[ActeursRecompenses_ARC] ([ACT_Id], [FLM_Id], [RCP_Id])\r\n",
                "    SELECT TOP 1 [ACT].[Id], [FLM].[Id], 2\r\n",
                "    FROM [data].[ViewActeursFilms] AS [VUE]\r\n",
                "    INNER JOIN [data].[Acteur_ACT] AS [ACT] ON [ACT].[Nom] = [VUE].[Nom]\r\n",
                "    INNER JOIN [data].[Film_FLM] AS [FLM] ON [FLM].[Nom] = [VUE].[Film]\r\n",
                "    WHERE [ACT].[NOM] = 'Fois'\r\n",
                "\r\n",
                "    INSERT INTO [data].[ActeursRecompenses_ARC] ([ACT_Id], [FLM_Id], [RCP_Id])\r\n",
                "    SELECT TOP 1 [ACT].[Id], [FLM].[Id], 2\r\n",
                "    FROM [data].[ViewActeursFilms] AS [VUE]\r\n",
                "    INNER JOIN [data].[Acteur_ACT] AS [ACT] ON [ACT].[Nom] = [VUE].[Nom]\r\n",
                "    INNER JOIN [data].[Film_FLM] AS [FLM] ON [FLM].[Nom] = [VUE].[Film]\r\n",
                "    WHERE [ACT].[NOM] = 'Nanty'\r\n",
                "\r\n",
                "    COMMIT TRANSACTION MA_TRANSACTION\r\n",
                "END TRY\r\n",
                "BEGIN CATCH\r\n",
                "    ROLLBACK TRANSACTION MA_TRANSACTION\r\n",
                "\r\n",
                "    SELECT ERROR_NUMBER(), ERROR_MESSAGE()\r\n",
                "END CATCH\r\n",
                "\r\n",
                "SELECT * FROM [data].[VueRecompenses]"
            ],
            "metadata": {
                "azdata_cell_guid": "59246dfd-5149-4575-8e91-379f8b4d2640"
            },
            "outputs": [
{
    "output_type": "display_data",
    "data": {
        "text/html": "(1 row affected)"
    },
    "metadata": {}
}, {
    "output_type": "display_data",
    "data": {
        "text/html": "(0 rows affected)"
    },
    "metadata": {}
}, {
    "output_type": "display_data",
    "data": {
        "text/html": "(1 row affected)"
    },
    "metadata": {}
}, {
    "output_type": "display_data",
    "data": {
        "text/html": "(3 rows affected)"
    },
    "metadata": {}
}, {
    "output_type": "display_data",
    "data": {
        "text/html": "Total execution time: 00:00:00.059"
    },
    "metadata": {}
}, {
    "output_type": "execute_result",
    "metadata": {},
    "execution_count": 33,
    "data": {
        "application/vnd.dataresource+json": {
            "schema": {
                "fields": [
                    {
                        "name": "(No column name)"
                    },
                    {
                        "name": "(No column name)"
                    }
                ]
            },
            "data": [
                {
                    "0": "2627",
                    "1": "Violation of PRIMARY KEY constraint 'PK_ActeursRecompenses'. Cannot insert duplicate key in object 'data.ActeursRecompenses_ARC'. The duplicate key value is (b24198de-f8e4-4afb-8d7e-f2404a03dd14, 3, 2)."
                }
            ]
        },
        "text/html": [
            "<table>",
            "<tr><th>(No column name)</th><th>(No column name)</th></tr>",
            "<tr><td>2627</td><td>Violation of PRIMARY KEY constraint 'PK_ActeursRecompenses'. Cannot insert duplicate key in object 'data.ActeursRecompenses_ARC'. The duplicate key value is (b24198de-f8e4-4afb-8d7e-f2404a03dd14, 3, 2).</td></tr>",
            "</table>"
        ]
    }
}, {
    "output_type": "execute_result",
    "metadata": {},
    "execution_count": 33,
    "data": {
        "application/vnd.dataresource+json": {
            "schema": {
                "fields": [
                    {
                        "name": "Récompense"
                    },
                    {
                        "name": "Nom"
                    }
                ]
            },
            "data": [
                {
                    "0": "Oscar de la meilleure actrice",
                    "1": "Nanty pour Les tuches"
                },
                {
                    "0": "Oscar de la meilleure BO",
                    "1": "Indiana Jones"
                },
                {
                    "0": "Oscar du meilleur acteur",
                    "1": "Ford pour Indiana Jones"
                }
            ]
        },
        "text/html": [
            "<table>",
            "<tr><th>Récompense</th><th>Nom</th></tr>",
            "<tr><td>Oscar de la meilleure actrice</td><td>Nanty pour Les tuches</td></tr>",
            "<tr><td>Oscar de la meilleure BO</td><td>Indiana Jones</td></tr>",
            "<tr><td>Oscar du meilleur acteur</td><td>Ford pour Indiana Jones</td></tr>",
            "</table>"
        ]
    }
}
],
            "execution_count": null
        },
        {
            "cell_type": "code",
            "source": [
                "BEGIN TRANSACTION MA_TRANSACTION\r\n",
                "BEGIN TRY\r\n",
                "    INSERT INTO [data].[ActeursRecompenses_ARC] ([ACT_Id], [FLM_Id], [RCP_Id])\r\n",
                "    SELECT TOP 1 [ACT].[Id], [FLM].[Id], 2\r\n",
                "    FROM [data].[ViewActeursFilms] AS [VUE]\r\n",
                "    INNER JOIN [data].[Acteur_ACT] AS [ACT] ON [ACT].[Nom] = [VUE].[Nom]\r\n",
                "    INNER JOIN [data].[Film_FLM] AS [FLM] ON [FLM].[Nom] = [VUE].[Film]\r\n",
                "    WHERE [ACT].[NOM] = 'Fois'\r\n",
                "\r\n",
                "    INSERT INTO [data].[ActeursRecompenses_ARC] ([ACT_Id], [FLM_Id], [RCP_Id])\r\n",
                "    SELECT TOP 1 [ACT].[Id], [FLM].[Id], 2\r\n",
                "    FROM [data].[ViewActeursFilms] AS [VUE]\r\n",
                "    INNER JOIN [data].[Acteur_ACT] AS [ACT] ON [ACT].[Nom] = [VUE].[Nom]\r\n",
                "    INNER JOIN [data].[Film_FLM] AS [FLM] ON [FLM].[Nom] = [VUE].[Film]\r\n",
                "    WHERE [ACT].[NOM] = 'Cotillard'\r\n",
                "\r\n",
                "    COMMIT TRANSACTION MA_TRANSACTION\r\n",
                "END TRY\r\n",
                "BEGIN CATCH\r\n",
                "    ROLLBACK TRANSACTION MA_TRANSACTION\r\n",
                "\r\n",
                "    SELECT ERROR_NUMBER(), ERROR_MESSAGE()\r\n",
                "END CATCH\r\n",
                "\r\n",
                "SELECT * FROM [data].[VueRecompenses]"
            ],
            "metadata": {
                "azdata_cell_guid": "d3280511-7483-49f8-ba32-a5b9167eefd7"
            },
            "outputs": [
{
    "output_type": "display_data",
    "data": {
        "text/html": "(1 row affected)"
    },
    "metadata": {}
}, {
    "output_type": "display_data",
    "data": {
        "text/html": "(1 row affected)"
    },
    "metadata": {}
}, {
    "output_type": "display_data",
    "data": {
        "text/html": "(5 rows affected)"
    },
    "metadata": {}
}, {
    "output_type": "display_data",
    "data": {
        "text/html": "Total execution time: 00:00:00.031"
    },
    "metadata": {}
}, {
    "output_type": "execute_result",
    "metadata": {},
    "execution_count": 34,
    "data": {
        "application/vnd.dataresource+json": {
            "schema": {
                "fields": [
                    {
                        "name": "Récompense"
                    },
                    {
                        "name": "Nom"
                    }
                ]
            },
            "data": [
                {
                    "0": "Oscar de la meilleure actrice",
                    "1": "Cotillard pour Batman"
                },
                {
                    "0": "Oscar de la meilleure actrice",
                    "1": "Fois pour Rrrrr"
                },
                {
                    "0": "Oscar de la meilleure actrice",
                    "1": "Nanty pour Les tuches"
                },
                {
                    "0": "Oscar de la meilleure BO",
                    "1": "Indiana Jones"
                },
                {
                    "0": "Oscar du meilleur acteur",
                    "1": "Ford pour Indiana Jones"
                }
            ]
        },
        "text/html": [
            "<table>",
            "<tr><th>Récompense</th><th>Nom</th></tr>",
            "<tr><td>Oscar de la meilleure actrice</td><td>Cotillard pour Batman</td></tr>",
            "<tr><td>Oscar de la meilleure actrice</td><td>Fois pour Rrrrr</td></tr>",
            "<tr><td>Oscar de la meilleure actrice</td><td>Nanty pour Les tuches</td></tr>",
            "<tr><td>Oscar de la meilleure BO</td><td>Indiana Jones</td></tr>",
            "<tr><td>Oscar du meilleur acteur</td><td>Ford pour Indiana Jones</td></tr>",
            "</table>"
        ]
    }
}
],
            "execution_count": null
        },
        {
            "cell_type": "markdown",
            "source": [
                "## Procédures stockées\n",
                "\n",
                "Elles vont nous permettre de stocker des suites d'opération dont le code va être optimisé pour le SGBD =\\> grande vitesse d'éxécution"
            ],
            "metadata": {
                "azdata_cell_guid": "b4dca898-3afd-4c63-85d4-5d839c780c9b"
            }
        },
        {
            "cell_type": "code",
            "source": [
                "CREATE OR ALTER PROCEDURE [ref].[prc_InsertionActeur]\r\n",
                "    @Nom NVARCHAR(80),\r\n",
                "    @Prenom NVARCHAR(80)\r\n",
                "AS\r\n",
                "BEGIN\r\n",
                "    SET NOCOUNT ON;\r\n",
                "\r\n",
                "    BEGIN TRANSACTION InsertAct\r\n",
                "    BEGIN TRY\r\n",
                "        INSERT INTO [data].[Acteur_ACT] ([Nom], [Prenom])\r\n",
                "        VALUES (@Nom, @Prenom)\r\n",
                "\r\n",
                "        COMMIT TRANSACTION InsertAct\r\n",
                "\r\n",
                "        SELECT 0 AS [Number], N'' AS [Message]\r\n",
                "    END TRY\r\n",
                "    BEGIN CATCH\r\n",
                "        ROLLBACK TRANSACTION InsertAct\r\n",
                "\r\n",
                "        SELECT ERROR_NUMBER() AS [Number], ERROR_MESSAGE() AS [Message]\r\n",
                "    END CATCH\r\n",
                "END;"
            ],
            "metadata": {
                "azdata_cell_guid": "13a2e64c-e122-429e-823f-05fe1829c5eb"
            },
            "outputs": [
{
    "output_type": "display_data",
    "data": {
        "text/html": "Commands completed successfully."
    },
    "metadata": {}
}, {
    "output_type": "display_data",
    "data": {
        "text/html": "Total execution time: 00:00:00.017"
    },
    "metadata": {}
}
],
            "execution_count": null
        },
        {
            "cell_type": "code",
            "source": [
                "CREATE OR ALTER PROCEDURE [ref].[prc_InsertArc]\r\n",
                "    @ActId UNIQUEIDENTIFIER,\r\n",
                "    @FlmId BIGINT,\r\n",
                "    @RcpId TINYINT\r\n",
                "AS\r\n",
                "BEGIN\r\n",
                "    SET NOCOUNT ON;\r\n",
                "\r\n",
                "    BEGIN TRANSACTION InsertArc\r\n",
                "    BEGIN TRY\r\n",
                "        INSERT INTO [data].[ActeursRecompenses_ARC] ([ACT_Id], [FLM_Id], [RCP_Id])\r\n",
                "        VALUES (@ActId, @FlmId, @RcpId)\r\n",
                "\r\n",
                "        COMMIT TRANSACTION InsertArc\r\n",
                "\r\n",
                "        SELECT 0 AS [Number], N'' AS [Message]\r\n",
                "    END TRY\r\n",
                "    BEGIN CATCH\r\n",
                "        ROLLBACK TRANSACTION InsertArc\r\n",
                "\r\n",
                "        SELECT ERROR_NUMBER() AS [Number], ERROR_MESSAGE() AS [Message]\r\n",
                "    END CATCH\r\n",
                "END"
            ],
            "metadata": {
                "azdata_cell_guid": "da4bf03a-20ce-40f8-b124-cc0a22401c2d"
            },
            "outputs": [
{
    "output_type": "display_data",
    "data": {
        "text/html": "Commands completed successfully."
    },
    "metadata": {}
}, {
    "output_type": "display_data",
    "data": {
        "text/html": "Total execution time: 00:00:00.049"
    },
    "metadata": {}
}
],
            "execution_count": null
        },
        {
            "cell_type": "code",
            "source": [
                "DECLARE @Id UNIQUEIDENTIFIER\r\n",
                "SELECT @Id = NEWID()\r\n",
                "\r\n",
                "EXEC [ref].[prc_InsertArc] @ActId = @Id, @FlmId = 12, @RcpId = 12"
            ],
            "metadata": {
                "azdata_cell_guid": "6771016f-2718-4a02-aeba-8434875e3dae"
            },
            "outputs": [
{
    "output_type": "display_data",
    "data": {
        "text/html": "Commands completed successfully."
    },
    "metadata": {}
}, {
    "output_type": "display_data",
    "data": {
        "text/html": "Total execution time: 00:00:00.009"
    },
    "metadata": {}
}, {
    "output_type": "execute_result",
    "metadata": {},
    "execution_count": 37,
    "data": {
        "application/vnd.dataresource+json": {
            "schema": {
                "fields": [
                    {
                        "name": "Number"
                    },
                    {
                        "name": "Message"
                    }
                ]
            },
            "data": [
                {
                    "0": "547",
                    "1": "The INSERT statement conflicted with the FOREIGN KEY constraint \"FK_ACT_ARC\". The conflict occurred in database \"ImdbLike\", table \"data.Acteur_ACT\", column 'Id'."
                }
            ]
        },
        "text/html": [
            "<table>",
            "<tr><th>Number</th><th>Message</th></tr>",
            "<tr><td>547</td><td>The INSERT statement conflicted with the FOREIGN KEY constraint &quot;FK_ACT_ARC&quot;. The conflict occurred in database &quot;ImdbLike&quot;, table &quot;data.Acteur_ACT&quot;, column 'Id'.</td></tr>",
            "</table>"
        ]
    }
}
],
            "execution_count": null
        }
    ]
}