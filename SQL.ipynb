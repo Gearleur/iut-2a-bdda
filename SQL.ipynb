{
    "metadata": {
        "kernelspec": {
            "name": "SQL",
            "display_name": "SQL",
            "language": "sql"
        },
        "language_info": {
            "name": "sql",
            "version": ""
        }
    },
    "nbformat_minor": 2,
    "nbformat": 4,
    "cells": [
        {
            "cell_type": "markdown",
            "source": [
                "# SQL\n",
                "\n",
                "Nous utiliserons le dialecte Transact-SQL (T-SQL) : [https://docs.microsoft.com/fr-fr/sql/t-sql/language-reference?view=sql-server-ver15](https://docs.microsoft.com/fr-fr/sql/t-sql/language-reference?view=sql-server-ver15)  \n",
                "\n",
                "## Création BDD"
            ],
            "metadata": {
                "azdata_cell_guid": "39eb2948-7fb4-4509-a114-d754440c44e7"
            }
        },
        {
            "cell_type": "code",
            "source": [
                "IF (EXISTS (SELECT [name] FROM [master].[sys].[databases] WHERE [name] = 'ImdbLike'))\r\n",
                "    DROP DATABASE [ImdbLike]\r\n",
                "\r\n",
                "CREATE DATABASE [ImdbLike]\r\n",
                "\r\n",
                "GO\r\n",
                "\r\n",
                "USE [ImdbLike]"
            ],
            "metadata": {
                "azdata_cell_guid": "4eb14bb4-7c6c-46ef-94fa-572e2f681b5c"
            },
            "outputs": [
                {
                    "output_type": "display_data",
                    "data": {
                        "text/html": "Commands completed successfully."
                    },
                    "metadata": {}
                },
                {
                    "output_type": "display_data",
                    "data": {
                        "text/html": "Commands completed successfully."
                    },
                    "metadata": {}
                },
                {
                    "output_type": "display_data",
                    "data": {
                        "text/html": "Total execution time: 00:00:01"
                    },
                    "metadata": {}
                }
            ],
            "execution_count": 1
        },
        {
            "cell_type": "markdown",
            "source": [
                "## Schéma\n",
                "\n",
                "Un SGBD =\\> plusieurs BDD\n",
                "\n",
                "Une BDD =\\> Plusieurs schémas\n",
                "\n",
                "```\n",
                "SELECT [...] FROM [data].[Table]\n",
                "```\n",
                "\n",
                "Ici, `[data]` est le schéma de `[Table]`\n",
                "\n",
                "Les schémas servent à regrouper des tables de même nature =\\> on peut y affecter des droits (ex: `[ref]` (tables de référence) en RW pour l'admin mais lecture seule pour app, `[data]` (tables de données) en RW pour admin et app mais lecture seule pour le service compta)"
            ],
            "metadata": {
                "azdata_cell_guid": "4bfc1eef-4625-42a8-bc21-bcda88b54601"
            }
        },
        {
            "cell_type": "code",
            "source": [
                "CREATE SCHEMA [ref]\r\n",
                "\r\n",
                "GO\r\n",
                "\r\n",
                "CREATE SCHEMA [data]\r\n",
                "\r\n",
                "GO"
            ],
            "metadata": {
                "azdata_cell_guid": "35384325-b906-4a43-88ac-fde6b8b87e72"
            },
            "outputs": [
                {
                    "output_type": "display_data",
                    "data": {
                        "text/html": "Commands completed successfully."
                    },
                    "metadata": {}
                },
                {
                    "output_type": "display_data",
                    "data": {
                        "text/html": "Commands completed successfully."
                    },
                    "metadata": {}
                },
                {
                    "output_type": "display_data",
                    "data": {
                        "text/html": "Total execution time: 00:00:00.010"
                    },
                    "metadata": {}
                }
            ],
            "execution_count": 2
        },
        {
            "cell_type": "markdown",
            "source": [
                "## Création de table"
            ],
            "metadata": {
                "azdata_cell_guid": "d5a2fdbf-8de8-4ded-8403-f676702f4144"
            }
        },
        {
            "cell_type": "code",
            "source": [
                "CREATE TABLE [ref].[Genre_GRE] -- [ref] car lecture-seule pour app\r\n",
                "(\r\n",
                "    [Id] INT IDENTITY(1, 1) PRIMARY KEY,\r\n",
                "    [Nom] VARCHAR(25) NOT NULL\r\n",
                ")\r\n",
                "\r\n",
                "CREATE TABLE [data].[Film_FLM] -- [data] car lecture-écriture pour app\r\n",
                "(\r\n",
                "    [Id] BIGINT IDENTITY(1, 1),-- PRIMARY KEY, -- [Id] entier 64bits auto-incrément à partir de 1 par pas de 1, clé primaire\r\n",
                "    [Nom] NVARCHAR(80) NOT NULL, -- NVARCHAR gère l'encode, VARCHAR non -> prend 2x plus de place\r\n",
                "    [Descriptif] NVARCHAR(MAX) NOT NULL, -- Equivalent à TEXT -> remplacer TEXT par NVARCHAR\r\n",
                "    -- [Genre] VARCHAR(20) NOT NULL -> Non, on normalise\r\n",
                "    [GRE_Id] INT NOT NULL-- FOREIGN KEY REFERENCES [ref].[Genre_GRE]([Id])\r\n",
                "    CONSTRAINT PK_FLM PRIMARY KEY ([Id]) -- On privilégie cette syntaxe -> Contrainte nommée + clé composite\r\n",
                "    CONSTRAINT FK_FLM_GRE FOREIGN KEY ([GRE_Id]) REFERENCES [ref].[Genre_GRE]([Id])\r\n",
                ")\r\n",
                "\r\n",
                "CREATE TABLE [data].[Acteur_ACT] (\r\n",
                "    [Id] UNIQUEIDENTIFIER NOT NULL DEFAULT NEWID() PRIMARY KEY, -- Id 128bits sous forme de chaîne\r\n",
                "    [Nom] NVARCHAR(80) NOT NULL,\r\n",
                "    [Prenom] NVARCHAR(80) NOT NULL\r\n",
                ")\r\n",
                "\r\n",
                "CREATE TABLE [data].[FilmActeur_FAC] (\r\n",
                "    [FLM_Id] BIGINT NOT NULL,\r\n",
                "    [ACT_Id] UNIQUEIDENTIFIER NOT NULL\r\n",
                "    CONSTRAINT PK_FilmActeur PRIMARY KEY ([FLM_Id], [ACT_Id]),\r\n",
                "    CONSTRAINT FK_FilmActeur_Acteur FOREIGN KEY ([ACT_Id]) REFERENCES [data].[Acteur_ACT]([Id]),\r\n",
                "    CONSTRAINT FK_FilmActeur_Film FOREIGN KEY ([FLM_Id]) REFERENCES [data].[Film_FLM]([Id])\r\n",
                ")\r\n",
                ""
            ],
            "metadata": {
                "azdata_cell_guid": "a2b9eb5e-5b2a-4319-acc0-a661d45aa6c5"
            },
            "outputs": [
                {
                    "output_type": "display_data",
                    "data": {
                        "text/html": "Commands completed successfully."
                    },
                    "metadata": {}
                },
                {
                    "output_type": "display_data",
                    "data": {
                        "text/html": "Total execution time: 00:00:00.037"
                    },
                    "metadata": {}
                }
            ],
            "execution_count": 3
        },
        {
            "cell_type": "code",
            "source": [
                "SELECT NEWID()"
            ],
            "metadata": {
                "azdata_cell_guid": "609dcf3f-cc6a-472f-8338-c7aed4553115"
            },
            "outputs": [
                {
                    "output_type": "display_data",
                    "data": {
                        "text/html": "(1 row affected)"
                    },
                    "metadata": {}
                },
                {
                    "output_type": "display_data",
                    "data": {
                        "text/html": "Total execution time: 00:00:00.719"
                    },
                    "metadata": {}
                },
                {
                    "output_type": "execute_result",
                    "metadata": {
                        "resultSet": {
                            "id": 0,
                            "batchId": 0,
                            "rowCount": 1,
                            "complete": false,
                            "columnInfo": [
                                {
                                    "isBytes": false,
                                    "isChars": false,
                                    "isSqlVariant": false,
                                    "isUdt": false,
                                    "isXml": false,
                                    "isJson": false,
                                    "sqlDbType": 14,
                                    "isHierarchyId": false,
                                    "isSqlXmlType": false,
                                    "isUnknownType": false,
                                    "isUpdatable": false,
                                    "allowDBNull": true,
                                    "baseCatalogName": null,
                                    "baseColumnName": null,
                                    "baseSchemaName": null,
                                    "baseServerName": null,
                                    "baseTableName": null,
                                    "columnName": "(No column name)",
                                    "columnOrdinal": 0,
                                    "columnSize": 16,
                                    "isAliased": null,
                                    "isAutoIncrement": false,
                                    "isExpression": null,
                                    "isHidden": null,
                                    "isIdentity": false,
                                    "isKey": null,
                                    "isLong": false,
                                    "isReadOnly": true,
                                    "isUnique": false,
                                    "numericPrecision": 255,
                                    "numericScale": 255,
                                    "udtAssemblyQualifiedName": null,
                                    "dataType": "System.Guid, System.Private.CoreLib, Version=4.0.0.0, Culture=neutral, PublicKeyToken=7cec85d7bea7798e",
                                    "dataTypeName": "uniqueidentifier"
                                }
                            ],
                            "specialAction": null
                        }
                    },
                    "execution_count": 4,
                    "data": {
                        "application/vnd.dataresource+json": {
                            "schema": {
                                "fields": [
                                    {
                                        "name": "(No column name)"
                                    }
                                ]
                            },
                            "data": [
                                {
                                    "0": "8d4a2685-c584-40a3-9dad-6fc9504d98b9"
                                }
                            ]
                        },
                        "text/html": [
                            "<table>",
                            "<tr><th>(No column name)</th></tr>",
                            "<tr><td>8d4a2685-c584-40a3-9dad-6fc9504d98b9</td></tr>",
                            "</table>"
                        ]
                    }
                }
            ],
            "execution_count": 4
        },
        {
            "cell_type": "markdown",
            "source": [
                "## Modification de table\n",
                "\n",
                "### Exercice\n",
                "\n",
                "Modéliser des sociétés de production (ex: Lucas Film), les associées aux films (vous aurez besoin de l'instruction [`ALTER TABLE`](https://docs.microsoft.com/fr-fr/sql/t-sql/statements/alter-table-transact-sql?view=sql-server-ver15)). On partira du principe que un film possède une seule société de prod."
            ],
            "metadata": {
                "azdata_cell_guid": "34db6c0a-d744-4daa-8054-0306586567d5"
            }
        },
        {
            "cell_type": "code",
            "source": [
                "CREATE TABLE [data].[SocieteProd_SPR] (\r\n",
                "    [Id] BIGINT IDENTITY(1, 1) PRIMARY KEY,\r\n",
                "    [Nom] NVARCHAR(100) NOT NULL\r\n",
                ")\r\n",
                "\r\n",
                "GO\r\n",
                "\r\n",
                "ALTER TABLE [data].[Film_FLM]\r\n",
                "    ADD [SPR_Id] BIGINT NOT NULL\r\n",
                "    CONSTRAINT FK_FML_SPR FOREIGN KEY ([SPR_Id]) REFERENCES [data].[SocieteProd_SPR]([Id])\r\n",
                "\r\n",
                "GO\r\n",
                ""
            ],
            "metadata": {
                "azdata_cell_guid": "b1001b16-ac23-457e-b5d2-cc481683512f"
            },
            "outputs": [
                {
                    "output_type": "display_data",
                    "data": {
                        "text/html": "Commands completed successfully."
                    },
                    "metadata": {}
                },
                {
                    "output_type": "display_data",
                    "data": {
                        "text/html": "Commands completed successfully."
                    },
                    "metadata": {}
                },
                {
                    "output_type": "display_data",
                    "data": {
                        "text/html": "Total execution time: 00:00:00.016"
                    },
                    "metadata": {}
                }
            ],
            "execution_count": 5
        },
        {
            "cell_type": "markdown",
            "source": [
                "## Opérations CRUD\n",
                "\n",
                "Create, Read, Update, Delete\n",
                "\n",
                "  \n",
                "\n",
                "Create -\\> INSERT\n",
                "\n",
                "Read -\\> SELECT\n",
                "\n",
                "Update -\\> UPDATE\n",
                "\n",
                "Delete -\\> DELETE"
            ],
            "metadata": {
                "azdata_cell_guid": "9ccdbff5-e224-47ed-8e9c-4c246659699f"
            }
        },
        {
            "cell_type": "code",
            "source": [
                "INSERT INTO [ref].[Genre_GRE] ([Nom])\r\n",
                "VALUES ('Science Fiction'), ('Action'), ('Aventure')\r\n",
                "\r\n",
                "INSERT INTO [data].[SocieteProd_SPR] ([Nom])\r\n",
                "VALUES (N'Lucas Film'), (N'Gaumont')\r\n",
                "\r\n",
                "INSERT INTO [data].[Acteur_ACT] ([Nom], [Prenom])\r\n",
                "VALUES (N'Ford', N'Harrisson'), (N'Depp', N'Johny')"
            ],
            "metadata": {
                "azdata_cell_guid": "bc20f11d-c3d0-410d-9e8e-6fc026b3b4a1",
                "tags": []
            },
            "outputs": [
                {
                    "output_type": "display_data",
                    "data": {
                        "text/html": "(3 rows affected)"
                    },
                    "metadata": {}
                },
                {
                    "output_type": "display_data",
                    "data": {
                        "text/html": "(2 rows affected)"
                    },
                    "metadata": {}
                },
                {
                    "output_type": "display_data",
                    "data": {
                        "text/html": "(2 rows affected)"
                    },
                    "metadata": {}
                },
                {
                    "output_type": "display_data",
                    "data": {
                        "text/html": "Total execution time: 00:00:00.020"
                    },
                    "metadata": {}
                }
            ],
            "execution_count": 6
        },
        {
            "cell_type": "code",
            "source": [
                "INSERT INTO [data].[Film_FLM] ([Nom], [Descriptif], [GRE_Id], [SPR_Id])\r\n",
                "VALUES\r\n",
                "    (N'Indiana Jones', N'Descriptif du film', 3, 1),\r\n",
                "    (N'Pirates de Caraïbes', N'Descriptif de l''autre film', 2, 2)"
            ],
            "metadata": {
                "azdata_cell_guid": "64e4a61d-4429-43c7-91a8-3903085e1cd5"
            },
            "outputs": [
                {
                    "output_type": "display_data",
                    "data": {
                        "text/html": "(2 rows affected)"
                    },
                    "metadata": {}
                },
                {
                    "output_type": "display_data",
                    "data": {
                        "text/html": "Total execution time: 00:00:00.022"
                    },
                    "metadata": {}
                }
            ],
            "execution_count": 7
        },
        {
            "cell_type": "code",
            "source": [
                "INSERT INTO [data].[FilmActeur_FAC] ([ACT_Id], [FLM_Id])\r\n",
                "SELECT TOP 1 [Id], 1\r\n",
                "FROM [data].[Acteur_ACT]\r\n",
                "WHERE [Nom] = 'Ford'\r\n",
                "\r\n",
                "INSERT INTO [data].[FilmActeur_FAC] ([ACT_Id], [FLM_Id])\r\n",
                "SELECT TOP 1 [Id], 2\r\n",
                "FROM [data].[Acteur_ACT]\r\n",
                "WHERE [Nom] = 'Depp'"
            ],
            "metadata": {
                "azdata_cell_guid": "e8b677d1-8106-42d1-b2c1-2b7d3d7cd97b"
            },
            "outputs": [
                {
                    "output_type": "display_data",
                    "data": {
                        "text/html": "(1 row affected)"
                    },
                    "metadata": {}
                },
                {
                    "output_type": "display_data",
                    "data": {
                        "text/html": "(1 row affected)"
                    },
                    "metadata": {}
                },
                {
                    "output_type": "display_data",
                    "data": {
                        "text/html": "Total execution time: 00:00:00.032"
                    },
                    "metadata": {}
                }
            ],
            "execution_count": 8
        },
        {
            "cell_type": "code",
            "source": [
                "UPDATE [data].[Film_FLM]\r\n",
                "SET [Descriptif] = N'Film sur un archéologue'\r\n",
                "WHERE [Id] = 1\r\n",
                "\r\n",
                "UPDATE [data].[Film_FLM]\r\n",
                "SET [Descriptif] = N'Film de pirates'\r\n",
                "WHERE [Id] = 2\r\n",
                ""
            ],
            "metadata": {
                "azdata_cell_guid": "41237d16-1aa9-4221-8fa5-a744c711f047"
            },
            "outputs": [
                {
                    "output_type": "display_data",
                    "data": {
                        "text/html": "(1 row affected)"
                    },
                    "metadata": {}
                },
                {
                    "output_type": "display_data",
                    "data": {
                        "text/html": "(1 row affected)"
                    },
                    "metadata": {}
                },
                {
                    "output_type": "display_data",
                    "data": {
                        "text/html": "Total execution time: 00:00:00.010"
                    },
                    "metadata": {}
                }
            ],
            "execution_count": 9
        },
        {
            "cell_type": "code",
            "source": [
                "DELETE FROM [ref].[Genre_GRE]\r\n",
                "WHERE [Id] = 1"
            ],
            "metadata": {
                "azdata_cell_guid": "c2fce54a-9735-4f01-8174-fe88dd538267"
            },
            "outputs": [
                {
                    "output_type": "display_data",
                    "data": {
                        "text/html": "(1 row affected)"
                    },
                    "metadata": {}
                },
                {
                    "output_type": "display_data",
                    "data": {
                        "text/html": "Total execution time: 00:00:00.014"
                    },
                    "metadata": {}
                }
            ],
            "execution_count": 10
        },
        {
            "cell_type": "markdown",
            "source": [
                "## Vues\n",
                "\n",
                "Reppel jointures : https://sql.sh/cours/jointures"
            ],
            "metadata": {
                "azdata_cell_guid": "25b41984-c7d0-4064-8fcb-1ceca81efbbb"
            }
        },
        {
            "cell_type": "code",
            "source": [
                "SELECT [FLM].[Id], [FLM].[Nom], [GRE].[Nom] AS [Genre], [SPR].[Nom] AS [Société de prod]\r\n",
                "FROM [data].[Film_FLM] AS [FLM]\r\n",
                "INNER JOIN [ref].[Genre_GRE] AS [GRE] ON [FLM].[GRE_Id] = [GRE].[Id]\r\n",
                "INNER JOIN [data].[SocieteProd_SPR] AS [SPR] ON [FLM].[SPR_Id] = [SPR].[Id]"
            ],
            "metadata": {
                "azdata_cell_guid": "6cde94a2-1e82-48df-929e-755f0dcd576e"
            },
            "outputs": [
                {
                    "output_type": "display_data",
                    "data": {
                        "text/html": "(2 rows affected)"
                    },
                    "metadata": {}
                },
                {
                    "output_type": "display_data",
                    "data": {
                        "text/html": "Total execution time: 00:00:00.021"
                    },
                    "metadata": {}
                },
                {
                    "output_type": "execute_result",
                    "metadata": {
                        "resultSet": {
                            "id": 0,
                            "batchId": 0,
                            "rowCount": 2,
                            "complete": true,
                            "columnInfo": [
                                {
                                    "isBytes": false,
                                    "isChars": false,
                                    "isSqlVariant": false,
                                    "isUdt": false,
                                    "isXml": false,
                                    "isJson": false,
                                    "sqlDbType": 0,
                                    "isHierarchyId": false,
                                    "isSqlXmlType": false,
                                    "isUnknownType": false,
                                    "isUpdatable": false,
                                    "allowDBNull": false,
                                    "baseCatalogName": null,
                                    "baseColumnName": null,
                                    "baseSchemaName": null,
                                    "baseServerName": null,
                                    "baseTableName": null,
                                    "columnName": "Id",
                                    "columnOrdinal": 0,
                                    "columnSize": 8,
                                    "isAliased": null,
                                    "isAutoIncrement": true,
                                    "isExpression": null,
                                    "isHidden": null,
                                    "isIdentity": true,
                                    "isKey": null,
                                    "isLong": false,
                                    "isReadOnly": true,
                                    "isUnique": false,
                                    "numericPrecision": 19,
                                    "numericScale": 255,
                                    "udtAssemblyQualifiedName": null,
                                    "dataType": "System.Int64, System.Private.CoreLib, Version=4.0.0.0, Culture=neutral, PublicKeyToken=7cec85d7bea7798e",
                                    "dataTypeName": "bigint"
                                },
                                {
                                    "isBytes": false,
                                    "isChars": true,
                                    "isSqlVariant": false,
                                    "isUdt": false,
                                    "isXml": false,
                                    "isJson": false,
                                    "sqlDbType": 12,
                                    "isHierarchyId": false,
                                    "isSqlXmlType": false,
                                    "isUnknownType": false,
                                    "isUpdatable": true,
                                    "allowDBNull": false,
                                    "baseCatalogName": null,
                                    "baseColumnName": null,
                                    "baseSchemaName": null,
                                    "baseServerName": null,
                                    "baseTableName": null,
                                    "columnName": "Nom",
                                    "columnOrdinal": 1,
                                    "columnSize": 80,
                                    "isAliased": null,
                                    "isAutoIncrement": false,
                                    "isExpression": null,
                                    "isHidden": null,
                                    "isIdentity": false,
                                    "isKey": null,
                                    "isLong": false,
                                    "isReadOnly": false,
                                    "isUnique": false,
                                    "numericPrecision": 255,
                                    "numericScale": 255,
                                    "udtAssemblyQualifiedName": null,
                                    "dataType": "System.String, System.Private.CoreLib, Version=4.0.0.0, Culture=neutral, PublicKeyToken=7cec85d7bea7798e",
                                    "dataTypeName": "nvarchar"
                                },
                                {
                                    "isBytes": false,
                                    "isChars": true,
                                    "isSqlVariant": false,
                                    "isUdt": false,
                                    "isXml": false,
                                    "isJson": false,
                                    "sqlDbType": 22,
                                    "isHierarchyId": false,
                                    "isSqlXmlType": false,
                                    "isUnknownType": false,
                                    "isUpdatable": true,
                                    "allowDBNull": false,
                                    "baseCatalogName": null,
                                    "baseColumnName": null,
                                    "baseSchemaName": null,
                                    "baseServerName": null,
                                    "baseTableName": null,
                                    "columnName": "Genre",
                                    "columnOrdinal": 2,
                                    "columnSize": 25,
                                    "isAliased": null,
                                    "isAutoIncrement": false,
                                    "isExpression": null,
                                    "isHidden": null,
                                    "isIdentity": false,
                                    "isKey": null,
                                    "isLong": false,
                                    "isReadOnly": false,
                                    "isUnique": false,
                                    "numericPrecision": 255,
                                    "numericScale": 255,
                                    "udtAssemblyQualifiedName": null,
                                    "dataType": "System.String, System.Private.CoreLib, Version=4.0.0.0, Culture=neutral, PublicKeyToken=7cec85d7bea7798e",
                                    "dataTypeName": "varchar"
                                },
                                {
                                    "isBytes": false,
                                    "isChars": true,
                                    "isSqlVariant": false,
                                    "isUdt": false,
                                    "isXml": false,
                                    "isJson": false,
                                    "sqlDbType": 12,
                                    "isHierarchyId": false,
                                    "isSqlXmlType": false,
                                    "isUnknownType": false,
                                    "isUpdatable": true,
                                    "allowDBNull": false,
                                    "baseCatalogName": null,
                                    "baseColumnName": null,
                                    "baseSchemaName": null,
                                    "baseServerName": null,
                                    "baseTableName": null,
                                    "columnName": "Société de prod",
                                    "columnOrdinal": 3,
                                    "columnSize": 100,
                                    "isAliased": null,
                                    "isAutoIncrement": false,
                                    "isExpression": null,
                                    "isHidden": null,
                                    "isIdentity": false,
                                    "isKey": null,
                                    "isLong": false,
                                    "isReadOnly": false,
                                    "isUnique": false,
                                    "numericPrecision": 255,
                                    "numericScale": 255,
                                    "udtAssemblyQualifiedName": null,
                                    "dataType": "System.String, System.Private.CoreLib, Version=4.0.0.0, Culture=neutral, PublicKeyToken=7cec85d7bea7798e",
                                    "dataTypeName": "nvarchar"
                                }
                            ],
                            "specialAction": {
                                "none": true,
                                "expectYukonXMLShowPlan": false
                            }
                        }
                    },
                    "execution_count": 11,
                    "data": {
                        "application/vnd.dataresource+json": {
                            "schema": {
                                "fields": [
                                    {
                                        "name": "Id"
                                    },
                                    {
                                        "name": "Nom"
                                    },
                                    {
                                        "name": "Genre"
                                    },
                                    {
                                        "name": "Société de prod"
                                    }
                                ]
                            },
                            "data": [
                                {
                                    "0": "1",
                                    "1": "Indiana Jones",
                                    "2": "Aventure",
                                    "3": "Lucas Film"
                                },
                                {
                                    "0": "2",
                                    "1": "Pirates de Caraïbes",
                                    "2": "Action",
                                    "3": "Gaumont"
                                }
                            ]
                        },
                        "text/html": [
                            "<table>",
                            "<tr><th>Id</th><th>Nom</th><th>Genre</th><th>Société de prod</th></tr>",
                            "<tr><td>1</td><td>Indiana Jones</td><td>Aventure</td><td>Lucas Film</td></tr>",
                            "<tr><td>2</td><td>Pirates de Caraïbes</td><td>Action</td><td>Gaumont</td></tr>",
                            "</table>"
                        ]
                    }
                }
            ],
            "execution_count": 11
        },
        {
            "cell_type": "code",
            "source": [
                "CREATE OR ALTER VIEW [data].[FicheFilm]\r\n",
                "AS\r\n",
                "SELECT [FLM].[Id], [FLM].[Nom], [GRE].[Nom] AS [Genre], [SPR].[Nom] AS [Société de prod]\r\n",
                "FROM [data].[Film_FLM] AS [FLM]\r\n",
                "INNER JOIN [ref].[Genre_GRE] AS [GRE] ON [FLM].[GRE_Id] = [GRE].[Id]\r\n",
                "INNER JOIN [data].[SocieteProd_SPR] AS [SPR] ON [FLM].[SPR_Id] = [SPR].[Id]"
            ],
            "metadata": {
                "azdata_cell_guid": "ae76af15-793e-41d0-8971-d14c3d8a98fc"
            },
            "outputs": [
                {
                    "output_type": "display_data",
                    "data": {
                        "text/html": "Commands completed successfully."
                    },
                    "metadata": {}
                },
                {
                    "output_type": "display_data",
                    "data": {
                        "text/html": "Total execution time: 00:00:00.009"
                    },
                    "metadata": {}
                }
            ],
            "execution_count": 12
        },
        {
            "cell_type": "code",
            "source": [
                "SELECT [Id], [Nom], [Genre], [Société de prod]\r\n",
                "FROM [data].[FicheFilm]"
            ],
            "metadata": {
                "azdata_cell_guid": "d2273d9c-1d5a-405c-a6ad-c76f716ab35f"
            },
            "outputs": [
                {
                    "output_type": "display_data",
                    "data": {
                        "text/html": "(2 rows affected)"
                    },
                    "metadata": {}
                },
                {
                    "output_type": "display_data",
                    "data": {
                        "text/html": "Total execution time: 00:00:00.015"
                    },
                    "metadata": {}
                },
                {
                    "output_type": "execute_result",
                    "metadata": {
                        "resultSet": {
                            "id": 0,
                            "batchId": 0,
                            "rowCount": 2,
                            "complete": true,
                            "columnInfo": [
                                {
                                    "isBytes": false,
                                    "isChars": false,
                                    "isSqlVariant": false,
                                    "isUdt": false,
                                    "isXml": false,
                                    "isJson": false,
                                    "sqlDbType": 0,
                                    "isHierarchyId": false,
                                    "isSqlXmlType": false,
                                    "isUnknownType": false,
                                    "isUpdatable": true,
                                    "allowDBNull": false,
                                    "baseCatalogName": null,
                                    "baseColumnName": null,
                                    "baseSchemaName": null,
                                    "baseServerName": null,
                                    "baseTableName": null,
                                    "columnName": "Id",
                                    "columnOrdinal": 0,
                                    "columnSize": 8,
                                    "isAliased": null,
                                    "isAutoIncrement": false,
                                    "isExpression": null,
                                    "isHidden": null,
                                    "isIdentity": false,
                                    "isKey": null,
                                    "isLong": false,
                                    "isReadOnly": false,
                                    "isUnique": false,
                                    "numericPrecision": 19,
                                    "numericScale": 255,
                                    "udtAssemblyQualifiedName": null,
                                    "dataType": "System.Int64, System.Private.CoreLib, Version=4.0.0.0, Culture=neutral, PublicKeyToken=7cec85d7bea7798e",
                                    "dataTypeName": "bigint"
                                },
                                {
                                    "isBytes": false,
                                    "isChars": true,
                                    "isSqlVariant": false,
                                    "isUdt": false,
                                    "isXml": false,
                                    "isJson": false,
                                    "sqlDbType": 12,
                                    "isHierarchyId": false,
                                    "isSqlXmlType": false,
                                    "isUnknownType": false,
                                    "isUpdatable": true,
                                    "allowDBNull": false,
                                    "baseCatalogName": null,
                                    "baseColumnName": null,
                                    "baseSchemaName": null,
                                    "baseServerName": null,
                                    "baseTableName": null,
                                    "columnName": "Nom",
                                    "columnOrdinal": 1,
                                    "columnSize": 80,
                                    "isAliased": null,
                                    "isAutoIncrement": false,
                                    "isExpression": null,
                                    "isHidden": null,
                                    "isIdentity": false,
                                    "isKey": null,
                                    "isLong": false,
                                    "isReadOnly": false,
                                    "isUnique": false,
                                    "numericPrecision": 255,
                                    "numericScale": 255,
                                    "udtAssemblyQualifiedName": null,
                                    "dataType": "System.String, System.Private.CoreLib, Version=4.0.0.0, Culture=neutral, PublicKeyToken=7cec85d7bea7798e",
                                    "dataTypeName": "nvarchar"
                                },
                                {
                                    "isBytes": false,
                                    "isChars": true,
                                    "isSqlVariant": false,
                                    "isUdt": false,
                                    "isXml": false,
                                    "isJson": false,
                                    "sqlDbType": 22,
                                    "isHierarchyId": false,
                                    "isSqlXmlType": false,
                                    "isUnknownType": false,
                                    "isUpdatable": true,
                                    "allowDBNull": false,
                                    "baseCatalogName": null,
                                    "baseColumnName": null,
                                    "baseSchemaName": null,
                                    "baseServerName": null,
                                    "baseTableName": null,
                                    "columnName": "Genre",
                                    "columnOrdinal": 2,
                                    "columnSize": 25,
                                    "isAliased": null,
                                    "isAutoIncrement": false,
                                    "isExpression": null,
                                    "isHidden": null,
                                    "isIdentity": false,
                                    "isKey": null,
                                    "isLong": false,
                                    "isReadOnly": false,
                                    "isUnique": false,
                                    "numericPrecision": 255,
                                    "numericScale": 255,
                                    "udtAssemblyQualifiedName": null,
                                    "dataType": "System.String, System.Private.CoreLib, Version=4.0.0.0, Culture=neutral, PublicKeyToken=7cec85d7bea7798e",
                                    "dataTypeName": "varchar"
                                },
                                {
                                    "isBytes": false,
                                    "isChars": true,
                                    "isSqlVariant": false,
                                    "isUdt": false,
                                    "isXml": false,
                                    "isJson": false,
                                    "sqlDbType": 12,
                                    "isHierarchyId": false,
                                    "isSqlXmlType": false,
                                    "isUnknownType": false,
                                    "isUpdatable": true,
                                    "allowDBNull": false,
                                    "baseCatalogName": null,
                                    "baseColumnName": null,
                                    "baseSchemaName": null,
                                    "baseServerName": null,
                                    "baseTableName": null,
                                    "columnName": "Société de prod",
                                    "columnOrdinal": 3,
                                    "columnSize": 100,
                                    "isAliased": null,
                                    "isAutoIncrement": false,
                                    "isExpression": null,
                                    "isHidden": null,
                                    "isIdentity": false,
                                    "isKey": null,
                                    "isLong": false,
                                    "isReadOnly": false,
                                    "isUnique": false,
                                    "numericPrecision": 255,
                                    "numericScale": 255,
                                    "udtAssemblyQualifiedName": null,
                                    "dataType": "System.String, System.Private.CoreLib, Version=4.0.0.0, Culture=neutral, PublicKeyToken=7cec85d7bea7798e",
                                    "dataTypeName": "nvarchar"
                                }
                            ],
                            "specialAction": {
                                "none": true,
                                "expectYukonXMLShowPlan": false
                            }
                        }
                    },
                    "execution_count": 13,
                    "data": {
                        "application/vnd.dataresource+json": {
                            "schema": {
                                "fields": [
                                    {
                                        "name": "Id"
                                    },
                                    {
                                        "name": "Nom"
                                    },
                                    {
                                        "name": "Genre"
                                    },
                                    {
                                        "name": "Société de prod"
                                    }
                                ]
                            },
                            "data": [
                                {
                                    "0": "1",
                                    "1": "Indiana Jones",
                                    "2": "Aventure",
                                    "3": "Lucas Film"
                                },
                                {
                                    "0": "2",
                                    "1": "Pirates de Caraïbes",
                                    "2": "Action",
                                    "3": "Gaumont"
                                }
                            ]
                        },
                        "text/html": [
                            "<table>",
                            "<tr><th>Id</th><th>Nom</th><th>Genre</th><th>Société de prod</th></tr>",
                            "<tr><td>1</td><td>Indiana Jones</td><td>Aventure</td><td>Lucas Film</td></tr>",
                            "<tr><td>2</td><td>Pirates de Caraïbes</td><td>Action</td><td>Gaumont</td></tr>",
                            "</table>"
                        ]
                    }
                }
            ],
            "execution_count": 13
        },
        {
            "cell_type": "markdown",
            "source": [
                "### Exercice\n",
                "\n",
                "1\\. Insérer de nouveaux acteurs (4), genres, sociétés de prod (3) et de nouveaux films (5) dans vos tables (assignez des acteurs aux films).\n",
                "\n",
                "2\\. Créer une vue qui sort les acteurs avec leurs films associés (Nom de l'acteur, nom du film, genre du film, société de prod)"
            ],
            "metadata": {
                "azdata_cell_guid": "b7c58584-a737-46a1-bd07-37c792633335"
            }
        },
        {
            "cell_type": "code",
            "source": [
                "INSERT INTO [ref].[Genre_GRE] ([Nom])\r\n",
                "VALUES ('Horreur'), ('Science Fiction'), ('Comédie')\r\n",
                "\r\n",
                "INSERT INTO [data].[SocieteProd_SPR] ([Nom])\r\n",
                "VALUES (N'Disney'), (N'Netflix'), (N'Pathé')\r\n",
                "\r\n",
                "INSERT INTO [data].[Acteur_ACT] ([Nom], [Prenom])\r\n",
                "VALUES (N'De Niro', N'Robert'), (N'Fois', N'Marina'), (N'Cotillard', N'Marion'), (N'Nanty', N'Isabelle')\r\n",
                "\r\n",
                "INSERT INTO [data].[Film_FLM] ([Nom], [Descriptif], [GRE_Id], [SPR_Id])\r\n",
                "VALUES\r\n",
                "    (N'Les tuches', N'Description tuches', 6, 5),\r\n",
                "    (N'Batman', N'Descriptif Batman', 5, 4),\r\n",
                "    (N'Rrrrr', N'Descriptif Rrrrr', 6, 1),\r\n",
                "    (N'Casino', N'Descriptif Casino', 2, 1),\r\n",
                "    (N'Pirates de Caraïbes 2', N'Descriptif de l''autre film', 2, 3)"
            ],
            "metadata": {
                "azdata_cell_guid": "2e989682-19da-40a4-80ca-2bd40fc4817b",
                "tags": []
            },
            "outputs": [
                {
                    "output_type": "display_data",
                    "data": {
                        "text/html": "(3 rows affected)"
                    },
                    "metadata": {}
                },
                {
                    "output_type": "display_data",
                    "data": {
                        "text/html": "(3 rows affected)"
                    },
                    "metadata": {}
                },
                {
                    "output_type": "display_data",
                    "data": {
                        "text/html": "(4 rows affected)"
                    },
                    "metadata": {}
                },
                {
                    "output_type": "display_data",
                    "data": {
                        "text/html": "(5 rows affected)"
                    },
                    "metadata": {}
                },
                {
                    "output_type": "display_data",
                    "data": {
                        "text/html": "Total execution time: 00:00:00.028"
                    },
                    "metadata": {}
                }
            ],
            "execution_count": 14
        },
        {
            "cell_type": "code",
            "source": [
                "INSERT INTO [data].[FilmActeur_FAC] ([ACT_Id], [FLM_Id])\r\n",
                "SELECT TOP 1 [Id], 3\r\n",
                "FROM [data].[Acteur_ACT]\r\n",
                "WHERE [Nom] = 'Nanty'\r\n",
                "\r\n",
                "INSERT INTO [data].[FilmActeur_FAC] ([ACT_Id], [FLM_Id])\r\n",
                "SELECT TOP 1 [Id], 4\r\n",
                "FROM [data].[Acteur_ACT]\r\n",
                "WHERE [Nom] = 'Cotillard'\r\n",
                "\r\n",
                "INSERT INTO [data].[FilmActeur_FAC] ([ACT_Id], [FLM_Id])\r\n",
                "SELECT TOP 1 [Id], 5\r\n",
                "FROM [data].[Acteur_ACT]\r\n",
                "WHERE [Nom] = 'Fois'\r\n",
                "\r\n",
                "INSERT INTO [data].[FilmActeur_FAC] ([ACT_Id], [FLM_Id])\r\n",
                "SELECT TOP 1 [Id], 6\r\n",
                "FROM [data].[Acteur_ACT]\r\n",
                "WHERE [Nom] = 'De Niro'\r\n",
                "\r\n",
                "INSERT INTO [data].[FilmActeur_FAC] ([ACT_Id], [FLM_Id])\r\n",
                "SELECT TOP 1 [Id], 7\r\n",
                "FROM [data].[Acteur_ACT]\r\n",
                "WHERE [Nom] = 'Depp'"
            ],
            "metadata": {
                "azdata_cell_guid": "f1ad6713-273d-485e-affb-ed9ec3abb651"
            },
            "outputs": [
                {
                    "output_type": "display_data",
                    "data": {
                        "text/html": "(1 row affected)"
                    },
                    "metadata": {}
                },
                {
                    "output_type": "display_data",
                    "data": {
                        "text/html": "(1 row affected)"
                    },
                    "metadata": {}
                },
                {
                    "output_type": "display_data",
                    "data": {
                        "text/html": "(1 row affected)"
                    },
                    "metadata": {}
                },
                {
                    "output_type": "display_data",
                    "data": {
                        "text/html": "(1 row affected)"
                    },
                    "metadata": {}
                },
                {
                    "output_type": "display_data",
                    "data": {
                        "text/html": "(1 row affected)"
                    },
                    "metadata": {}
                },
                {
                    "output_type": "display_data",
                    "data": {
                        "text/html": "Total execution time: 00:00:00.037"
                    },
                    "metadata": {}
                }
            ],
            "execution_count": 15
        },
        {
            "cell_type": "code",
            "source": [
                "CREATE OR ALTER VIEW [data].[ViewActeursFilms] WITH SCHEMABINDING\r\n",
                "AS\r\n",
                "    SELECT [ACT].[Nom], [FLM].[Nom] AS [Film], [GRE].[Nom] AS [Genre], [SPR].[Nom] AS [Prod]\r\n",
                "    FROM [data].[Acteur_ACT] AS [ACT]\r\n",
                "    INNER JOIN [data].[FilmActeur_FAC] AS [FAC] ON [FAC].[ACT_Id] = [ACT].[Id]\r\n",
                "    INNER JOIN [data].[Film_FLM] AS [FLM] ON [FLM].[Id] = [FAC].[FLM_Id]\r\n",
                "    INNER JOIN [ref].[Genre_GRE] AS [GRE] ON [GRE].[Id] = [FLM].[GRE_Id]\r\n",
                "    INNER JOIN [data].[SocieteProd_SPR] AS [SPR] ON [SPR].[Id] = [FLM].[SPR_Id]"
            ],
            "metadata": {
                "azdata_cell_guid": "d29258aa-5304-494a-ae0d-33cc3fad738c"
            },
            "outputs": [
                {
                    "output_type": "display_data",
                    "data": {
                        "text/html": "Commands completed successfully."
                    },
                    "metadata": {}
                },
                {
                    "output_type": "display_data",
                    "data": {
                        "text/html": "Total execution time: 00:00:00.009"
                    },
                    "metadata": {}
                }
            ],
            "execution_count": 16
        },
        {
            "cell_type": "code",
            "source": [
                "SELECT [Nom], [Film], [Genre], [Prod] FROM [data].[ViewActeursFilms]\r\n",
                "ORDER BY [Nom]"
            ],
            "metadata": {
                "azdata_cell_guid": "2c987e79-72fb-4156-985a-58c7e2f318a4"
            },
            "outputs": [
                {
                    "output_type": "display_data",
                    "data": {
                        "text/html": "(7 rows affected)"
                    },
                    "metadata": {}
                },
                {
                    "output_type": "display_data",
                    "data": {
                        "text/html": "Total execution time: 00:00:00.035"
                    },
                    "metadata": {}
                },
                {
                    "output_type": "execute_result",
                    "metadata": {
                        "resultSet": {
                            "id": 0,
                            "batchId": 0,
                            "rowCount": 7,
                            "complete": true,
                            "columnInfo": [
                                {
                                    "isBytes": false,
                                    "isChars": true,
                                    "isSqlVariant": false,
                                    "isUdt": false,
                                    "isXml": false,
                                    "isJson": false,
                                    "sqlDbType": 12,
                                    "isHierarchyId": false,
                                    "isSqlXmlType": false,
                                    "isUnknownType": false,
                                    "isUpdatable": true,
                                    "allowDBNull": false,
                                    "baseCatalogName": null,
                                    "baseColumnName": null,
                                    "baseSchemaName": null,
                                    "baseServerName": null,
                                    "baseTableName": null,
                                    "columnName": "Nom",
                                    "columnOrdinal": 0,
                                    "columnSize": 80,
                                    "isAliased": null,
                                    "isAutoIncrement": false,
                                    "isExpression": null,
                                    "isHidden": null,
                                    "isIdentity": false,
                                    "isKey": null,
                                    "isLong": false,
                                    "isReadOnly": false,
                                    "isUnique": false,
                                    "numericPrecision": 255,
                                    "numericScale": 255,
                                    "udtAssemblyQualifiedName": null,
                                    "dataType": "System.String, System.Private.CoreLib, Version=4.0.0.0, Culture=neutral, PublicKeyToken=7cec85d7bea7798e",
                                    "dataTypeName": "nvarchar"
                                },
                                {
                                    "isBytes": false,
                                    "isChars": true,
                                    "isSqlVariant": false,
                                    "isUdt": false,
                                    "isXml": false,
                                    "isJson": false,
                                    "sqlDbType": 12,
                                    "isHierarchyId": false,
                                    "isSqlXmlType": false,
                                    "isUnknownType": false,
                                    "isUpdatable": true,
                                    "allowDBNull": false,
                                    "baseCatalogName": null,
                                    "baseColumnName": null,
                                    "baseSchemaName": null,
                                    "baseServerName": null,
                                    "baseTableName": null,
                                    "columnName": "Film",
                                    "columnOrdinal": 1,
                                    "columnSize": 80,
                                    "isAliased": null,
                                    "isAutoIncrement": false,
                                    "isExpression": null,
                                    "isHidden": null,
                                    "isIdentity": false,
                                    "isKey": null,
                                    "isLong": false,
                                    "isReadOnly": false,
                                    "isUnique": false,
                                    "numericPrecision": 255,
                                    "numericScale": 255,
                                    "udtAssemblyQualifiedName": null,
                                    "dataType": "System.String, System.Private.CoreLib, Version=4.0.0.0, Culture=neutral, PublicKeyToken=7cec85d7bea7798e",
                                    "dataTypeName": "nvarchar"
                                },
                                {
                                    "isBytes": false,
                                    "isChars": true,
                                    "isSqlVariant": false,
                                    "isUdt": false,
                                    "isXml": false,
                                    "isJson": false,
                                    "sqlDbType": 22,
                                    "isHierarchyId": false,
                                    "isSqlXmlType": false,
                                    "isUnknownType": false,
                                    "isUpdatable": true,
                                    "allowDBNull": false,
                                    "baseCatalogName": null,
                                    "baseColumnName": null,
                                    "baseSchemaName": null,
                                    "baseServerName": null,
                                    "baseTableName": null,
                                    "columnName": "Genre",
                                    "columnOrdinal": 2,
                                    "columnSize": 25,
                                    "isAliased": null,
                                    "isAutoIncrement": false,
                                    "isExpression": null,
                                    "isHidden": null,
                                    "isIdentity": false,
                                    "isKey": null,
                                    "isLong": false,
                                    "isReadOnly": false,
                                    "isUnique": false,
                                    "numericPrecision": 255,
                                    "numericScale": 255,
                                    "udtAssemblyQualifiedName": null,
                                    "dataType": "System.String, System.Private.CoreLib, Version=4.0.0.0, Culture=neutral, PublicKeyToken=7cec85d7bea7798e",
                                    "dataTypeName": "varchar"
                                },
                                {
                                    "isBytes": false,
                                    "isChars": true,
                                    "isSqlVariant": false,
                                    "isUdt": false,
                                    "isXml": false,
                                    "isJson": false,
                                    "sqlDbType": 12,
                                    "isHierarchyId": false,
                                    "isSqlXmlType": false,
                                    "isUnknownType": false,
                                    "isUpdatable": true,
                                    "allowDBNull": false,
                                    "baseCatalogName": null,
                                    "baseColumnName": null,
                                    "baseSchemaName": null,
                                    "baseServerName": null,
                                    "baseTableName": null,
                                    "columnName": "Prod",
                                    "columnOrdinal": 3,
                                    "columnSize": 100,
                                    "isAliased": null,
                                    "isAutoIncrement": false,
                                    "isExpression": null,
                                    "isHidden": null,
                                    "isIdentity": false,
                                    "isKey": null,
                                    "isLong": false,
                                    "isReadOnly": false,
                                    "isUnique": false,
                                    "numericPrecision": 255,
                                    "numericScale": 255,
                                    "udtAssemblyQualifiedName": null,
                                    "dataType": "System.String, System.Private.CoreLib, Version=4.0.0.0, Culture=neutral, PublicKeyToken=7cec85d7bea7798e",
                                    "dataTypeName": "nvarchar"
                                }
                            ],
                            "specialAction": {
                                "none": true,
                                "expectYukonXMLShowPlan": false
                            }
                        }
                    },
                    "execution_count": 17,
                    "data": {
                        "application/vnd.dataresource+json": {
                            "schema": {
                                "fields": [
                                    {
                                        "name": "Nom"
                                    },
                                    {
                                        "name": "Film"
                                    },
                                    {
                                        "name": "Genre"
                                    },
                                    {
                                        "name": "Prod"
                                    }
                                ]
                            },
                            "data": [
                                {
                                    "0": "Cotillard",
                                    "1": "Batman",
                                    "2": "Science Fiction",
                                    "3": "Netflix"
                                },
                                {
                                    "0": "De Niro",
                                    "1": "Casino",
                                    "2": "Action",
                                    "3": "Lucas Film"
                                },
                                {
                                    "0": "Depp",
                                    "1": "Pirates de Caraïbes 2",
                                    "2": "Action",
                                    "3": "Disney"
                                },
                                {
                                    "0": "Depp",
                                    "1": "Pirates de Caraïbes",
                                    "2": "Action",
                                    "3": "Gaumont"
                                },
                                {
                                    "0": "Fois",
                                    "1": "Rrrrr",
                                    "2": "Comédie",
                                    "3": "Lucas Film"
                                },
                                {
                                    "0": "Ford",
                                    "1": "Indiana Jones",
                                    "2": "Aventure",
                                    "3": "Lucas Film"
                                },
                                {
                                    "0": "Nanty",
                                    "1": "Les tuches",
                                    "2": "Comédie",
                                    "3": "Pathé"
                                }
                            ]
                        },
                        "text/html": [
                            "<table>",
                            "<tr><th>Nom</th><th>Film</th><th>Genre</th><th>Prod</th></tr>",
                            "<tr><td>Cotillard</td><td>Batman</td><td>Science Fiction</td><td>Netflix</td></tr>",
                            "<tr><td>De Niro</td><td>Casino</td><td>Action</td><td>Lucas Film</td></tr>",
                            "<tr><td>Depp</td><td>Pirates de Caraïbes 2</td><td>Action</td><td>Disney</td></tr>",
                            "<tr><td>Depp</td><td>Pirates de Caraïbes</td><td>Action</td><td>Gaumont</td></tr>",
                            "<tr><td>Fois</td><td>Rrrrr</td><td>Comédie</td><td>Lucas Film</td></tr>",
                            "<tr><td>Ford</td><td>Indiana Jones</td><td>Aventure</td><td>Lucas Film</td></tr>",
                            "<tr><td>Nanty</td><td>Les tuches</td><td>Comédie</td><td>Pathé</td></tr>",
                            "</table>"
                        ]
                    }
                }
            ],
            "execution_count": 17
        },
        {
            "cell_type": "markdown",
            "source": [
                "## Vues Matérialisées\n",
                "\n",
                "Une vue à un instant T écrite sur disque. =\\> Pas à jour en temps réel.\n",
                "\n",
                "Point fort : Vitesse de lecture instantanée\n",
                "\n",
                "Point faible : Mise à jour manuelle"
            ],
            "metadata": {
                "azdata_cell_guid": "670f4a2e-629a-48d6-aaa5-ca69b6039c90"
            }
        },
        {
            "cell_type": "markdown",
            "source": [
                "## Index\n",
                "\n",
                "Créer sur des tables ou des vues.\n",
                "\n",
                "Différents types d'index :\n",
                "\n",
                "\\- Gestion de contraintes (unicité d'une valeur)\n",
                "\n",
                "\\- Faciliter l'accès aux données\n",
                "\n",
                "\\- ..."
            ],
            "metadata": {
                "azdata_cell_guid": "129f8298-4934-4588-ac27-ed7d785c1051"
            }
        },
        {
            "cell_type": "code",
            "source": [
                "CREATE UNIQUE INDEX [IDX_Unique_GRE] ON [ref].[Genre_GRE]([Nom] DESC)"
            ],
            "metadata": {
                "azdata_cell_guid": "1d99d6cf-4def-458e-8510-57c4bb3ea8dd"
            },
            "outputs": [
                {
                    "output_type": "display_data",
                    "data": {
                        "text/html": "Commands completed successfully."
                    },
                    "metadata": {}
                },
                {
                    "output_type": "display_data",
                    "data": {
                        "text/html": "Total execution time: 00:00:00.015"
                    },
                    "metadata": {}
                }
            ],
            "execution_count": 18
        },
        {
            "cell_type": "code",
            "source": [
                "--INSERT INTO [ref].[Genre_GRE] ([Nom])\r\n",
                "--VALUES ('Horreur') -- Index unique, on a déjà la valeur -> erreur"
            ],
            "metadata": {
                "azdata_cell_guid": "fc31b7b0-6a85-4632-82f3-1ecb3585dc5f"
            },
            "outputs": [
                {
                    "output_type": "display_data",
                    "data": {
                        "text/html": "Commands completed successfully."
                    },
                    "metadata": {}
                },
                {
                    "output_type": "display_data",
                    "data": {
                        "text/html": "Total execution time: 00:00:00.003"
                    },
                    "metadata": {}
                }
            ],
            "execution_count": 19
        },
        {
            "cell_type": "code",
            "source": [
                "CREATE INDEX [IDX_Acteur_Id_Par_Nom] ON [data].[Acteur_ACT]([Nom], [Id])\r\n",
                "CREATE UNIQUE CLUSTERED INDEX [IDX_Vue_Acteur_Film] ON [data].[ViewActeursFilms]([Nom], [Film])"
            ],
            "metadata": {
                "azdata_cell_guid": "b83336c7-05e2-43c2-b6ba-c58aa2f16af0"
            },
            "outputs": [
                {
                    "output_type": "display_data",
                    "data": {
                        "text/html": "Commands completed successfully."
                    },
                    "metadata": {}
                },
                {
                    "output_type": "display_data",
                    "data": {
                        "text/html": "Total execution time: 00:00:00.026"
                    },
                    "metadata": {}
                }
            ],
            "execution_count": 20
        },
        {
            "cell_type": "code",
            "source": [
                "SELECT [Id]\r\n",
                "FROM [data].[Acteur_ACT]\r\n",
                "WHERE [Nom] = 'Depp'"
            ],
            "metadata": {
                "azdata_cell_guid": "aa4d11cc-6e29-46ee-813c-9b3f50d83124"
            },
            "outputs": [
                {
                    "output_type": "display_data",
                    "data": {
                        "text/html": "(1 row affected)"
                    },
                    "metadata": {}
                },
                {
                    "output_type": "display_data",
                    "data": {
                        "text/html": "Total execution time: 00:00:00.019"
                    },
                    "metadata": {}
                },
                {
                    "output_type": "execute_result",
                    "metadata": {
                        "resultSet": {
                            "id": 0,
                            "batchId": 0,
                            "rowCount": 1,
                            "complete": true,
                            "columnInfo": [
                                {
                                    "isBytes": false,
                                    "isChars": false,
                                    "isSqlVariant": false,
                                    "isUdt": false,
                                    "isXml": false,
                                    "isJson": false,
                                    "sqlDbType": 14,
                                    "isHierarchyId": false,
                                    "isSqlXmlType": false,
                                    "isUnknownType": false,
                                    "isUpdatable": true,
                                    "allowDBNull": false,
                                    "baseCatalogName": null,
                                    "baseColumnName": null,
                                    "baseSchemaName": null,
                                    "baseServerName": null,
                                    "baseTableName": null,
                                    "columnName": "Id",
                                    "columnOrdinal": 0,
                                    "columnSize": 16,
                                    "isAliased": null,
                                    "isAutoIncrement": false,
                                    "isExpression": null,
                                    "isHidden": null,
                                    "isIdentity": false,
                                    "isKey": null,
                                    "isLong": false,
                                    "isReadOnly": false,
                                    "isUnique": false,
                                    "numericPrecision": 255,
                                    "numericScale": 255,
                                    "udtAssemblyQualifiedName": null,
                                    "dataType": "System.Guid, System.Private.CoreLib, Version=4.0.0.0, Culture=neutral, PublicKeyToken=7cec85d7bea7798e",
                                    "dataTypeName": "uniqueidentifier"
                                }
                            ],
                            "specialAction": {
                                "none": true,
                                "expectYukonXMLShowPlan": false
                            }
                        }
                    },
                    "execution_count": 21,
                    "data": {
                        "application/vnd.dataresource+json": {
                            "schema": {
                                "fields": [
                                    {
                                        "name": "Id"
                                    }
                                ]
                            },
                            "data": [
                                {
                                    "0": "80e6e67c-d150-4b16-ad4d-7f9e69b1bc42"
                                }
                            ]
                        },
                        "text/html": [
                            "<table>",
                            "<tr><th>Id</th></tr>",
                            "<tr><td>80e6e67c-d150-4b16-ad4d-7f9e69b1bc42</td></tr>",
                            "</table>"
                        ]
                    }
                }
            ],
            "execution_count": 21
        },
        {
            "cell_type": "code",
            "source": [
                "SELECT [Film]\r\n",
                "FROM [data].[ViewActeursFilms]\r\n",
                "WHERE [Nom] = 'Depp'"
            ],
            "metadata": {
                "azdata_cell_guid": "c7140177-234e-4be9-8c74-eb8ac82e3014"
            },
            "outputs": [
                {
                    "output_type": "display_data",
                    "data": {
                        "text/html": "(2 rows affected)"
                    },
                    "metadata": {}
                },
                {
                    "output_type": "display_data",
                    "data": {
                        "text/html": "Total execution time: 00:00:00.014"
                    },
                    "metadata": {}
                },
                {
                    "output_type": "execute_result",
                    "metadata": {
                        "resultSet": {
                            "id": 0,
                            "batchId": 0,
                            "rowCount": 2,
                            "complete": true,
                            "columnInfo": [
                                {
                                    "isBytes": false,
                                    "isChars": true,
                                    "isSqlVariant": false,
                                    "isUdt": false,
                                    "isXml": false,
                                    "isJson": false,
                                    "sqlDbType": 12,
                                    "isHierarchyId": false,
                                    "isSqlXmlType": false,
                                    "isUnknownType": false,
                                    "isUpdatable": true,
                                    "allowDBNull": false,
                                    "baseCatalogName": null,
                                    "baseColumnName": null,
                                    "baseSchemaName": null,
                                    "baseServerName": null,
                                    "baseTableName": null,
                                    "columnName": "Film",
                                    "columnOrdinal": 0,
                                    "columnSize": 80,
                                    "isAliased": null,
                                    "isAutoIncrement": false,
                                    "isExpression": null,
                                    "isHidden": null,
                                    "isIdentity": false,
                                    "isKey": null,
                                    "isLong": false,
                                    "isReadOnly": false,
                                    "isUnique": false,
                                    "numericPrecision": 255,
                                    "numericScale": 255,
                                    "udtAssemblyQualifiedName": null,
                                    "dataType": "System.String, System.Private.CoreLib, Version=4.0.0.0, Culture=neutral, PublicKeyToken=7cec85d7bea7798e",
                                    "dataTypeName": "nvarchar"
                                }
                            ],
                            "specialAction": {
                                "none": true,
                                "expectYukonXMLShowPlan": false
                            }
                        }
                    },
                    "execution_count": 22,
                    "data": {
                        "application/vnd.dataresource+json": {
                            "schema": {
                                "fields": [
                                    {
                                        "name": "Film"
                                    }
                                ]
                            },
                            "data": [
                                {
                                    "0": "Pirates de Caraïbes"
                                },
                                {
                                    "0": "Pirates de Caraïbes 2"
                                }
                            ]
                        },
                        "text/html": [
                            "<table>",
                            "<tr><th>Film</th></tr>",
                            "<tr><td>Pirates de Caraïbes</td></tr>",
                            "<tr><td>Pirates de Caraïbes 2</td></tr>",
                            "</table>"
                        ]
                    }
                }
            ],
            "execution_count": 22
        },
        {
            "cell_type": "markdown",
            "source": [
                "## Fonctions\n",
                "\n",
                "2 types :\n",
                "\n",
                "\\- Natives\n",
                "\n",
                "\\- UDF (User Defined Functions)"
            ],
            "metadata": {
                "azdata_cell_guid": "3dafb307-7352-47a1-b7db-81cf9ea7789b"
            }
        },
        {
            "cell_type": "code",
            "source": [
                "SELECT TOP 1\r\n",
                "    GETDATE() AS [Date],\r\n",
                "    DATEADD(DAY, 2, GETDATE()) AS [Après demain],\r\n",
                "    DATEDIFF(DAY, DATEADD(MONTH, 2, GETDATE()), GETDATE()) AS [Diff deux mois],\r\n",
                "    CONCAT([Prenom], ' ', [Nom]) AS [Nom complet],\r\n",
                "    COALESCE(null, 'Test') AS [Coalesce]\r\n",
                "FROM [data].[Acteur_ACT]"
            ],
            "metadata": {
                "azdata_cell_guid": "1d13ca5b-5b36-440f-ba11-aa1659165874"
            },
            "outputs": [
                {
                    "output_type": "display_data",
                    "data": {
                        "text/html": "(1 row affected)"
                    },
                    "metadata": {}
                },
                {
                    "output_type": "display_data",
                    "data": {
                        "text/html": "Total execution time: 00:00:00.018"
                    },
                    "metadata": {}
                },
                {
                    "output_type": "execute_result",
                    "metadata": {
                        "resultSet": {
                            "id": 0,
                            "batchId": 0,
                            "rowCount": 1,
                            "complete": true,
                            "columnInfo": [
                                {
                                    "isBytes": false,
                                    "isChars": false,
                                    "isSqlVariant": false,
                                    "isUdt": false,
                                    "isXml": false,
                                    "isJson": false,
                                    "sqlDbType": 4,
                                    "isHierarchyId": false,
                                    "isSqlXmlType": false,
                                    "isUnknownType": false,
                                    "isUpdatable": false,
                                    "allowDBNull": false,
                                    "baseCatalogName": null,
                                    "baseColumnName": null,
                                    "baseSchemaName": null,
                                    "baseServerName": null,
                                    "baseTableName": null,
                                    "columnName": "Date",
                                    "columnOrdinal": 0,
                                    "columnSize": 8,
                                    "isAliased": null,
                                    "isAutoIncrement": false,
                                    "isExpression": null,
                                    "isHidden": null,
                                    "isIdentity": false,
                                    "isKey": null,
                                    "isLong": false,
                                    "isReadOnly": true,
                                    "isUnique": false,
                                    "numericPrecision": 23,
                                    "numericScale": 3,
                                    "udtAssemblyQualifiedName": null,
                                    "dataType": "System.DateTime, System.Private.CoreLib, Version=4.0.0.0, Culture=neutral, PublicKeyToken=7cec85d7bea7798e",
                                    "dataTypeName": "datetime"
                                },
                                {
                                    "isBytes": false,
                                    "isChars": false,
                                    "isSqlVariant": false,
                                    "isUdt": false,
                                    "isXml": false,
                                    "isJson": false,
                                    "sqlDbType": 4,
                                    "isHierarchyId": false,
                                    "isSqlXmlType": false,
                                    "isUnknownType": false,
                                    "isUpdatable": false,
                                    "allowDBNull": true,
                                    "baseCatalogName": null,
                                    "baseColumnName": null,
                                    "baseSchemaName": null,
                                    "baseServerName": null,
                                    "baseTableName": null,
                                    "columnName": "Après demain",
                                    "columnOrdinal": 1,
                                    "columnSize": 8,
                                    "isAliased": null,
                                    "isAutoIncrement": false,
                                    "isExpression": null,
                                    "isHidden": null,
                                    "isIdentity": false,
                                    "isKey": null,
                                    "isLong": false,
                                    "isReadOnly": true,
                                    "isUnique": false,
                                    "numericPrecision": 23,
                                    "numericScale": 3,
                                    "udtAssemblyQualifiedName": null,
                                    "dataType": "System.DateTime, System.Private.CoreLib, Version=4.0.0.0, Culture=neutral, PublicKeyToken=7cec85d7bea7798e",
                                    "dataTypeName": "datetime"
                                },
                                {
                                    "isBytes": false,
                                    "isChars": false,
                                    "isSqlVariant": false,
                                    "isUdt": false,
                                    "isXml": false,
                                    "isJson": false,
                                    "sqlDbType": 8,
                                    "isHierarchyId": false,
                                    "isSqlXmlType": false,
                                    "isUnknownType": false,
                                    "isUpdatable": false,
                                    "allowDBNull": true,
                                    "baseCatalogName": null,
                                    "baseColumnName": null,
                                    "baseSchemaName": null,
                                    "baseServerName": null,
                                    "baseTableName": null,
                                    "columnName": "Diff deux mois",
                                    "columnOrdinal": 2,
                                    "columnSize": 4,
                                    "isAliased": null,
                                    "isAutoIncrement": false,
                                    "isExpression": null,
                                    "isHidden": null,
                                    "isIdentity": false,
                                    "isKey": null,
                                    "isLong": false,
                                    "isReadOnly": true,
                                    "isUnique": false,
                                    "numericPrecision": 10,
                                    "numericScale": 255,
                                    "udtAssemblyQualifiedName": null,
                                    "dataType": "System.Int32, System.Private.CoreLib, Version=4.0.0.0, Culture=neutral, PublicKeyToken=7cec85d7bea7798e",
                                    "dataTypeName": "int"
                                },
                                {
                                    "isBytes": false,
                                    "isChars": true,
                                    "isSqlVariant": false,
                                    "isUdt": false,
                                    "isXml": false,
                                    "isJson": false,
                                    "sqlDbType": 12,
                                    "isHierarchyId": false,
                                    "isSqlXmlType": false,
                                    "isUnknownType": false,
                                    "isUpdatable": false,
                                    "allowDBNull": false,
                                    "baseCatalogName": null,
                                    "baseColumnName": null,
                                    "baseSchemaName": null,
                                    "baseServerName": null,
                                    "baseTableName": null,
                                    "columnName": "Nom complet",
                                    "columnOrdinal": 3,
                                    "columnSize": 161,
                                    "isAliased": null,
                                    "isAutoIncrement": false,
                                    "isExpression": null,
                                    "isHidden": null,
                                    "isIdentity": false,
                                    "isKey": null,
                                    "isLong": false,
                                    "isReadOnly": true,
                                    "isUnique": false,
                                    "numericPrecision": 255,
                                    "numericScale": 255,
                                    "udtAssemblyQualifiedName": null,
                                    "dataType": "System.String, System.Private.CoreLib, Version=4.0.0.0, Culture=neutral, PublicKeyToken=7cec85d7bea7798e",
                                    "dataTypeName": "nvarchar"
                                },
                                {
                                    "isBytes": false,
                                    "isChars": true,
                                    "isSqlVariant": false,
                                    "isUdt": false,
                                    "isXml": false,
                                    "isJson": false,
                                    "sqlDbType": 22,
                                    "isHierarchyId": false,
                                    "isSqlXmlType": false,
                                    "isUnknownType": false,
                                    "isUpdatable": false,
                                    "allowDBNull": false,
                                    "baseCatalogName": null,
                                    "baseColumnName": null,
                                    "baseSchemaName": null,
                                    "baseServerName": null,
                                    "baseTableName": null,
                                    "columnName": "Coalesce",
                                    "columnOrdinal": 4,
                                    "columnSize": 4,
                                    "isAliased": null,
                                    "isAutoIncrement": false,
                                    "isExpression": null,
                                    "isHidden": null,
                                    "isIdentity": false,
                                    "isKey": null,
                                    "isLong": false,
                                    "isReadOnly": true,
                                    "isUnique": false,
                                    "numericPrecision": 255,
                                    "numericScale": 255,
                                    "udtAssemblyQualifiedName": null,
                                    "dataType": "System.String, System.Private.CoreLib, Version=4.0.0.0, Culture=neutral, PublicKeyToken=7cec85d7bea7798e",
                                    "dataTypeName": "varchar"
                                }
                            ],
                            "specialAction": {
                                "none": true,
                                "expectYukonXMLShowPlan": false
                            }
                        }
                    },
                    "execution_count": 23,
                    "data": {
                        "application/vnd.dataresource+json": {
                            "schema": {
                                "fields": [
                                    {
                                        "name": "Date"
                                    },
                                    {
                                        "name": "Après demain"
                                    },
                                    {
                                        "name": "Diff deux mois"
                                    },
                                    {
                                        "name": "Nom complet"
                                    },
                                    {
                                        "name": "Coalesce"
                                    }
                                ]
                            },
                            "data": [
                                {
                                    "0": "2021-02-17 18:26:07.787",
                                    "1": "2021-02-19 18:26:07.787",
                                    "2": "-59",
                                    "3": "Robert De Niro",
                                    "4": "Test"
                                }
                            ]
                        },
                        "text/html": [
                            "<table>",
                            "<tr><th>Date</th><th>Après demain</th><th>Diff deux mois</th><th>Nom complet</th><th>Coalesce</th></tr>",
                            "<tr><td>2021-02-17 18:26:07.787</td><td>2021-02-19 18:26:07.787</td><td>-59</td><td>Robert De Niro</td><td>Test</td></tr>",
                            "</table>"
                        ]
                    }
                }
            ],
            "execution_count": 23
        },
        {
            "cell_type": "code",
            "source": [
                "CREATE FUNCTION [data].[fun_GetFilmParNomActeur](@Nom NVARCHAR(80))\r\n",
                "RETURNS NVARCHAR(80)\r\n",
                "AS\r\n",
                "BEGIN\r\n",
                "    DECLARE @Film NVARCHAR(80)\r\n",
                "\r\n",
                "    SELECT TOP 1  @Film = [Film]\r\n",
                "    FROM [data].[ViewActeursFilms]\r\n",
                "    WHERE [Nom] = @Nom\r\n",
                "\r\n",
                "    RETURN @Film\r\n",
                "END"
            ],
            "metadata": {
                "azdata_cell_guid": "dd9b8d9a-176c-496b-97b6-3481eb058e74"
            },
            "outputs": [
                {
                    "output_type": "display_data",
                    "data": {
                        "text/html": "Commands completed successfully."
                    },
                    "metadata": {}
                },
                {
                    "output_type": "display_data",
                    "data": {
                        "text/html": "Total execution time: 00:00:00.007"
                    },
                    "metadata": {}
                }
            ],
            "execution_count": 24
        },
        {
            "cell_type": "code",
            "source": [
                "SELECT [Nom], [data].[fun_GetFilmParNomActeur]([Nom]) AS [Film]\r\n",
                "FROM [data].[Acteur_ACT]"
            ],
            "metadata": {
                "azdata_cell_guid": "d163783f-45df-4a2f-9283-7a5c73f9967b",
                "tags": [
                    "hide_input"
                ]
            },
            "outputs": [
                {
                    "output_type": "display_data",
                    "data": {
                        "text/html": "(6 rows affected)"
                    },
                    "metadata": {}
                },
                {
                    "output_type": "display_data",
                    "data": {
                        "text/html": "Total execution time: 00:00:00.015"
                    },
                    "metadata": {}
                },
                {
                    "output_type": "execute_result",
                    "metadata": {
                        "resultSet": {
                            "id": 0,
                            "batchId": 0,
                            "rowCount": 6,
                            "complete": true,
                            "columnInfo": [
                                {
                                    "isBytes": false,
                                    "isChars": true,
                                    "isSqlVariant": false,
                                    "isUdt": false,
                                    "isXml": false,
                                    "isJson": false,
                                    "sqlDbType": 12,
                                    "isHierarchyId": false,
                                    "isSqlXmlType": false,
                                    "isUnknownType": false,
                                    "isUpdatable": true,
                                    "allowDBNull": false,
                                    "baseCatalogName": null,
                                    "baseColumnName": null,
                                    "baseSchemaName": null,
                                    "baseServerName": null,
                                    "baseTableName": null,
                                    "columnName": "Nom",
                                    "columnOrdinal": 0,
                                    "columnSize": 80,
                                    "isAliased": null,
                                    "isAutoIncrement": false,
                                    "isExpression": null,
                                    "isHidden": null,
                                    "isIdentity": false,
                                    "isKey": null,
                                    "isLong": false,
                                    "isReadOnly": false,
                                    "isUnique": false,
                                    "numericPrecision": 255,
                                    "numericScale": 255,
                                    "udtAssemblyQualifiedName": null,
                                    "dataType": "System.String, System.Private.CoreLib, Version=4.0.0.0, Culture=neutral, PublicKeyToken=7cec85d7bea7798e",
                                    "dataTypeName": "nvarchar"
                                },
                                {
                                    "isBytes": false,
                                    "isChars": true,
                                    "isSqlVariant": false,
                                    "isUdt": false,
                                    "isXml": false,
                                    "isJson": false,
                                    "sqlDbType": 12,
                                    "isHierarchyId": false,
                                    "isSqlXmlType": false,
                                    "isUnknownType": false,
                                    "isUpdatable": false,
                                    "allowDBNull": true,
                                    "baseCatalogName": null,
                                    "baseColumnName": null,
                                    "baseSchemaName": null,
                                    "baseServerName": null,
                                    "baseTableName": null,
                                    "columnName": "Film",
                                    "columnOrdinal": 1,
                                    "columnSize": 80,
                                    "isAliased": null,
                                    "isAutoIncrement": false,
                                    "isExpression": null,
                                    "isHidden": null,
                                    "isIdentity": false,
                                    "isKey": null,
                                    "isLong": false,
                                    "isReadOnly": true,
                                    "isUnique": false,
                                    "numericPrecision": 255,
                                    "numericScale": 255,
                                    "udtAssemblyQualifiedName": null,
                                    "dataType": "System.String, System.Private.CoreLib, Version=4.0.0.0, Culture=neutral, PublicKeyToken=7cec85d7bea7798e",
                                    "dataTypeName": "nvarchar"
                                }
                            ],
                            "specialAction": {
                                "none": true,
                                "expectYukonXMLShowPlan": false
                            }
                        }
                    },
                    "execution_count": 25,
                    "data": {
                        "application/vnd.dataresource+json": {
                            "schema": {
                                "fields": [
                                    {
                                        "name": "Nom"
                                    },
                                    {
                                        "name": "Film"
                                    }
                                ]
                            },
                            "data": [
                                {
                                    "0": "Cotillard",
                                    "1": "Batman"
                                },
                                {
                                    "0": "De Niro",
                                    "1": "Casino"
                                },
                                {
                                    "0": "Depp",
                                    "1": "Pirates de Caraïbes"
                                },
                                {
                                    "0": "Fois",
                                    "1": "Rrrrr"
                                },
                                {
                                    "0": "Ford",
                                    "1": "Indiana Jones"
                                },
                                {
                                    "0": "Nanty",
                                    "1": "Les tuches"
                                }
                            ]
                        },
                        "text/html": [
                            "<table>",
                            "<tr><th>Nom</th><th>Film</th></tr>",
                            "<tr><td>Cotillard</td><td>Batman</td></tr>",
                            "<tr><td>De Niro</td><td>Casino</td></tr>",
                            "<tr><td>Depp</td><td>Pirates de Caraïbes</td></tr>",
                            "<tr><td>Fois</td><td>Rrrrr</td></tr>",
                            "<tr><td>Ford</td><td>Indiana Jones</td></tr>",
                            "<tr><td>Nanty</td><td>Les tuches</td></tr>",
                            "</table>"
                        ]
                    }
                }
            ],
            "execution_count": 25
        },
        {
            "cell_type": "markdown",
            "source": [
                "## Exercice\n",
                "\n",
                "\\- Créez une table de référence récompenses avec les valeurs \"Oscar du meilleur acteur\", \"Oscar de la meilleure actrice\", \"Meilleure bande son\"\n",
                "\n",
                "\\- Faire en sorte qu'un film ou un acteur pluisse avoir 0 à n récompenses\n",
                "\n",
                "\\- Attribuer des récompenses à deux acteurs et deux films (si possible pas à un acteur du film)\n",
                "\n",
                "\\- Faire une vue indéxée qui permet de récupérer les récompenses des acteurs/films\n",
                "\n",
                "| Nom            | Récompense               |\n",
                "|----------------|--------------------------|\n",
                "| Robert De Niro | Oscar du meilleur acteur |\n",
                "| Les Tuches     | Meilleure bande son      |\n",
                "| Batman         | NULL                     |"
            ],
            "metadata": {
                "azdata_cell_guid": "bdcbb57e-57ed-4760-b05c-85af49e2d431"
            }
        }
    ]
}