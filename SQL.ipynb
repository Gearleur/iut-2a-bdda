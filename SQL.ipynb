{
    "metadata": {
        "kernelspec": {
            "name": "SQL",
            "display_name": "SQL",
            "language": "sql"
        },
        "language_info": {
            "name": "sql",
            "version": ""
        }
    },
    "nbformat_minor": 2,
    "nbformat": 4,
    "cells": [
        {
            "cell_type": "markdown",
            "source": [
                "# SQL\n",
                "\n",
                "Nous utiliserons le dialecte Transact-SQL (T-SQL) : [https://docs.microsoft.com/fr-fr/sql/t-sql/language-reference?view=sql-server-ver15](https://docs.microsoft.com/fr-fr/sql/t-sql/language-reference?view=sql-server-ver15)  \n",
                "\n",
                "## Création BDD"
            ],
            "metadata": {
                "azdata_cell_guid": "39eb2948-7fb4-4509-a114-d754440c44e7"
            }
        },
        {
            "cell_type": "code",
            "source": [
                "CREATE DATABASE [ImdbLike]\r\n",
                "\r\n",
                "GO\r\n",
                "\r\n",
                "USE [ImdbLike]"
            ],
            "metadata": {
                "azdata_cell_guid": "4eb14bb4-7c6c-46ef-94fa-572e2f681b5c"
            },
            "outputs": [],
            "execution_count": null
        },
        {
            "cell_type": "markdown",
            "source": [
                "## Schéma\n",
                "\n",
                "Un SGBD =\\> plusieurs BDD\n",
                "\n",
                "Une BDD =\\> Plusieurs schémas\n",
                "\n",
                "```\n",
                "SELECT [...] FROM [data].[Table]\n",
                "```\n",
                "\n",
                "Ici, `[data]` est le schéma de `[Table]`\n",
                "\n",
                "Les schémas servent à regrouper des tables de même nature =\\> on peut y affecter des droits (ex: `[ref]` en RW pour l'admin mais lecture seule pour app, `[data]` en RW pour admin et app mais lecture seule pour le service compta)"
            ],
            "metadata": {
                "azdata_cell_guid": "4bfc1eef-4625-42a8-bc21-bcda88b54601"
            }
        },
        {
            "cell_type": "code",
            "source": [
                "CREATE SCHEMA [ref]\r\n",
                "\r\n",
                "GO\r\n",
                "\r\n",
                "CREATE SCHEMA [data]\r\n",
                "\r\n",
                "GO"
            ],
            "metadata": {
                "azdata_cell_guid": "35384325-b906-4a43-88ac-fde6b8b87e72"
            },
            "outputs": [],
            "execution_count": null
        },
        {
            "cell_type": "markdown",
            "source": [
                "## Création de table"
            ],
            "metadata": {
                "azdata_cell_guid": "d5a2fdbf-8de8-4ded-8403-f676702f4144"
            }
        },
        {
            "cell_type": "code",
            "source": [
                "CREATE TABLE [ref].[Genre_GRE] -- [ref] car lecture-seule pour app\r\n",
                "(\r\n",
                "    [Id] INT IDENTITY(1, 1) PRIMARY KEY,\r\n",
                "    [Nom] VARCHAR(25) NOT NULL\r\n",
                ")\r\n",
                "\r\n",
                "CREATE TABLE [data].[Film_FLM] -- [data] car lecture-écriture pour app\r\n",
                "(\r\n",
                "    [Id] BIGINT IDENTITY(1, 1),-- PRIMARY KEY, -- [Id] entier 64bits auto-incrément à partir de 1 par pas de 1, clé primaire\r\n",
                "    [Nom] NVARCHAR(80) NOT NULL, -- NVARCHAR gère l'encode, VARCHAR non -> prend 2x plus de place\r\n",
                "    [Descriptif] NVARCHAR(MAX) NOT NULL, -- Equivalent à TEXT -> remplacer TEXT par NVARCHAR\r\n",
                "    -- [Genre] VARCHAR(20) NOT NULL -> Non, on normalise\r\n",
                "    [GRE_Id] INT NOT NULL-- FOREIGN KEY REFERENCES [ref].[Genre_GRE]([Id])\r\n",
                "    CONSTRAINT PK_FLM PRIMARY KEY ([Id]) -- On privilégie cette syntaxe -> Contrainte nommée + clé composite\r\n",
                "    CONSTRAINT FK_FLM_GRE FOREIGN KEY ([GRE_Id]) REFERENCES [ref].[Genre_GRE]([Id])\r\n",
                ")\r\n",
                "\r\n",
                "CREATE TABLE [data].[Acteur_ACT] (\r\n",
                "    [Id] UNIQUEIDENTIFIER NOT NULL DEFAULT NEWID() PRIMARY KEY, -- Id 128bits sous forme de chaîne\r\n",
                "    [Nom] NVARCHAR(80) NOT NULL,\r\n",
                "    [Prenom] NVARCHAR(80) NOT NULL\r\n",
                ")\r\n",
                "\r\n",
                "CREATE TABLE [data].[FilmActeur_FAC] (\r\n",
                "    [FLM_Id] BIGINT NOT NULL,\r\n",
                "    [ACT_Id] UNIQUEIDENTIFIER NOT NULL\r\n",
                "    CONSTRAINT PK_FilmActeur PRIMARY KEY ([FLM_Id], [ACT_Id]),\r\n",
                "    CONSTRAINT FK_FilmActeur_Acteur FOREIGN KEY ([ACT_Id]) REFERENCES [data].[Acteur_ACT]([Id]),\r\n",
                "    CONSTRAINT FK_FilmActeur_Film FOREIGN KEY ([FLM_Id]) REFERENCES [data].[Film_FLM]([Id])\r\n",
                ")\r\n",
                ""
            ],
            "metadata": {
                "azdata_cell_guid": "a2b9eb5e-5b2a-4319-acc0-a661d45aa6c5"
            },
            "outputs": [],
            "execution_count": null
        },
        {
            "cell_type": "code",
            "source": [
                "SELECT NEWID()"
            ],
            "metadata": {
                "azdata_cell_guid": "609dcf3f-cc6a-472f-8338-c7aed4553115"
            },
            "outputs": [],
            "execution_count": null
        },
        {
            "cell_type": "markdown",
            "source": [
                "## Modification de table\n",
                "\n",
                "### Exercice\n",
                "\n",
                "Modéliser des sociétés de production (ex: Lucas Film), les associées aux films (vous aurez besoin de l'instruction [`ALTER TABLE`](https://docs.microsoft.com/fr-fr/sql/t-sql/statements/alter-table-transact-sql?view=sql-server-ver15)). On partira du principe que un film possède une seule société de prod."
            ],
            "metadata": {
                "azdata_cell_guid": "34db6c0a-d744-4daa-8054-0306586567d5"
            }
        },
        {
            "cell_type": "code",
            "source": [
                "CREATE TABLE [data].[SocieteProd_SPR] (\r\n",
                "    [Id] BIGINT IDENTITY(1, 1) PRIMARY KEY,\r\n",
                "    [Nom] NVARCHAR(100) NOT NULL\r\n",
                ")\r\n",
                "\r\n",
                "GO\r\n",
                "\r\n",
                "ALTER TABLE [data].[Film_FLM]\r\n",
                "    ADD [SPR_Id] BIGINT NOT NULL\r\n",
                "    CONSTRAINT FK_FML_SPR FOREIGN KEY ([SPR_Id]) REFERENCES [data].[SocieteProd_SPR]([Id])\r\n",
                "\r\n",
                "GO\r\n",
                ""
            ],
            "metadata": {
                "azdata_cell_guid": "b1001b16-ac23-457e-b5d2-cc481683512f"
            },
            "outputs": [],
            "execution_count": null
        },
        {
            "cell_type": "markdown",
            "source": [
                "## Opérations CRUD\n",
                "\n",
                "Create, Read, Update, Delete\n",
                "\n",
                "  \n",
                "\n",
                "Create -\\> INSERT\n",
                "\n",
                "Read -\\> SELECT\n",
                "\n",
                "Update -\\> UPDATE\n",
                "\n",
                "Delete -\\> DELETE"
            ],
            "metadata": {
                "azdata_cell_guid": "9ccdbff5-e224-47ed-8e9c-4c246659699f"
            }
        },
        {
            "cell_type": "code",
            "source": [
                "INSERT INTO [ref].[Genre_GRE] ([Nom])\r\n",
                "VALUES ('Science Fiction'), ('Action'), ('Aventure')\r\n",
                "\r\n",
                "INSERT INTO [data].[SocieteProd_SPR] ([Nom])\r\n",
                "VALUES (N'Lucas Film'), (N'Gaumont')\r\n",
                "\r\n",
                "INSERT INTO [data].[Acteur_ACT] ([Nom], [Prenom])\r\n",
                "VALUES (N'Ford', N'Harrisson'), (N'Depp', N'Johny')"
            ],
            "metadata": {
                "azdata_cell_guid": "bc20f11d-c3d0-410d-9e8e-6fc026b3b4a1",
                "tags": []
            },
            "outputs": [],
            "execution_count": null
        },
        {
            "cell_type": "code",
            "source": [
                "INSERT INTO [data].[Film_FLM] ([Nom], [Descriptif], [GRE_Id], [SPR_Id])\r\n",
                "VALUES\r\n",
                "    (N'Indiana Jones', N'Descriptif du film', 3, 1),\r\n",
                "    (N'Pirates de Caraïbes', N'Descriptif de l''autre film', 2, 2)"
            ],
            "metadata": {
                "azdata_cell_guid": "64e4a61d-4429-43c7-91a8-3903085e1cd5"
            },
            "outputs": [],
            "execution_count": null
        },
        {
            "cell_type": "code",
            "source": [
                "INSERT INTO [data].[FilmActeur_FAC] ([ACT_Id], [FLM_Id])\r\n",
                "SELECT TOP 1 [Id], 1\r\n",
                "FROM [data].[Acteur_ACT]\r\n",
                "WHERE [Nom] = 'Ford'\r\n",
                "\r\n",
                "INSERT INTO [data].[FilmActeur_FAC] ([ACT_Id], [FLM_Id])\r\n",
                "SELECT TOP 1 [Id], 2\r\n",
                "FROM [data].[Acteur_ACT]\r\n",
                "WHERE [Nom] = 'Depp'"
            ],
            "metadata": {
                "azdata_cell_guid": "e8b677d1-8106-42d1-b2c1-2b7d3d7cd97b"
            },
            "outputs": [],
            "execution_count": null
        },
        {
            "cell_type": "code",
            "source": [
                "UPDATE [data].[Film_FLM]\r\n",
                "SET [Descriptif] = N'Film sur un archéologue'\r\n",
                "WHERE [Id] = 1\r\n",
                "\r\n",
                "UPDATE [data].[Film_FLM]\r\n",
                "SET [Descriptif] = N'Film de pirates'\r\n",
                "WHERE [Id] = 2\r\n",
                ""
            ],
            "metadata": {
                "azdata_cell_guid": "41237d16-1aa9-4221-8fa5-a744c711f047"
            },
            "outputs": [],
            "execution_count": null
        },
        {
            "cell_type": "code",
            "source": [
                "DELETE FROM [ref].[Genre_GRE]\r\n",
                "WHERE [Id] = 1"
            ],
            "metadata": {
                "azdata_cell_guid": "c2fce54a-9735-4f01-8174-fe88dd538267"
            },
            "outputs": [],
            "execution_count": null
        },
        {
            "cell_type": "markdown",
            "source": [
                "## Vues\n",
                "\n",
                "Reppel jointures : https://sql.sh/cours/jointures"
            ],
            "metadata": {
                "azdata_cell_guid": "25b41984-c7d0-4064-8fcb-1ceca81efbbb"
            }
        },
        {
            "cell_type": "code",
            "source": [
                "SELECT [FLM].[Id], [FLM].[Nom], [GRE].[Nom] AS [Genre], [SPR].[Nom] AS [Société de prod]\r\n",
                "FROM [data].[Film_FLM] AS [FLM]\r\n",
                "INNER JOIN [ref].[Genre_GRE] AS [GRE] ON [FLM].[GRE_Id] = [GRE].[Id]\r\n",
                "INNER JOIN [data].[SocieteProd_SPR] AS [SPR] ON [FLM].[SPR_Id] = [SPR].[Id]"
            ],
            "metadata": {
                "azdata_cell_guid": "6cde94a2-1e82-48df-929e-755f0dcd576e"
            },
            "outputs": [],
            "execution_count": null
        },
        {
            "cell_type": "code",
            "source": [
                "CREATE OR ALTER VIEW [data].[FicheFilm]\r\n",
                "AS\r\n",
                "SELECT [FLM].[Id], [FLM].[Nom], [GRE].[Nom] AS [Genre], [SPR].[Nom] AS [Société de prod]\r\n",
                "FROM [data].[Film_FLM] AS [FLM]\r\n",
                "INNER JOIN [ref].[Genre_GRE] AS [GRE] ON [FLM].[GRE_Id] = [GRE].[Id]\r\n",
                "INNER JOIN [data].[SocieteProd_SPR] AS [SPR] ON [FLM].[SPR_Id] = [SPR].[Id]"
            ],
            "metadata": {
                "azdata_cell_guid": "ae76af15-793e-41d0-8971-d14c3d8a98fc"
            },
            "outputs": [],
            "execution_count": null
        },
        {
            "cell_type": "code",
            "source": [
                "SELECT [Id], [Nom], [Genre], [Société de prod]\r\n",
                "FROM [data].[FicheFilm]"
            ],
            "metadata": {
                "azdata_cell_guid": "d2273d9c-1d5a-405c-a6ad-c76f716ab35f"
            },
            "outputs": [],
            "execution_count": null
        },
        {
            "cell_type": "markdown",
            "source": [
                "### Exercice\n",
                "\n",
                "1\\. Insérer de nouveaux acteurs (4), genres, sociétés de prod (3) et de nouveaux films (5) dans vos tables (assignez des acteurs aux films).\n",
                "\n",
                "2\\. Créer une vue qui sort les acteurs avec leurs films associés (Nom de l'acteur, nom du film, genre du film, société de prod)"
            ],
            "metadata": {
                "azdata_cell_guid": "b7c58584-a737-46a1-bd07-37c792633335"
            }
        }
    ]
}